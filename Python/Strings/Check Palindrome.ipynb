{
 "cells": [
  {
   "cell_type": "markdown",
   "id": "b7121317",
   "metadata": {},
   "source": [
    "# Check Palindrome\n",
    "Send Feedback\n",
    "Given a string, determine if it is a palindrome, considering only alphanumeric characters.\n",
    "Palindrome\n",
    "A palindrome is a word, number, phrase, or other sequences of characters which read the same backwards and forwards.\n",
    "Example:\n",
    "If the input string happens to be, \"malayalam\" then as we see that this word can be read the same as forward and backwards, it is said to be a valid palindrome.\n",
    "\n",
    "The expected output for this example will print, 'true'.\n",
    "From that being said, you are required to return a boolean value from the function that has been asked to implement.\n",
    "Input Format:\n",
    "The first and only line of input contains a string without any leading and trailing spaces. All the characters in the string would be in lower case.\n",
    "Output Format:\n",
    "The only line of output prints either 'true' or 'false'.\n",
    "Note:\n",
    "You are not required to print anything. It has already been taken care of.\n",
    "Constraints:\n",
    "0 <= N <= 10^6\n",
    "Where N is the length of the input string.\n",
    "\n",
    "Time Limit: 1 second\n",
    "Sample Input 1 :\n",
    "abcdcba\n",
    "Sample Output 1 :\n",
    "true \n",
    "Sample Input 2:\n",
    "coding\n",
    "Sample Output 2:\n",
    "false\n"
   ]
  },
  {
   "cell_type": "code",
   "execution_count": 3,
   "id": "155181a5",
   "metadata": {},
   "outputs": [
    {
     "name": "stdout",
     "output_type": "stream",
     "text": [
      "coding ninjas\n",
      "false\n"
     ]
    }
   ],
   "source": [
    "def check(n):\n",
    "    l=len(n)\n",
    "    for i in range(l//2):\n",
    "        if (n[i]!=n[l-1-i]):\n",
    "            return \"false\"\n",
    "    else:\n",
    "        return \"true\"\n",
    "n=input()\n",
    "r=check(n)\n",
    "print(r)\n"
   ]
  },
  {
   "cell_type": "code",
   "execution_count": 4,
   "id": "cf7a967a",
   "metadata": {},
   "outputs": [
    {
     "name": "stdout",
     "output_type": "stream",
     "text": [
      "abcdcba\n",
      "true\n"
     ]
    }
   ],
   "source": [
    "def check(n):\n",
    "    l=len(n)\n",
    "    for i in range(l//2):\n",
    "        if (n[i]!=n[l-1-i]):\n",
    "            return \"false\"\n",
    "    else:\n",
    "        return \"true\"\n",
    "n=input()\n",
    "r=check(n)\n",
    "print(r)\n"
   ]
  }
 ],
 "metadata": {
  "kernelspec": {
   "display_name": "Python 3",
   "language": "python",
   "name": "python3"
  },
  "language_info": {
   "codemirror_mode": {
    "name": "ipython",
    "version": 3
   },
   "file_extension": ".py",
   "mimetype": "text/x-python",
   "name": "python",
   "nbconvert_exporter": "python",
   "pygments_lexer": "ipython3",
   "version": "3.8.8"
  }
 },
 "nbformat": 4,
 "nbformat_minor": 5
}
