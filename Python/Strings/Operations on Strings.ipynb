{
 "cells": [
  {
   "cell_type": "markdown",
   "id": "39b8ce2c",
   "metadata": {},
   "source": [
    "# How to iterate on string"
   ]
  },
  {
   "cell_type": "code",
   "execution_count": 1,
   "id": "ba9496cc",
   "metadata": {},
   "outputs": [],
   "source": [
    "str=\"Hello World\""
   ]
  },
  {
   "cell_type": "code",
   "execution_count": 3,
   "id": "47b93a28",
   "metadata": {},
   "outputs": [
    {
     "name": "stdout",
     "output_type": "stream",
     "text": [
      "0\n"
     ]
    }
   ],
   "source": [
    "count=0\n",
    "for letter in str:\n",
    "    if(letter=='1'):\n",
    "        count=count+1 \n",
    "print(count)                       #3"
   ]
  },
  {
   "cell_type": "code",
   "execution_count": 4,
   "id": "1bfe6b51",
   "metadata": {},
   "outputs": [
    {
     "name": "stdout",
     "output_type": "stream",
     "text": [
      "0\n"
     ]
    }
   ],
   "source": [
    "count=0\n",
    "for i in range(len(str)):\n",
    "    if(str[i]=='1'):\n",
    "        count=count+1\n",
    "print(count)"
   ]
  },
  {
   "cell_type": "markdown",
   "id": "f4c0dbc3",
   "metadata": {},
   "source": [
    "In and Notin operation on string"
   ]
  },
  {
   "cell_type": "code",
   "execution_count": 5,
   "id": "0daef9f5",
   "metadata": {},
   "outputs": [],
   "source": [
    "str='hello'"
   ]
  },
  {
   "cell_type": "code",
   "execution_count": 6,
   "id": "6c35b944",
   "metadata": {},
   "outputs": [
    {
     "name": "stdout",
     "output_type": "stream",
     "text": [
      "yes it is a substring\n"
     ]
    }
   ],
   "source": [
    "if 'hel' in str:\n",
    "    print(\"yes it is a substring\")\n",
    "else:\n",
    "    print(\"No it is a substring\")"
   ]
  },
  {
   "cell_type": "markdown",
   "id": "deb9dc3b",
   "metadata": {},
   "source": [
    "# Comparision Operator on String"
   ]
  },
  {
   "cell_type": "markdown",
   "id": "36ac3c3f",
   "metadata": {},
   "source": [
    "=<=<>==!="
   ]
  },
  {
   "cell_type": "code",
   "execution_count": 8,
   "id": "e5f3e8d6",
   "metadata": {},
   "outputs": [],
   "source": [
    "a=\"Luffy\"==\"Luffy\""
   ]
  },
  {
   "cell_type": "code",
   "execution_count": 9,
   "id": "a1609810",
   "metadata": {},
   "outputs": [
    {
     "data": {
      "text/plain": [
       "True"
      ]
     },
     "execution_count": 9,
     "metadata": {},
     "output_type": "execute_result"
    }
   ],
   "source": [
    "a"
   ]
  },
  {
   "cell_type": "code",
   "execution_count": 10,
   "id": "8b30b378",
   "metadata": {},
   "outputs": [],
   "source": [
    "a=\"Luffy\">=\"Naruto\""
   ]
  },
  {
   "cell_type": "code",
   "execution_count": 11,
   "id": "510a6dc8",
   "metadata": {},
   "outputs": [
    {
     "data": {
      "text/plain": [
       "False"
      ]
     },
     "execution_count": 11,
     "metadata": {},
     "output_type": "execute_result"
    }
   ],
   "source": [
    "a"
   ]
  },
  {
   "cell_type": "code",
   "execution_count": 12,
   "id": "ca512456",
   "metadata": {},
   "outputs": [],
   "source": [
    "a=\"Goku\">=\"Naruto\""
   ]
  },
  {
   "cell_type": "code",
   "execution_count": 13,
   "id": "4b9bb2c7",
   "metadata": {},
   "outputs": [
    {
     "data": {
      "text/plain": [
       "False"
      ]
     },
     "execution_count": 13,
     "metadata": {},
     "output_type": "execute_result"
    }
   ],
   "source": [
    "a"
   ]
  },
  {
   "cell_type": "code",
   "execution_count": 14,
   "id": "cb5bfa95",
   "metadata": {},
   "outputs": [],
   "source": [
    "a=\"Naruto\">=\"Luffy\""
   ]
  },
  {
   "cell_type": "code",
   "execution_count": 15,
   "id": "fde22c18",
   "metadata": {},
   "outputs": [
    {
     "data": {
      "text/plain": [
       "True"
      ]
     },
     "execution_count": 15,
     "metadata": {},
     "output_type": "execute_result"
    }
   ],
   "source": [
    "a"
   ]
  },
  {
   "cell_type": "code",
   "execution_count": 16,
   "id": "802f3e76",
   "metadata": {},
   "outputs": [],
   "source": [
    "a=\"Luffy\">=\"Luffy\""
   ]
  },
  {
   "cell_type": "code",
   "execution_count": 17,
   "id": "c1e83d98",
   "metadata": {},
   "outputs": [
    {
     "data": {
      "text/plain": [
       "True"
      ]
     },
     "execution_count": 17,
     "metadata": {},
     "output_type": "execute_result"
    }
   ],
   "source": [
    "a\n"
   ]
  },
  {
   "cell_type": "code",
   "execution_count": 18,
   "id": "ba813c4d",
   "metadata": {},
   "outputs": [],
   "source": [
    "a=\"Goku\">=\"Naruto\""
   ]
  },
  {
   "cell_type": "code",
   "execution_count": 19,
   "id": "8cd5c26f",
   "metadata": {},
   "outputs": [
    {
     "data": {
      "text/plain": [
       "False"
      ]
     },
     "execution_count": 19,
     "metadata": {},
     "output_type": "execute_result"
    }
   ],
   "source": [
    "a"
   ]
  },
  {
   "cell_type": "code",
   "execution_count": 20,
   "id": "0e6b1ad8",
   "metadata": {},
   "outputs": [
    {
     "data": {
      "text/plain": [
       "True"
      ]
     },
     "execution_count": 20,
     "metadata": {},
     "output_type": "execute_result"
    }
   ],
   "source": [
    "\"Naruto\">=\"Goku\""
   ]
  },
  {
   "cell_type": "code",
   "execution_count": 21,
   "id": "2b1e4784",
   "metadata": {},
   "outputs": [
    {
     "data": {
      "text/plain": [
       "False"
      ]
     },
     "execution_count": 21,
     "metadata": {},
     "output_type": "execute_result"
    }
   ],
   "source": [
    "\"Luffy\">\"Naruto\""
   ]
  },
  {
   "cell_type": "code",
   "execution_count": 22,
   "id": "8873fc49",
   "metadata": {},
   "outputs": [
    {
     "data": {
      "text/plain": [
       "False"
      ]
     },
     "execution_count": 22,
     "metadata": {},
     "output_type": "execute_result"
    }
   ],
   "source": [
    "\"Luffy\"!=\"Luffy\""
   ]
  },
  {
   "cell_type": "code",
   "execution_count": 23,
   "id": "49125ae3",
   "metadata": {},
   "outputs": [
    {
     "data": {
      "text/plain": [
       "True"
      ]
     },
     "execution_count": 23,
     "metadata": {},
     "output_type": "execute_result"
    }
   ],
   "source": [
    "\"Luffy\"!=\"Naruto\""
   ]
  },
  {
   "cell_type": "code",
   "execution_count": 24,
   "id": "5830f6a9",
   "metadata": {},
   "outputs": [
    {
     "name": "stdout",
     "output_type": "stream",
     "text": [
      "False\n"
     ]
    }
   ],
   "source": [
    "a = \"abcdef\" == \"abcd\"\n",
    "print(a)"
   ]
  },
  {
   "cell_type": "code",
   "execution_count": 25,
   "id": "731f9ff7",
   "metadata": {},
   "outputs": [
    {
     "name": "stdout",
     "output_type": "stream",
     "text": [
      "True\n"
     ]
    }
   ],
   "source": [
    "a = \"abcdef\" >= \"abcd\"\n",
    "print(a)"
   ]
  },
  {
   "cell_type": "code",
   "execution_count": 26,
   "id": "a239d0d4",
   "metadata": {},
   "outputs": [
    {
     "name": "stdout",
     "output_type": "stream",
     "text": [
      "True\n"
     ]
    }
   ],
   "source": [
    "a = \"abce\" >= \"abcdef\"\n",
    "print(a)"
   ]
  },
  {
   "cell_type": "markdown",
   "id": "f2e25d85",
   "metadata": {},
   "source": [
    "# Operations on string"
   ]
  },
  {
   "cell_type": "markdown",
   "id": "99706a5f",
   "metadata": {},
   "source": [
    "Functions of string"
   ]
  },
  {
   "cell_type": "markdown",
   "id": "a92b0497",
   "metadata": {},
   "source": [
    "split"
   ]
  },
  {
   "cell_type": "code",
   "execution_count": 28,
   "id": "1421d786",
   "metadata": {},
   "outputs": [
    {
     "name": "stdout",
     "output_type": "stream",
     "text": [
      "['my', 'name', 'is', 'Luffy']\n"
     ]
    }
   ],
   "source": [
    "str=\"my name is Luffy\"\n",
    "li=str.split()\n",
    "print(li)"
   ]
  },
  {
   "cell_type": "code",
   "execution_count": 29,
   "id": "f731c2bf",
   "metadata": {},
   "outputs": [
    {
     "name": "stdout",
     "output_type": "stream",
     "text": [
      "['my,name,is,Luffy']\n"
     ]
    }
   ],
   "source": [
    "str=\"my,name,is,Luffy\"\n",
    "li=str.split()\n",
    "print(li)"
   ]
  },
  {
   "cell_type": "code",
   "execution_count": 30,
   "id": "10e1fd6c",
   "metadata": {},
   "outputs": [
    {
     "name": "stdout",
     "output_type": "stream",
     "text": [
      "['my', 'name', 'is', 'Luffy']\n"
     ]
    }
   ],
   "source": [
    "str=\"my,name,is,Luffy\"\n",
    "li=str.split(',')\n",
    "print(li)"
   ]
  },
  {
   "cell_type": "code",
   "execution_count": 32,
   "id": "a7b31895",
   "metadata": {},
   "outputs": [
    {
     "name": "stdout",
     "output_type": "stream",
     "text": [
      "['my', 'name', 'is,Luffy']\n"
     ]
    }
   ],
   "source": [
    "str=\"my,name,is,Luffy\"\n",
    "li=str.split(',',2)   \n",
    "print(li)"
   ]
  },
  {
   "cell_type": "code",
   "execution_count": 33,
   "id": "bf1477b1",
   "metadata": {},
   "outputs": [
    {
     "name": "stdout",
     "output_type": "stream",
     "text": [
      "['my', 'name,is,Luffy']\n"
     ]
    }
   ],
   "source": [
    "str=\"my,name,is,Luffy\"\n",
    "li=str.split(',',1)   \n",
    "print(li)"
   ]
  },
  {
   "cell_type": "markdown",
   "id": "4a7c3355",
   "metadata": {},
   "source": [
    "replace"
   ]
  },
  {
   "cell_type": "code",
   "execution_count": 34,
   "id": "39cf4ef4",
   "metadata": {},
   "outputs": [
    {
     "name": "stdout",
     "output_type": "stream",
     "text": [
      "My name is Naruto\n"
     ]
    }
   ],
   "source": [
    "str=\"My name is Naruto\"\n",
    "str.replace(\"Naruto\",\"Luffy\")\n",
    "print(str)"
   ]
  },
  {
   "cell_type": "code",
   "execution_count": 35,
   "id": "c4be62ff",
   "metadata": {},
   "outputs": [
    {
     "name": "stdout",
     "output_type": "stream",
     "text": [
      "My name is Luffy\n"
     ]
    }
   ],
   "source": [
    "str=\"My name is Naruto\"\n",
    "str=str.replace(\"Naruto\",\"Luffy\")\n",
    "print(str)"
   ]
  },
  {
   "cell_type": "code",
   "execution_count": 36,
   "id": "dd994bca",
   "metadata": {},
   "outputs": [
    {
     "name": "stdout",
     "output_type": "stream",
     "text": [
      "My name is Naruto\n"
     ]
    }
   ],
   "source": [
    "str=\"My name is Naruto\"\n",
    "str.replace(\"zoro\",\"Luffy\")\n",
    "print(str)"
   ]
  },
  {
   "cell_type": "code",
   "execution_count": 37,
   "id": "e73360c3",
   "metadata": {},
   "outputs": [
    {
     "name": "stdout",
     "output_type": "stream",
     "text": [
      "My name is Naruto Naruto Naruto\n"
     ]
    }
   ],
   "source": [
    "str=\"My name is Naruto Naruto Naruto\"\n",
    "str.replace(\"Naruto\",\"Luffy\")\n",
    "print(str)"
   ]
  },
  {
   "cell_type": "code",
   "execution_count": 40,
   "id": "1dbe709b",
   "metadata": {},
   "outputs": [
    {
     "name": "stdout",
     "output_type": "stream",
     "text": [
      "My name is Luffy Luffy Naruto\n"
     ]
    }
   ],
   "source": [
    "str=\"My name is Naruto Naruto Naruto\"\n",
    "str=str.replace(\"Naruto\",\"Luffy\",2)\n",
    "print(str)"
   ]
  },
  {
   "cell_type": "code",
   "execution_count": 41,
   "id": "35bfdab3",
   "metadata": {},
   "outputs": [
    {
     "name": "stdout",
     "output_type": "stream",
     "text": [
      "My name is Luffy Naruto Naruto\n"
     ]
    }
   ],
   "source": [
    "str=\"My name is Naruto Naruto Naruto\"\n",
    "str=str.replace(\"Naruto\",\"Luffy\",1)\n",
    "print(str)"
   ]
  },
  {
   "cell_type": "code",
   "execution_count": 43,
   "id": "4a1cfcad",
   "metadata": {},
   "outputs": [
    {
     "name": "stdout",
     "output_type": "stream",
     "text": [
      "My name is Luffy Luffy Naruto\n"
     ]
    }
   ],
   "source": [
    "str=\"My name is Naruto Naruto Naruto\"\n",
    "#str=str.replace(\"Naruto\",\"Luffy\")\n",
    "str=str.replace(\"Naruto\",\"Luffy\",2)\n",
    "print(str)"
   ]
  },
  {
   "cell_type": "markdown",
   "id": "264af72d",
   "metadata": {},
   "source": [
    "Find"
   ]
  },
  {
   "cell_type": "code",
   "execution_count": 44,
   "id": "386209fe",
   "metadata": {},
   "outputs": [
    {
     "name": "stdout",
     "output_type": "stream",
     "text": [
      "-1\n"
     ]
    }
   ],
   "source": [
    "str=\"My Name is zoro\"\n",
    "index=str.find(\"sa\")        #index is not present\n",
    "print(index)"
   ]
  },
  {
   "cell_type": "code",
   "execution_count": 45,
   "id": "5e9f7c4b",
   "metadata": {},
   "outputs": [
    {
     "name": "stdout",
     "output_type": "stream",
     "text": [
      "13\n"
     ]
    }
   ],
   "source": [
    "str=\"My Name is zoro\"\n",
    "index=str.find(\"ro\")        #index is present\n",
    "print(index)"
   ]
  },
  {
   "cell_type": "code",
   "execution_count": 46,
   "id": "b1a5d38f",
   "metadata": {},
   "outputs": [
    {
     "name": "stdout",
     "output_type": "stream",
     "text": [
      "13\n"
     ]
    }
   ],
   "source": [
    "str=\"My Name is zoro zoro\"\n",
    "index=str.find(\"ro\")        \n",
    "print(index)"
   ]
  },
  {
   "cell_type": "code",
   "execution_count": 53,
   "id": "112bc335",
   "metadata": {},
   "outputs": [
    {
     "name": "stdout",
     "output_type": "stream",
     "text": [
      "18\n"
     ]
    }
   ],
   "source": [
    "str=\"My name is parikh parikh\"\n",
    "index=str.find(\"par\",16,21)\n",
    "print(index)"
   ]
  },
  {
   "cell_type": "markdown",
   "id": "3b818755",
   "metadata": {},
   "source": [
    "Lower and Upper"
   ]
  },
  {
   "cell_type": "code",
   "execution_count": 54,
   "id": "546b6d81",
   "metadata": {},
   "outputs": [
    {
     "name": "stdout",
     "output_type": "stream",
     "text": [
      "my name is zoro\n",
      "MY NAME IS ZORO\n"
     ]
    }
   ],
   "source": [
    "str=\"my Name is zoro\"\n",
    "str=str.lower()\n",
    "print(str)\n",
    "str=str.upper()\n",
    "print(str)"
   ]
  },
  {
   "cell_type": "markdown",
   "id": "9a1122ec",
   "metadata": {},
   "source": [
    "startswith"
   ]
  },
  {
   "cell_type": "code",
   "execution_count": 55,
   "id": "91822fe8",
   "metadata": {},
   "outputs": [
    {
     "name": "stdout",
     "output_type": "stream",
     "text": [
      "False\n"
     ]
    }
   ],
   "source": [
    "str=\"My Name is sasuke\"\n",
    "ans=str.startswith(\"my nae\",11,25)\n",
    "print(ans)"
   ]
  },
  {
   "cell_type": "code",
   "execution_count": 59,
   "id": "d87d4f4e",
   "metadata": {},
   "outputs": [
    {
     "name": "stdout",
     "output_type": "stream",
     "text": [
      "False\n"
     ]
    }
   ],
   "source": [
    "str=\"My Name is naruto\"\n",
    "ans=str.startswith(\"my na\",11,25)\n",
    "print(ans)"
   ]
  },
  {
   "cell_type": "code",
   "execution_count": 61,
   "id": "dcc1d4f2",
   "metadata": {},
   "outputs": [
    {
     "name": "stdout",
     "output_type": "stream",
     "text": [
      "True\n"
     ]
    }
   ],
   "source": [
    "str=\"My Name Is parikh\"\n",
    "ans=str.startswith(\"pa\",11)\n",
    "print(ans)"
   ]
  },
  {
   "cell_type": "markdown",
   "id": "18490925",
   "metadata": {},
   "source": [
    "# Replace Character in string"
   ]
  },
  {
   "cell_type": "code",
   "execution_count": 75,
   "id": "267c485f",
   "metadata": {},
   "outputs": [
    {
     "name": "stdout",
     "output_type": "stream",
     "text": [
      "fdafdavxz\n"
     ]
    }
   ],
   "source": [
    "def replace(str,char1,char2):\n",
    "    newstr = \"\"\n",
    "    for char in str:\n",
    "        if(char == char1):\n",
    "            newstr += char2\n",
    "        else:\n",
    "            newstr += char\n",
    "    return newstr\n",
    "    \n",
    "str = \"fsafsavxz\"\n",
    "str = replace(str,'s','d')\n",
    "print(str)                              "
   ]
  },
  {
   "cell_type": "markdown",
   "id": "fee3b460",
   "metadata": {},
   "source": [
    "# Count Vowels,Consonants,Digits i..."
   ]
  },
  {
   "cell_type": "markdown",
   "id": "6038d32c",
   "metadata": {},
   "source": [
    "# Count in string"
   ]
  },
  {
   "cell_type": "markdown",
   "id": "b12ea331",
   "metadata": {},
   "source": [
    "# count number of vowels,consonants,digits and special characters in string"
   ]
  },
  {
   "cell_type": "code",
   "execution_count": 78,
   "id": "02b5a7fd",
   "metadata": {},
   "outputs": [
    {
     "data": {
      "text/plain": [
       "str"
      ]
     },
     "execution_count": 78,
     "metadata": {},
     "output_type": "execute_result"
    }
   ],
   "source": [
    "# def countInString(str):\n",
    "\n",
    "str=\"dkfnodhgfLDKONF1244t4554fFD4@FET34a\"\n",
    "type(str[0])\n",
    "# v,c,d,s=countInString(str)\n",
    "# print(v,c,d,s)"
   ]
  },
  {
   "cell_type": "code",
   "execution_count": 79,
   "id": "1e04d6bd",
   "metadata": {},
   "outputs": [
    {
     "name": "stdout",
     "output_type": "stream",
     "text": [
      "4 19 11 1\n"
     ]
    }
   ],
   "source": [
    "def countInString(str):\n",
    "    v,c,d,s=0,0,0,0\n",
    "    for char in str:\n",
    "        if((char>='a'and char <='z') or (char>='A' and char<='Z')):\n",
    "            \n",
    "            char=char.lower()\n",
    "            if(char=='a' or char =='e' or char == 'i' or char == 'o' or char=='u'):\n",
    "                v+=1\n",
    "            else:\n",
    "                c+=1\n",
    "        elif(char>='0' and char<='9'):\n",
    "            d+=1\n",
    "        else:\n",
    "            s+=1\n",
    "    return v,c,d,s\n",
    "                \n",
    "\n",
    "str=\"dkfnodhgfLDKONF1244t4554fFD4@FET34a\"\n",
    "type(str[0])\n",
    "v,c,d,s=countInString(str)\n",
    "print(v,c,d,s)"
   ]
  }
 ],
 "metadata": {
  "kernelspec": {
   "display_name": "Python 3",
   "language": "python",
   "name": "python3"
  },
  "language_info": {
   "codemirror_mode": {
    "name": "ipython",
    "version": 3
   },
   "file_extension": ".py",
   "mimetype": "text/x-python",
   "name": "python",
   "nbconvert_exporter": "python",
   "pygments_lexer": "ipython3",
   "version": "3.8.8"
  }
 },
 "nbformat": 4,
 "nbformat_minor": 5
}
