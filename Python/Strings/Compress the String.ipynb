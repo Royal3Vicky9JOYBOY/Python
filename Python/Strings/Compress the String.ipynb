{
 "cells": [
  {
   "cell_type": "markdown",
   "id": "4f704174",
   "metadata": {},
   "source": [
    "# Compress the String\n",
    "Send Feedback\n",
    "Write a program to do basic string compression. For a character which is consecutively repeated more than once, replace consecutive duplicate occurrences with the count of repetitions.\n",
    "Example:\n",
    "If a string has 'x' repeated 5 times, replace this \"xxxxx\" with \"x5\".\n",
    "\n",
    "The string is compressed only when the repeated character count is more than 1.\n",
    "Note:\n",
    "Consecutive count of every character in the input string is less than or equal to 9.\n",
    "Input Format:\n",
    "The first and only line of input contains a string without any leading and trailing spaces.\n",
    "Output Format:\n",
    "The output contains the string after compression printed in single line.\n",
    "Note:\n",
    "You are not required to print anything. It has already been taken care of. Just implement the given function.\n",
    "Constraints:\n",
    "0 <= N <= 10^6\n",
    "\n",
    "Where 'N' is the length of the input string.\n",
    "\n",
    "Time Limit: 1 sec\n",
    "Sample Input 1:\n",
    "aaabbccdsa\n",
    "Sample Output 1:\n",
    "a3b2c2dsa\n",
    "Explanation for Sample Output 1:\n",
    "In the given string 'a' is repeated 3 times, 'b' is repeated 2 times, 'c' is repeated 2 times and 'd', 's' and 'a' and occuring 1 time hence no compression for last 3 characters.\n",
    "Sample Input 2:\n",
    "aaabbcddeeeee\n",
    "Sample Output 2:\n",
    "a3b2cd2e5\n",
    "Explanation for Sample Output 2:\n",
    "In the given string 'a' is repeated 3 times, 'b' is repeated 2 times, 'c' is occuring single time, 'd' is repeating 2 times and 'e' is repeating 25times."
   ]
  },
  {
   "cell_type": "code",
   "execution_count": 3,
   "id": "7284283a",
   "metadata": {},
   "outputs": [
    {
     "name": "stdout",
     "output_type": "stream",
     "text": [
      "\n"
     ]
    }
   ],
   "source": [
    "from sys import stdin\n",
    "def getCompressedString(input) :\n",
    "\t# Write your code here.\n",
    "    i = 0\n",
    "    n = len(input)\n",
    "    ans = ''\n",
    "    while i < n:\n",
    "        ans = ans + input[i]\n",
    "        j = i+1\n",
    "        count = 1\n",
    "        while j < n and input[i] == input[j]:\n",
    "            j = j+1\n",
    "            count = count + 1\n",
    "        if count > 1:\n",
    "            ans = ans + str(count)\n",
    "        i = j\n",
    "    return ans\n",
    "\n",
    "# Main.\n",
    "string = stdin.readline().strip();\n",
    "ans = getCompressedString(string)\n",
    "print(ans)"
   ]
  }
 ],
 "metadata": {
  "kernelspec": {
   "display_name": "Python 3",
   "language": "python",
   "name": "python3"
  },
  "language_info": {
   "codemirror_mode": {
    "name": "ipython",
    "version": 3
   },
   "file_extension": ".py",
   "mimetype": "text/x-python",
   "name": "python",
   "nbconvert_exporter": "python",
   "pygments_lexer": "ipython3",
   "version": "3.8.8"
  }
 },
 "nbformat": 4,
 "nbformat_minor": 5
}
