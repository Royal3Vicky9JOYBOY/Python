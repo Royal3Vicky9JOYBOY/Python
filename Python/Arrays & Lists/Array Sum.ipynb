{
 "cells": [
  {
   "cell_type": "markdown",
   "id": "850d9aed",
   "metadata": {},
   "source": [
    "# Array Sum\n",
    "Send Feedback\n",
    "Given an array of length N, you need to find and print the sum of all elements of the array.\n",
    "Input Format :\n",
    "Line 1 : An Integer N i.e. size of array\n",
    "Line 2 : N integers which are elements of the array, separated by spaces\n",
    "Output Format :\n",
    "Sum\n",
    "Constraints :\n",
    "1 <= N <= 10^6\n",
    "Sample Input :\n",
    "3\n",
    "9 8 9\n",
    "Sample Output :\n",
    "26"
   ]
  },
  {
   "cell_type": "code",
   "execution_count": 1,
   "id": "f3066da3",
   "metadata": {},
   "outputs": [
    {
     "name": "stdout",
     "output_type": "stream",
     "text": [
      "3\n",
      "3 6 9\n",
      "18\n"
     ]
    }
   ],
   "source": [
    "n=int(input())\n",
    "num=[int(x) for x in input().split()]\n",
    "sum=0\n",
    "for ele in num:\n",
    "    sum+=ele\n",
    "print(sum)"
   ]
  }
 ],
 "metadata": {
  "kernelspec": {
   "display_name": "Python 3",
   "language": "python",
   "name": "python3"
  },
  "language_info": {
   "codemirror_mode": {
    "name": "ipython",
    "version": 3
   },
   "file_extension": ".py",
   "mimetype": "text/x-python",
   "name": "python",
   "nbconvert_exporter": "python",
   "pygments_lexer": "ipython3",
   "version": "3.8.8"
  }
 },
 "nbformat": 4,
 "nbformat_minor": 5
}
