{
 "cells": [
  {
   "cell_type": "markdown",
   "id": "75f51ddd",
   "metadata": {},
   "source": [
    "# Introduction To lists"
   ]
  },
  {
   "cell_type": "markdown",
   "id": "fd4a08d0",
   "metadata": {},
   "source": [
    "# lists\n",
    "*Arrays in c++/Java (u can have multiple elements of integers) 12345.(u can have multiple elements of characters'a''b''c''d''e' but you can't store  a,3.4,1.(Array can store Data of similar types.(Homogeneous)\n",
    "\n",
    "*Lists. U can store 1,2.4,\"Luffy\",3 Data can be different types (list can store multiples elements of different types).\n",
    "{Heterogeneous}\n"
   ]
  },
  {
   "cell_type": "markdown",
   "id": "e47a7948",
   "metadata": {},
   "source": [
    "# Operations on lists"
   ]
  },
  {
   "cell_type": "markdown",
   "id": "3b310a5d",
   "metadata": {},
   "source": [
    "# Create A List"
   ]
  },
  {
   "cell_type": "code",
   "execution_count": 256,
   "id": "842f4dfe",
   "metadata": {},
   "outputs": [],
   "source": [
    "li=[]"
   ]
  },
  {
   "cell_type": "code",
   "execution_count": 257,
   "id": "ea7c890b",
   "metadata": {},
   "outputs": [],
   "source": [
    "li=[1,2,3]"
   ]
  },
  {
   "cell_type": "code",
   "execution_count": 258,
   "id": "fe21484a",
   "metadata": {},
   "outputs": [
    {
     "data": {
      "text/plain": [
       "list"
      ]
     },
     "execution_count": 258,
     "metadata": {},
     "output_type": "execute_result"
    }
   ],
   "source": [
    "type(li)"
   ]
  },
  {
   "cell_type": "code",
   "execution_count": 259,
   "id": "121b1ff1",
   "metadata": {},
   "outputs": [],
   "source": [
    "li=(1,2,)\n"
   ]
  },
  {
   "cell_type": "code",
   "execution_count": 260,
   "id": "35d36860",
   "metadata": {},
   "outputs": [],
   "source": [
    "li=[1,2,\"Naruto\",3.4]\n",
    "  #(0,1,    2   ,3  )   "
   ]
  },
  {
   "cell_type": "code",
   "execution_count": 261,
   "id": "6a70736d",
   "metadata": {},
   "outputs": [
    {
     "data": {
      "text/plain": [
       "[1, 2, 'Naruto', 3.4]"
      ]
     },
     "execution_count": 261,
     "metadata": {},
     "output_type": "execute_result"
    }
   ],
   "source": [
    "li"
   ]
  },
  {
   "cell_type": "markdown",
   "id": "8c9e83fa",
   "metadata": {},
   "source": [
    "# Access and change elements in list"
   ]
  },
  {
   "cell_type": "code",
   "execution_count": 262,
   "id": "a11401b7",
   "metadata": {},
   "outputs": [
    {
     "data": {
      "text/plain": [
       "3.4"
      ]
     },
     "execution_count": 262,
     "metadata": {},
     "output_type": "execute_result"
    }
   ],
   "source": [
    "li[3]"
   ]
  },
  {
   "cell_type": "code",
   "execution_count": 263,
   "id": "4d133b43",
   "metadata": {},
   "outputs": [],
   "source": [
    "li[1]=3"
   ]
  },
  {
   "cell_type": "code",
   "execution_count": 264,
   "id": "470219b0",
   "metadata": {},
   "outputs": [
    {
     "data": {
      "text/plain": [
       "[1, 3, 'Naruto', 3.4]"
      ]
     },
     "execution_count": 264,
     "metadata": {},
     "output_type": "execute_result"
    }
   ],
   "source": [
    "li"
   ]
  },
  {
   "cell_type": "code",
   "execution_count": 265,
   "id": "afe3e309",
   "metadata": {},
   "outputs": [
    {
     "ename": "IndexError",
     "evalue": "list index out of range",
     "output_type": "error",
     "traceback": [
      "\u001b[1;31m---------------------------------------------------------------------------\u001b[0m",
      "\u001b[1;31mIndexError\u001b[0m                                Traceback (most recent call last)",
      "\u001b[1;32m<ipython-input-265-eaafe881b5d5>\u001b[0m in \u001b[0;36m<module>\u001b[1;34m\u001b[0m\n\u001b[1;32m----> 1\u001b[1;33m \u001b[0mli\u001b[0m\u001b[1;33m[\u001b[0m\u001b[1;36m4\u001b[0m\u001b[1;33m]\u001b[0m\u001b[1;33m\u001b[0m\u001b[1;33m\u001b[0m\u001b[0m\n\u001b[0m",
      "\u001b[1;31mIndexError\u001b[0m: list index out of range"
     ]
    }
   ],
   "source": [
    "li[4]"
   ]
  },
  {
   "cell_type": "code",
   "execution_count": 266,
   "id": "4d6f94dc",
   "metadata": {},
   "outputs": [
    {
     "ename": "IndexError",
     "evalue": "list assignment index out of range",
     "output_type": "error",
     "traceback": [
      "\u001b[1;31m---------------------------------------------------------------------------\u001b[0m",
      "\u001b[1;31mIndexError\u001b[0m                                Traceback (most recent call last)",
      "\u001b[1;32m<ipython-input-266-5d6e8b6e1d48>\u001b[0m in \u001b[0;36m<module>\u001b[1;34m\u001b[0m\n\u001b[1;32m----> 1\u001b[1;33m \u001b[0mli\u001b[0m\u001b[1;33m[\u001b[0m\u001b[1;36m4\u001b[0m\u001b[1;33m]\u001b[0m\u001b[1;33m=\u001b[0m\u001b[1;36m6\u001b[0m\u001b[1;33m\u001b[0m\u001b[1;33m\u001b[0m\u001b[0m\n\u001b[0m",
      "\u001b[1;31mIndexError\u001b[0m: list assignment index out of range"
     ]
    }
   ],
   "source": [
    "li[4]=6"
   ]
  },
  {
   "cell_type": "markdown",
   "id": "36e4c586",
   "metadata": {},
   "source": [
    "# Slicing of A List"
   ]
  },
  {
   "cell_type": "code",
   "execution_count": 267,
   "id": "10701245",
   "metadata": {},
   "outputs": [
    {
     "data": {
      "text/plain": [
       "[3, 'Naruto']"
      ]
     },
     "execution_count": 267,
     "metadata": {},
     "output_type": "execute_result"
    }
   ],
   "source": [
    "li[1:3]"
   ]
  },
  {
   "cell_type": "code",
   "execution_count": 268,
   "id": "a409959a",
   "metadata": {},
   "outputs": [
    {
     "data": {
      "text/plain": [
       "[1, 3, 'Naruto', 3.4]"
      ]
     },
     "execution_count": 268,
     "metadata": {},
     "output_type": "execute_result"
    }
   ],
   "source": [
    "li"
   ]
  },
  {
   "cell_type": "code",
   "execution_count": 269,
   "id": "3e2f92cf",
   "metadata": {},
   "outputs": [
    {
     "data": {
      "text/plain": [
       "[3, 'Naruto', 3.4]"
      ]
     },
     "execution_count": 269,
     "metadata": {},
     "output_type": "execute_result"
    }
   ],
   "source": [
    "li[1:]"
   ]
  },
  {
   "cell_type": "code",
   "execution_count": 270,
   "id": "74d70714",
   "metadata": {},
   "outputs": [
    {
     "data": {
      "text/plain": [
       "[1, 3, 'Naruto', 3.4]"
      ]
     },
     "execution_count": 270,
     "metadata": {},
     "output_type": "execute_result"
    }
   ],
   "source": [
    "li[:]\n"
   ]
  },
  {
   "cell_type": "code",
   "execution_count": 271,
   "id": "9777bc94",
   "metadata": {},
   "outputs": [
    {
     "data": {
      "text/plain": [
       "[3, 'Naruto', 3.4]"
      ]
     },
     "execution_count": 271,
     "metadata": {},
     "output_type": "execute_result"
    }
   ],
   "source": [
    "li[1:10]"
   ]
  },
  {
   "cell_type": "markdown",
   "id": "775f8232",
   "metadata": {},
   "source": [
    "# Insert and Append Elements in List"
   ]
  },
  {
   "cell_type": "code",
   "execution_count": 272,
   "id": "5cf59125",
   "metadata": {},
   "outputs": [
    {
     "data": {
      "text/plain": [
       "[1, 3, 'Naruto', 3.4]"
      ]
     },
     "execution_count": 272,
     "metadata": {},
     "output_type": "execute_result"
    }
   ],
   "source": [
    "li"
   ]
  },
  {
   "cell_type": "code",
   "execution_count": 273,
   "id": "f0634a65",
   "metadata": {},
   "outputs": [],
   "source": [
    "li.append(\"Luffy\")"
   ]
  },
  {
   "cell_type": "code",
   "execution_count": 274,
   "id": "a97de6e5",
   "metadata": {},
   "outputs": [
    {
     "data": {
      "text/plain": [
       "[1, 3, 'Naruto', 3.4, 'Luffy']"
      ]
     },
     "execution_count": 274,
     "metadata": {},
     "output_type": "execute_result"
    }
   ],
   "source": [
    "li"
   ]
  },
  {
   "cell_type": "code",
   "execution_count": 275,
   "id": "5657e776",
   "metadata": {},
   "outputs": [],
   "source": [
    "li.insert(1,3)"
   ]
  },
  {
   "cell_type": "code",
   "execution_count": 276,
   "id": "cf880467",
   "metadata": {},
   "outputs": [
    {
     "data": {
      "text/plain": [
       "[1, 3, 3, 'Naruto', 3.4, 'Luffy']"
      ]
     },
     "execution_count": 276,
     "metadata": {},
     "output_type": "execute_result"
    }
   ],
   "source": [
    "li"
   ]
  },
  {
   "cell_type": "code",
   "execution_count": 277,
   "id": "e95fe94a",
   "metadata": {},
   "outputs": [],
   "source": [
    "li.insert(9,\"Goku\")"
   ]
  },
  {
   "cell_type": "code",
   "execution_count": 278,
   "id": "61573c95",
   "metadata": {},
   "outputs": [
    {
     "data": {
      "text/plain": [
       "[1, 3, 3, 'Naruto', 3.4, 'Luffy', 'Goku']"
      ]
     },
     "execution_count": 278,
     "metadata": {},
     "output_type": "execute_result"
    }
   ],
   "source": [
    "li"
   ]
  },
  {
   "cell_type": "code",
   "execution_count": 279,
   "id": "3ab9a04f",
   "metadata": {},
   "outputs": [],
   "source": [
    "li.append([3,6,9])"
   ]
  },
  {
   "cell_type": "code",
   "execution_count": 280,
   "id": "cc3ab63a",
   "metadata": {},
   "outputs": [
    {
     "data": {
      "text/plain": [
       "[1, 3, 3, 'Naruto', 3.4, 'Luffy', 'Goku', [3, 6, 9]]"
      ]
     },
     "execution_count": 280,
     "metadata": {},
     "output_type": "execute_result"
    }
   ],
   "source": [
    "li"
   ]
  },
  {
   "cell_type": "code",
   "execution_count": 281,
   "id": "9826aeab",
   "metadata": {},
   "outputs": [],
   "source": [
    "li.extend([3,6,9])"
   ]
  },
  {
   "cell_type": "code",
   "execution_count": 282,
   "id": "fe967908",
   "metadata": {},
   "outputs": [
    {
     "data": {
      "text/plain": [
       "[1, 3, 3, 'Naruto', 3.4, 'Luffy', 'Goku', [3, 6, 9], 3, 6, 9]"
      ]
     },
     "execution_count": 282,
     "metadata": {},
     "output_type": "execute_result"
    }
   ],
   "source": [
    "li"
   ]
  },
  {
   "cell_type": "markdown",
   "id": "cb1645f2",
   "metadata": {},
   "source": [
    "# Removing Elements From List"
   ]
  },
  {
   "cell_type": "code",
   "execution_count": 283,
   "id": "23d24cb8",
   "metadata": {},
   "outputs": [],
   "source": [
    "li.remove(3)"
   ]
  },
  {
   "cell_type": "code",
   "execution_count": 284,
   "id": "415805ad",
   "metadata": {},
   "outputs": [
    {
     "data": {
      "text/plain": [
       "[1, 3, 'Naruto', 3.4, 'Luffy', 'Goku', [3, 6, 9], 3, 6, 9]"
      ]
     },
     "execution_count": 284,
     "metadata": {},
     "output_type": "execute_result"
    }
   ],
   "source": [
    "li"
   ]
  },
  {
   "cell_type": "code",
   "execution_count": 285,
   "id": "330f9968",
   "metadata": {},
   "outputs": [],
   "source": [
    "li.append(6)"
   ]
  },
  {
   "cell_type": "code",
   "execution_count": 286,
   "id": "6b3e9e19",
   "metadata": {},
   "outputs": [
    {
     "data": {
      "text/plain": [
       "[1, 3, 'Naruto', 3.4, 'Luffy', 'Goku', [3, 6, 9], 3, 6, 9, 6]"
      ]
     },
     "execution_count": 286,
     "metadata": {},
     "output_type": "execute_result"
    }
   ],
   "source": [
    "li"
   ]
  },
  {
   "cell_type": "code",
   "execution_count": 287,
   "id": "c9ad7527",
   "metadata": {},
   "outputs": [],
   "source": [
    "li.remove(6) #first 6 will be removed"
   ]
  },
  {
   "cell_type": "code",
   "execution_count": 288,
   "id": "330fc062",
   "metadata": {},
   "outputs": [
    {
     "data": {
      "text/plain": [
       "[1, 3, 'Naruto', 3.4, 'Luffy', 'Goku', [3, 6, 9], 3, 9, 6]"
      ]
     },
     "execution_count": 288,
     "metadata": {},
     "output_type": "execute_result"
    }
   ],
   "source": [
    "li"
   ]
  },
  {
   "cell_type": "code",
   "execution_count": 289,
   "id": "722c286f",
   "metadata": {},
   "outputs": [
    {
     "ename": "ValueError",
     "evalue": "list.remove(x): x not in list",
     "output_type": "error",
     "traceback": [
      "\u001b[1;31m---------------------------------------------------------------------------\u001b[0m",
      "\u001b[1;31mValueError\u001b[0m                                Traceback (most recent call last)",
      "\u001b[1;32m<ipython-input-289-5c5c8f399db9>\u001b[0m in \u001b[0;36m<module>\u001b[1;34m\u001b[0m\n\u001b[1;32m----> 1\u001b[1;33m \u001b[0mli\u001b[0m\u001b[1;33m.\u001b[0m\u001b[0mremove\u001b[0m\u001b[1;33m(\u001b[0m\u001b[1;36m12\u001b[0m\u001b[1;33m)\u001b[0m\u001b[1;33m\u001b[0m\u001b[1;33m\u001b[0m\u001b[0m\n\u001b[0m",
      "\u001b[1;31mValueError\u001b[0m: list.remove(x): x not in list"
     ]
    }
   ],
   "source": [
    "li.remove(12)"
   ]
  },
  {
   "cell_type": "code",
   "execution_count": 290,
   "id": "c56bf11e",
   "metadata": {},
   "outputs": [
    {
     "data": {
      "text/plain": [
       "6"
      ]
     },
     "execution_count": 290,
     "metadata": {},
     "output_type": "execute_result"
    }
   ],
   "source": [
    "li.pop()"
   ]
  },
  {
   "cell_type": "code",
   "execution_count": 291,
   "id": "cbd0b281",
   "metadata": {},
   "outputs": [
    {
     "data": {
      "text/plain": [
       "9"
      ]
     },
     "execution_count": 291,
     "metadata": {},
     "output_type": "execute_result"
    }
   ],
   "source": [
    "li.pop()"
   ]
  },
  {
   "cell_type": "code",
   "execution_count": 292,
   "id": "59d0e11c",
   "metadata": {},
   "outputs": [
    {
     "data": {
      "text/plain": [
       "3"
      ]
     },
     "execution_count": 292,
     "metadata": {},
     "output_type": "execute_result"
    }
   ],
   "source": [
    "li.pop(1)"
   ]
  },
  {
   "cell_type": "code",
   "execution_count": 293,
   "id": "c1083d80",
   "metadata": {},
   "outputs": [
    {
     "data": {
      "text/plain": [
       "[1, 'Naruto', 3.4, 'Luffy', 'Goku', [3, 6, 9], 3]"
      ]
     },
     "execution_count": 293,
     "metadata": {},
     "output_type": "execute_result"
    }
   ],
   "source": [
    "li"
   ]
  },
  {
   "cell_type": "code",
   "execution_count": 294,
   "id": "7b5f5a91",
   "metadata": {},
   "outputs": [
    {
     "ename": "TypeError",
     "evalue": "'list' object is not callable",
     "output_type": "error",
     "traceback": [
      "\u001b[1;31m---------------------------------------------------------------------------\u001b[0m",
      "\u001b[1;31mTypeError\u001b[0m                                 Traceback (most recent call last)",
      "\u001b[1;32m<ipython-input-294-15a6aaa47b9e>\u001b[0m in \u001b[0;36m<module>\u001b[1;34m\u001b[0m\n\u001b[1;32m----> 1\u001b[1;33m \u001b[0mli\u001b[0m\u001b[1;33m(\u001b[0m\u001b[1;36m12\u001b[0m\u001b[1;33m)\u001b[0m\u001b[1;33m\u001b[0m\u001b[1;33m\u001b[0m\u001b[0m\n\u001b[0m",
      "\u001b[1;31mTypeError\u001b[0m: 'list' object is not callable"
     ]
    }
   ],
   "source": [
    "li(12)"
   ]
  },
  {
   "cell_type": "code",
   "execution_count": 295,
   "id": "2b2b9e59",
   "metadata": {},
   "outputs": [
    {
     "data": {
      "text/plain": [
       "3"
      ]
     },
     "execution_count": 295,
     "metadata": {},
     "output_type": "execute_result"
    }
   ],
   "source": [
    "li.pop(6)"
   ]
  },
  {
   "cell_type": "code",
   "execution_count": 296,
   "id": "d1dbcc03",
   "metadata": {},
   "outputs": [
    {
     "data": {
      "text/plain": [
       "[1, 'Naruto', 3.4, 'Luffy', 'Goku', [3, 6, 9]]"
      ]
     },
     "execution_count": 296,
     "metadata": {},
     "output_type": "execute_result"
    }
   ],
   "source": [
    "li"
   ]
  },
  {
   "cell_type": "code",
   "execution_count": 297,
   "id": "9b69ac4c",
   "metadata": {},
   "outputs": [
    {
     "data": {
      "text/plain": [
       "6"
      ]
     },
     "execution_count": 297,
     "metadata": {},
     "output_type": "execute_result"
    }
   ],
   "source": [
    "len(li)"
   ]
  },
  {
   "cell_type": "code",
   "execution_count": 298,
   "id": "c244df2c",
   "metadata": {},
   "outputs": [
    {
     "data": {
      "text/plain": [
       "[3, 6, 9]"
      ]
     },
     "execution_count": 298,
     "metadata": {},
     "output_type": "execute_result"
    }
   ],
   "source": [
    "li.pop()"
   ]
  },
  {
   "cell_type": "code",
   "execution_count": 299,
   "id": "28b3b641",
   "metadata": {},
   "outputs": [
    {
     "data": {
      "text/plain": [
       "[1, 'Naruto', 3.4, 'Luffy', 'Goku']"
      ]
     },
     "execution_count": 299,
     "metadata": {},
     "output_type": "execute_result"
    }
   ],
   "source": [
    "li\n"
   ]
  },
  {
   "cell_type": "code",
   "execution_count": 301,
   "id": "c1f71338",
   "metadata": {},
   "outputs": [
    {
     "data": {
      "text/plain": [
       "5"
      ]
     },
     "execution_count": 301,
     "metadata": {},
     "output_type": "execute_result"
    }
   ],
   "source": [
    "len(li) # length functionality"
   ]
  },
  {
   "cell_type": "markdown",
   "id": "97ce5604",
   "metadata": {},
   "source": [
    "# Operations on lists"
   ]
  },
  {
   "cell_type": "markdown",
   "id": "8cf7c982",
   "metadata": {},
   "source": [
    "# Create a  list"
   ]
  },
  {
   "cell_type": "code",
   "execution_count": 321,
   "id": "4876d0bd",
   "metadata": {},
   "outputs": [],
   "source": [
    "li=[]"
   ]
  },
  {
   "cell_type": "code",
   "execution_count": 322,
   "id": "63968336",
   "metadata": {},
   "outputs": [],
   "source": [
    "li=[1,2,3]"
   ]
  },
  {
   "cell_type": "code",
   "execution_count": 323,
   "id": "89c60679",
   "metadata": {},
   "outputs": [
    {
     "data": {
      "text/plain": [
       "list"
      ]
     },
     "execution_count": 323,
     "metadata": {},
     "output_type": "execute_result"
    }
   ],
   "source": [
    "type(li)"
   ]
  },
  {
   "cell_type": "code",
   "execution_count": 324,
   "id": "de6ce591",
   "metadata": {},
   "outputs": [],
   "source": [
    "li=[1,2,]"
   ]
  },
  {
   "cell_type": "code",
   "execution_count": 325,
   "id": "f1a8c076",
   "metadata": {},
   "outputs": [],
   "source": [
    "li=[1,2,]"
   ]
  },
  {
   "cell_type": "code",
   "execution_count": 326,
   "id": "ded705c7",
   "metadata": {},
   "outputs": [],
   "source": [
    "li=[1,2,\"Luffy\",3,4]"
   ]
  },
  {
   "cell_type": "code",
   "execution_count": 327,
   "id": "baec7ae6",
   "metadata": {},
   "outputs": [
    {
     "data": {
      "text/plain": [
       "[1, 2, 'Luffy', 3, 4]"
      ]
     },
     "execution_count": 327,
     "metadata": {},
     "output_type": "execute_result"
    }
   ],
   "source": [
    "li"
   ]
  },
  {
   "cell_type": "markdown",
   "id": "70232ce3",
   "metadata": {},
   "source": [
    "# Access and change elements in list"
   ]
  },
  {
   "cell_type": "code",
   "execution_count": 328,
   "id": "05bd3f48",
   "metadata": {},
   "outputs": [
    {
     "data": {
      "text/plain": [
       "1"
      ]
     },
     "execution_count": 328,
     "metadata": {},
     "output_type": "execute_result"
    }
   ],
   "source": [
    "li[0]"
   ]
  },
  {
   "cell_type": "code",
   "execution_count": 329,
   "id": "63d104e1",
   "metadata": {},
   "outputs": [
    {
     "data": {
      "text/plain": [
       "'Luffy'"
      ]
     },
     "execution_count": 329,
     "metadata": {},
     "output_type": "execute_result"
    }
   ],
   "source": [
    "li[2]"
   ]
  },
  {
   "cell_type": "code",
   "execution_count": 330,
   "id": "bf43d01d",
   "metadata": {},
   "outputs": [
    {
     "data": {
      "text/plain": [
       "3"
      ]
     },
     "execution_count": 330,
     "metadata": {},
     "output_type": "execute_result"
    }
   ],
   "source": [
    "li[3]"
   ]
  },
  {
   "cell_type": "code",
   "execution_count": 331,
   "id": "b9a62459",
   "metadata": {},
   "outputs": [
    {
     "data": {
      "text/plain": [
       "4"
      ]
     },
     "execution_count": 331,
     "metadata": {},
     "output_type": "execute_result"
    }
   ],
   "source": [
    "li[4]"
   ]
  },
  {
   "cell_type": "code",
   "execution_count": 332,
   "id": "b9d019f8",
   "metadata": {},
   "outputs": [],
   "source": [
    "li.append(3.9)"
   ]
  },
  {
   "cell_type": "code",
   "execution_count": 333,
   "id": "e1fb9e88",
   "metadata": {},
   "outputs": [
    {
     "data": {
      "text/plain": [
       "[1, 2, 'Luffy', 3, 4, 3.9]"
      ]
     },
     "execution_count": 333,
     "metadata": {},
     "output_type": "execute_result"
    }
   ],
   "source": [
    "li"
   ]
  },
  {
   "cell_type": "code",
   "execution_count": 334,
   "id": "0ff91119",
   "metadata": {},
   "outputs": [],
   "source": [
    "li.remove(4)"
   ]
  },
  {
   "cell_type": "code",
   "execution_count": 335,
   "id": "61226ee4",
   "metadata": {},
   "outputs": [
    {
     "data": {
      "text/plain": [
       "[1, 2, 'Luffy', 3, 3.9]"
      ]
     },
     "execution_count": 335,
     "metadata": {},
     "output_type": "execute_result"
    }
   ],
   "source": [
    "li"
   ]
  },
  {
   "cell_type": "code",
   "execution_count": 336,
   "id": "f210f366",
   "metadata": {},
   "outputs": [
    {
     "ename": "IndexError",
     "evalue": "list index out of range",
     "output_type": "error",
     "traceback": [
      "\u001b[1;31m---------------------------------------------------------------------------\u001b[0m",
      "\u001b[1;31mIndexError\u001b[0m                                Traceback (most recent call last)",
      "\u001b[1;32m<ipython-input-336-8a303ea3cc06>\u001b[0m in \u001b[0;36m<module>\u001b[1;34m\u001b[0m\n\u001b[1;32m----> 1\u001b[1;33m \u001b[0mli\u001b[0m\u001b[1;33m[\u001b[0m\u001b[1;36m6\u001b[0m\u001b[1;33m]\u001b[0m\u001b[1;33m\u001b[0m\u001b[1;33m\u001b[0m\u001b[0m\n\u001b[0m",
      "\u001b[1;31mIndexError\u001b[0m: list index out of range"
     ]
    }
   ],
   "source": [
    "li[6]"
   ]
  },
  {
   "cell_type": "code",
   "execution_count": 337,
   "id": "f7de3b19",
   "metadata": {},
   "outputs": [],
   "source": [
    "li[0]=5"
   ]
  },
  {
   "cell_type": "code",
   "execution_count": 338,
   "id": "c63c90a8",
   "metadata": {},
   "outputs": [
    {
     "data": {
      "text/plain": [
       "[5, 2, 'Luffy', 3, 3.9]"
      ]
     },
     "execution_count": 338,
     "metadata": {},
     "output_type": "execute_result"
    }
   ],
   "source": [
    "li"
   ]
  },
  {
   "cell_type": "code",
   "execution_count": 339,
   "id": "d0456bba",
   "metadata": {},
   "outputs": [
    {
     "ename": "IndexError",
     "evalue": "list assignment index out of range",
     "output_type": "error",
     "traceback": [
      "\u001b[1;31m---------------------------------------------------------------------------\u001b[0m",
      "\u001b[1;31mIndexError\u001b[0m                                Traceback (most recent call last)",
      "\u001b[1;32m<ipython-input-339-918901a718cf>\u001b[0m in \u001b[0;36m<module>\u001b[1;34m\u001b[0m\n\u001b[1;32m----> 1\u001b[1;33m \u001b[0mli\u001b[0m\u001b[1;33m[\u001b[0m\u001b[1;36m5\u001b[0m\u001b[1;33m]\u001b[0m\u001b[1;33m=\u001b[0m\u001b[1;36m6\u001b[0m\u001b[1;33m\u001b[0m\u001b[1;33m\u001b[0m\u001b[0m\n\u001b[0m",
      "\u001b[1;31mIndexError\u001b[0m: list assignment index out of range"
     ]
    }
   ],
   "source": [
    "li[5]=6"
   ]
  },
  {
   "cell_type": "markdown",
   "id": "30534f27",
   "metadata": {},
   "source": [
    "# Slicing of a List"
   ]
  },
  {
   "cell_type": "code",
   "execution_count": 340,
   "id": "6b7b6365",
   "metadata": {},
   "outputs": [
    {
     "data": {
      "text/plain": [
       "[2, 'Luffy']"
      ]
     },
     "execution_count": 340,
     "metadata": {},
     "output_type": "execute_result"
    }
   ],
   "source": [
    "li[1:3]"
   ]
  },
  {
   "cell_type": "code",
   "execution_count": 341,
   "id": "34eb5bac",
   "metadata": {},
   "outputs": [
    {
     "data": {
      "text/plain": [
       "[5, 2, 'Luffy', 3, 3.9]"
      ]
     },
     "execution_count": 341,
     "metadata": {},
     "output_type": "execute_result"
    }
   ],
   "source": [
    "li"
   ]
  },
  {
   "cell_type": "code",
   "execution_count": 342,
   "id": "9bdd9d83",
   "metadata": {},
   "outputs": [
    {
     "data": {
      "text/plain": [
       "[2, 'Luffy', 3, 3.9]"
      ]
     },
     "execution_count": 342,
     "metadata": {},
     "output_type": "execute_result"
    }
   ],
   "source": [
    "li[1:]"
   ]
  },
  {
   "cell_type": "code",
   "execution_count": 343,
   "id": "c1935bfe",
   "metadata": {},
   "outputs": [
    {
     "data": {
      "text/plain": [
       "[5, 2, 'Luffy', 3, 3.9]"
      ]
     },
     "execution_count": 343,
     "metadata": {},
     "output_type": "execute_result"
    }
   ],
   "source": [
    "li[:]"
   ]
  },
  {
   "cell_type": "code",
   "execution_count": 345,
   "id": "916ff65e",
   "metadata": {},
   "outputs": [
    {
     "data": {
      "text/plain": [
       "[2, 'Luffy', 3, 3.9]"
      ]
     },
     "execution_count": 345,
     "metadata": {},
     "output_type": "execute_result"
    }
   ],
   "source": [
    "li[1:10]"
   ]
  },
  {
   "cell_type": "markdown",
   "id": "fc00b3da",
   "metadata": {},
   "source": [
    "# Insert and append elements in list"
   ]
  },
  {
   "cell_type": "code",
   "execution_count": 346,
   "id": "e3a4dbf8",
   "metadata": {},
   "outputs": [],
   "source": [
    "li.append(\"Naruto\")"
   ]
  },
  {
   "cell_type": "code",
   "execution_count": 347,
   "id": "3791a6f6",
   "metadata": {},
   "outputs": [
    {
     "data": {
      "text/plain": [
       "[5, 2, 'Luffy', 3, 3.9, 'Naruto']"
      ]
     },
     "execution_count": 347,
     "metadata": {},
     "output_type": "execute_result"
    }
   ],
   "source": [
    "li"
   ]
  },
  {
   "cell_type": "code",
   "execution_count": 348,
   "id": "e5499e30",
   "metadata": {},
   "outputs": [
    {
     "ename": "TypeError",
     "evalue": "insert expected 2 arguments, got 1",
     "output_type": "error",
     "traceback": [
      "\u001b[1;31m---------------------------------------------------------------------------\u001b[0m",
      "\u001b[1;31mTypeError\u001b[0m                                 Traceback (most recent call last)",
      "\u001b[1;32m<ipython-input-348-d9006eafc8c6>\u001b[0m in \u001b[0;36m<module>\u001b[1;34m\u001b[0m\n\u001b[1;32m----> 1\u001b[1;33m \u001b[0mli\u001b[0m\u001b[1;33m.\u001b[0m\u001b[0minsert\u001b[0m\u001b[1;33m(\u001b[0m\u001b[1;36m1\u001b[0m\u001b[1;33m,\u001b[0m\u001b[1;33m)\u001b[0m\u001b[1;33m\u001b[0m\u001b[1;33m\u001b[0m\u001b[0m\n\u001b[0m",
      "\u001b[1;31mTypeError\u001b[0m: insert expected 2 arguments, got 1"
     ]
    }
   ],
   "source": [
    "li.insert(1,)"
   ]
  },
  {
   "cell_type": "code",
   "execution_count": 349,
   "id": "e29a204f",
   "metadata": {},
   "outputs": [],
   "source": [
    "li.insert(1,7)"
   ]
  },
  {
   "cell_type": "code",
   "execution_count": 350,
   "id": "dcafa20e",
   "metadata": {},
   "outputs": [
    {
     "data": {
      "text/plain": [
       "[5, 7, 2, 'Luffy', 3, 3.9, 'Naruto']"
      ]
     },
     "execution_count": 350,
     "metadata": {},
     "output_type": "execute_result"
    }
   ],
   "source": [
    "li"
   ]
  },
  {
   "cell_type": "code",
   "execution_count": 351,
   "id": "0de96b43",
   "metadata": {},
   "outputs": [],
   "source": [
    "li.insert(6,10)"
   ]
  },
  {
   "cell_type": "code",
   "execution_count": 352,
   "id": "98c308af",
   "metadata": {},
   "outputs": [
    {
     "data": {
      "text/plain": [
       "[5, 7, 2, 'Luffy', 3, 3.9, 10, 'Naruto']"
      ]
     },
     "execution_count": 352,
     "metadata": {},
     "output_type": "execute_result"
    }
   ],
   "source": [
    "li"
   ]
  },
  {
   "cell_type": "code",
   "execution_count": 353,
   "id": "ce77f68d",
   "metadata": {},
   "outputs": [],
   "source": [
    "li.insert(9,33)"
   ]
  },
  {
   "cell_type": "code",
   "execution_count": 354,
   "id": "cdd8b167",
   "metadata": {},
   "outputs": [
    {
     "data": {
      "text/plain": [
       "[5, 7, 2, 'Luffy', 3, 3.9, 10, 'Naruto', 33]"
      ]
     },
     "execution_count": 354,
     "metadata": {},
     "output_type": "execute_result"
    }
   ],
   "source": [
    "li"
   ]
  },
  {
   "cell_type": "code",
   "execution_count": 355,
   "id": "e7c684bb",
   "metadata": {},
   "outputs": [],
   "source": [
    "li.append([3,6,9])"
   ]
  },
  {
   "cell_type": "code",
   "execution_count": 356,
   "id": "a9fb170a",
   "metadata": {},
   "outputs": [
    {
     "data": {
      "text/plain": [
       "[5, 7, 2, 'Luffy', 3, 3.9, 10, 'Naruto', 33, [3, 6, 9]]"
      ]
     },
     "execution_count": 356,
     "metadata": {},
     "output_type": "execute_result"
    }
   ],
   "source": [
    "li"
   ]
  },
  {
   "cell_type": "code",
   "execution_count": 357,
   "id": "4af41329",
   "metadata": {},
   "outputs": [],
   "source": [
    "li.insert(8,66)"
   ]
  },
  {
   "cell_type": "code",
   "execution_count": 358,
   "id": "574fbbc7",
   "metadata": {},
   "outputs": [
    {
     "data": {
      "text/plain": [
       "[5, 7, 2, 'Luffy', 3, 3.9, 10, 'Naruto', 66, 33, [3, 6, 9]]"
      ]
     },
     "execution_count": 358,
     "metadata": {},
     "output_type": "execute_result"
    }
   ],
   "source": [
    "li"
   ]
  },
  {
   "cell_type": "code",
   "execution_count": 359,
   "id": "a605a216",
   "metadata": {},
   "outputs": [],
   "source": [
    "li.append([3,6,9])"
   ]
  },
  {
   "cell_type": "code",
   "execution_count": 360,
   "id": "eb6af062",
   "metadata": {},
   "outputs": [
    {
     "data": {
      "text/plain": [
       "[5, 7, 2, 'Luffy', 3, 3.9, 10, 'Naruto', 66, 33, [3, 6, 9], [3, 6, 9]]"
      ]
     },
     "execution_count": 360,
     "metadata": {},
     "output_type": "execute_result"
    }
   ],
   "source": [
    "li"
   ]
  },
  {
   "cell_type": "code",
   "execution_count": 361,
   "id": "86c2cb72",
   "metadata": {},
   "outputs": [],
   "source": [
    "li.remove([3,6,9])"
   ]
  },
  {
   "cell_type": "code",
   "execution_count": 362,
   "id": "17298e69",
   "metadata": {},
   "outputs": [
    {
     "data": {
      "text/plain": [
       "[5, 7, 2, 'Luffy', 3, 3.9, 10, 'Naruto', 66, 33, [3, 6, 9]]"
      ]
     },
     "execution_count": 362,
     "metadata": {},
     "output_type": "execute_result"
    }
   ],
   "source": [
    "li"
   ]
  },
  {
   "cell_type": "code",
   "execution_count": 363,
   "id": "9b759530",
   "metadata": {},
   "outputs": [],
   "source": [
    "li.extend([3,6,9])"
   ]
  },
  {
   "cell_type": "code",
   "execution_count": 364,
   "id": "b12a8065",
   "metadata": {},
   "outputs": [
    {
     "data": {
      "text/plain": [
       "[5, 7, 2, 'Luffy', 3, 3.9, 10, 'Naruto', 66, 33, [3, 6, 9], 3, 6, 9]"
      ]
     },
     "execution_count": 364,
     "metadata": {},
     "output_type": "execute_result"
    }
   ],
   "source": [
    "li"
   ]
  },
  {
   "cell_type": "markdown",
   "id": "d623ef36",
   "metadata": {},
   "source": [
    "# Removing elements from list"
   ]
  },
  {
   "cell_type": "code",
   "execution_count": 365,
   "id": "78ef37ee",
   "metadata": {},
   "outputs": [],
   "source": [
    "li.remove(3)"
   ]
  },
  {
   "cell_type": "code",
   "execution_count": 366,
   "id": "e81cba16",
   "metadata": {},
   "outputs": [
    {
     "data": {
      "text/plain": [
       "[5, 7, 2, 'Luffy', 3.9, 10, 'Naruto', 66, 33, [3, 6, 9], 3, 6, 9]"
      ]
     },
     "execution_count": 366,
     "metadata": {},
     "output_type": "execute_result"
    }
   ],
   "source": [
    "li"
   ]
  },
  {
   "cell_type": "code",
   "execution_count": 368,
   "id": "c1857bef",
   "metadata": {},
   "outputs": [],
   "source": [
    "li.append(3.9)"
   ]
  },
  {
   "cell_type": "code",
   "execution_count": 369,
   "id": "e9ba9179",
   "metadata": {},
   "outputs": [
    {
     "data": {
      "text/plain": [
       "[5, 7, 2, 'Luffy', 3.9, 10, 'Naruto', 66, 33, [3, 6, 9], 3, 6, 9, 3.9]"
      ]
     },
     "execution_count": 369,
     "metadata": {},
     "output_type": "execute_result"
    }
   ],
   "source": [
    "li\n"
   ]
  },
  {
   "cell_type": "code",
   "execution_count": 370,
   "id": "9d268741",
   "metadata": {},
   "outputs": [],
   "source": [
    "li.remove(3.9)"
   ]
  },
  {
   "cell_type": "code",
   "execution_count": 371,
   "id": "dcd4a4e3",
   "metadata": {},
   "outputs": [
    {
     "data": {
      "text/plain": [
       "[5, 7, 2, 'Luffy', 10, 'Naruto', 66, 33, [3, 6, 9], 3, 6, 9, 3.9]"
      ]
     },
     "execution_count": 371,
     "metadata": {},
     "output_type": "execute_result"
    }
   ],
   "source": [
    "li"
   ]
  },
  {
   "cell_type": "code",
   "execution_count": 372,
   "id": "0758717a",
   "metadata": {},
   "outputs": [
    {
     "ename": "ValueError",
     "evalue": "list.remove(x): x not in list",
     "output_type": "error",
     "traceback": [
      "\u001b[1;31m---------------------------------------------------------------------------\u001b[0m",
      "\u001b[1;31mValueError\u001b[0m                                Traceback (most recent call last)",
      "\u001b[1;32m<ipython-input-372-c29a58a4cf47>\u001b[0m in \u001b[0;36m<module>\u001b[1;34m\u001b[0m\n\u001b[1;32m----> 1\u001b[1;33m \u001b[0mli\u001b[0m\u001b[1;33m.\u001b[0m\u001b[0mremove\u001b[0m\u001b[1;33m(\u001b[0m\u001b[1;36m333\u001b[0m\u001b[1;33m)\u001b[0m\u001b[1;33m\u001b[0m\u001b[1;33m\u001b[0m\u001b[0m\n\u001b[0m",
      "\u001b[1;31mValueError\u001b[0m: list.remove(x): x not in list"
     ]
    }
   ],
   "source": [
    "li.remove(333)"
   ]
  },
  {
   "cell_type": "code",
   "execution_count": 373,
   "id": "6d0c3987",
   "metadata": {},
   "outputs": [
    {
     "data": {
      "text/plain": [
       "3.9"
      ]
     },
     "execution_count": 373,
     "metadata": {},
     "output_type": "execute_result"
    }
   ],
   "source": [
    "li.pop()"
   ]
  },
  {
   "cell_type": "code",
   "execution_count": 374,
   "id": "265cc083",
   "metadata": {},
   "outputs": [
    {
     "data": {
      "text/plain": [
       "[5, 7, 2, 'Luffy', 10, 'Naruto', 66, 33, [3, 6, 9], 3, 6, 9]"
      ]
     },
     "execution_count": 374,
     "metadata": {},
     "output_type": "execute_result"
    }
   ],
   "source": [
    "li"
   ]
  },
  {
   "cell_type": "code",
   "execution_count": 375,
   "id": "9f53359c",
   "metadata": {},
   "outputs": [
    {
     "data": {
      "text/plain": [
       "'Naruto'"
      ]
     },
     "execution_count": 375,
     "metadata": {},
     "output_type": "execute_result"
    }
   ],
   "source": [
    "li.pop(5)"
   ]
  },
  {
   "cell_type": "code",
   "execution_count": 376,
   "id": "8a406a71",
   "metadata": {},
   "outputs": [
    {
     "data": {
      "text/plain": [
       "11"
      ]
     },
     "execution_count": 376,
     "metadata": {},
     "output_type": "execute_result"
    }
   ],
   "source": [
    "len(li)"
   ]
  },
  {
   "cell_type": "code",
   "execution_count": 378,
   "id": "4873be6a",
   "metadata": {},
   "outputs": [
    {
     "name": "stdout",
     "output_type": "stream",
     "text": [
      "['abcd', 'def', 5]\n"
     ]
    }
   ],
   "source": [
    "li =['abcd','def']\n",
    "li.insert(4,5)\n",
    "print(li)"
   ]
  },
  {
   "cell_type": "code",
   "execution_count": 379,
   "id": "f0288df7",
   "metadata": {},
   "outputs": [
    {
     "name": "stdout",
     "output_type": "stream",
     "text": [
      "['abcd', 'def', 5]\n"
     ]
    }
   ],
   "source": [
    "li = ['abcd',5,'def',5]\n",
    "li.remove(5)\n",
    "print(li)"
   ]
  },
  {
   "cell_type": "code",
   "execution_count": 380,
   "id": "df9741ba",
   "metadata": {},
   "outputs": [
    {
     "name": "stdout",
     "output_type": "stream",
     "text": [
      "[5, 2, 8]\n"
     ]
    }
   ],
   "source": [
    "li = [5,2,6,8]\n",
    "li.pop(2)\n",
    "print(li)"
   ]
  }
 ],
 "metadata": {
  "kernelspec": {
   "display_name": "Python 3",
   "language": "python",
   "name": "python3"
  },
  "language_info": {
   "codemirror_mode": {
    "name": "ipython",
    "version": 3
   },
   "file_extension": ".py",
   "mimetype": "text/x-python",
   "name": "python",
   "nbconvert_exporter": "python",
   "pygments_lexer": "ipython3",
   "version": "3.8.8"
  }
 },
 "nbformat": 4,
 "nbformat_minor": 5
}
