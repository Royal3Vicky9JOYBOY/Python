{
 "cells": [
  {
   "cell_type": "markdown",
   "id": "6782f589",
   "metadata": {},
   "source": [
    "# Number Pattern 2\n",
    "Send Feedback\n",
    "Print the following pattern for the given N number of rows.\n",
    "Pattern for N = 4\n",
    "1\n",
    "11\n",
    "202\n",
    "3003\n",
    "Input format :\n",
    "Integer N (Total no. of rows)\n",
    "Contraints:\n",
    "1 <= n <= 50\n",
    "Output format :\n",
    "Pattern in N lines\n",
    "Sample Input :\n",
    "5\n",
    "Sample Output :\n",
    "1\n",
    "11\n",
    "202\n",
    "3003\n",
    "40004"
   ]
  },
  {
   "cell_type": "code",
   "execution_count": 1,
   "id": "6791548b",
   "metadata": {},
   "outputs": [
    {
     "name": "stdout",
     "output_type": "stream",
     "text": [
      "3\n",
      "1\n",
      "11\n",
      "202\n"
     ]
    }
   ],
   "source": [
    "n=int(input())\n",
    "i=1\n",
    "if i>=1:\n",
    "    print('1')\n",
    "while i<=n-1:\n",
    "    j=1\n",
    "    while j<=i+1:\n",
    "        if j==1 or j==i+1:\n",
    "            print(i,end=(''))\n",
    "        else:\n",
    "            print('0',end=(''))\n",
    "        j=j+1\n",
    "    print()\n",
    "    i=i+1"
   ]
  }
 ],
 "metadata": {
  "kernelspec": {
   "display_name": "Python 3",
   "language": "python",
   "name": "python3"
  },
  "language_info": {
   "codemirror_mode": {
    "name": "ipython",
    "version": 3
   },
   "file_extension": ".py",
   "mimetype": "text/x-python",
   "name": "python",
   "nbconvert_exporter": "python",
   "pygments_lexer": "ipython3",
   "version": "3.8.8"
  }
 },
 "nbformat": 4,
 "nbformat_minor": 5
}
