{
 "cells": [
  {
   "cell_type": "markdown",
   "id": "02d80fef",
   "metadata": {},
   "source": [
    "# Code : Interesting Alphabets\n",
    "Send Feedback\n",
    "Print the following pattern for the given number of rows.\n",
    "Pattern for N = 5\n",
    "E\n",
    "DE\n",
    "CDE\n",
    "BCDE\n",
    "ABCDE\n",
    "Input format :\n",
    "N (Total no. of rows)\n",
    "Output format :\n",
    "Pattern in N lines\n",
    "Constraints\n",
    "0 <= N <= 26\n",
    "Sample Input 1:\n",
    "8\n",
    "Sample Output 1:\n",
    "H\n",
    "GH\n",
    "FGH\n",
    "EFGH\n",
    "DEFGH\n",
    "CDEFGH\n",
    "BCDEFGH\n",
    "ABCDEFGH\n",
    "Sample Input 2:\n",
    "7\n",
    "Sample Output 2:\n",
    "G\n",
    "FG\n",
    "EFG\n",
    "DEFG\n",
    "CDEFG\n",
    "BCDEFG\n",
    "ABCDEFG"
   ]
  },
  {
   "cell_type": "code",
   "execution_count": 1,
   "id": "8fe48768",
   "metadata": {},
   "outputs": [
    {
     "name": "stdout",
     "output_type": "stream",
     "text": [
      "3\n",
      "C\n",
      "BC\n",
      "ABC\n"
     ]
    }
   ],
   "source": [
    "n = int(input())\n",
    "i = 1\n",
    "while i <= n :\n",
    "    j = 1\n",
    "    start_chr = (ord('A') +n-i)\n",
    "    while j <= i :\n",
    "        chrp = chr(start_chr + j - 1)\n",
    "        print(chrp,end='')\n",
    "        j = j + 1\n",
    "    print()\n",
    "    i = i + 1"
   ]
  }
 ],
 "metadata": {
  "kernelspec": {
   "display_name": "Python 3",
   "language": "python",
   "name": "python3"
  },
  "language_info": {
   "codemirror_mode": {
    "name": "ipython",
    "version": 3
   },
   "file_extension": ".py",
   "mimetype": "text/x-python",
   "name": "python",
   "nbconvert_exporter": "python",
   "pygments_lexer": "ipython3",
   "version": "3.8.8"
  }
 },
 "nbformat": 4,
 "nbformat_minor": 5
}
