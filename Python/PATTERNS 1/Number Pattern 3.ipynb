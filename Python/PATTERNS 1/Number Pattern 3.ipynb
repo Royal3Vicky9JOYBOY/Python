{
 "cells": [
  {
   "cell_type": "markdown",
   "id": "b712b501",
   "metadata": {},
   "source": [
    "# Number Pattern 3\n",
    "Send Feedback\n",
    "Print the following pattern for the given N number of rows.\n",
    "Pattern for N = 4\n",
    "1\n",
    "11\n",
    "121\n",
    "1221\n",
    "Input format :\n",
    "Integer N (Total no. of rows)\n",
    "Output format :\n",
    "Pattern in N lines\n",
    "Sample Input :\n",
    "5\n",
    "Sample Output :\n",
    "1\n",
    "11\n",
    "121\n",
    "1221\n",
    "12221"
   ]
  },
  {
   "cell_type": "code",
   "execution_count": 1,
   "id": "4ef376a0",
   "metadata": {},
   "outputs": [
    {
     "name": "stdout",
     "output_type": "stream",
     "text": [
      "3\n",
      "1\n",
      "11\n",
      "121\n"
     ]
    }
   ],
   "source": [
    "n = int(input())\n",
    "print(1)\n",
    "i = 1\n",
    "while (i<n):\n",
    "    j=0\n",
    "    while(j<i+1):\n",
    "        if(j==0 or j==i):\n",
    "            print(1,end='')\n",
    "        else:\n",
    "            print(2,end='')\n",
    "        j=j+1\n",
    "    i=i+1\n",
    "    print()"
   ]
  }
 ],
 "metadata": {
  "kernelspec": {
   "display_name": "Python 3",
   "language": "python",
   "name": "python3"
  },
  "language_info": {
   "codemirror_mode": {
    "name": "ipython",
    "version": 3
   },
   "file_extension": ".py",
   "mimetype": "text/x-python",
   "name": "python",
   "nbconvert_exporter": "python",
   "pygments_lexer": "ipython3",
   "version": "3.8.8"
  }
 },
 "nbformat": 4,
 "nbformat_minor": 5
}
