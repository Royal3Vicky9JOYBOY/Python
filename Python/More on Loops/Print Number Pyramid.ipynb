{
 "cells": [
  {
   "cell_type": "markdown",
   "id": "60012cd1",
   "metadata": {},
   "source": [
    "# Print Number Pyramid\n",
    "Send Feedback\n",
    "Print the following pattern for a given n.\n",
    "For eg. N = 6\n",
    "123456\n",
    "  23456\n",
    "    3456\n",
    "      456\n",
    "        56\n",
    "          6\n",
    "        56\n",
    "      456\n",
    "    3456\n",
    "  23456\n",
    "123456\n",
    "Sample Input 1 :\n",
    "4\n",
    "Sample Output 1 :\n",
    "1234\n",
    "  234\n",
    "    34\n",
    "      4\n",
    "    34\n",
    "  234\n",
    "1234\n"
   ]
  },
  {
   "cell_type": "code",
   "execution_count": 1,
   "id": "1a653e27",
   "metadata": {},
   "outputs": [
    {
     "name": "stdout",
     "output_type": "stream",
     "text": [
      "6\n",
      "123456\n",
      " 23456\n",
      "  3456\n",
      "   456\n",
      "    56\n",
      "     6\n",
      "    56\n",
      "   456\n",
      "  3456\n",
      " 23456\n",
      "123456\n"
     ]
    }
   ],
   "source": [
    "n=int(input())\n",
    "\n",
    "for i in range(n):\n",
    "    spaces=1\n",
    "    while spaces<=i:\n",
    "        print(' ',end='')\n",
    "        spaces+=1\n",
    "        \n",
    "    j=i+1\n",
    "    while j<=n:\n",
    "        print(j, end='')\n",
    "        j+=1\n",
    "        \n",
    "    print()    \n",
    "    \n",
    "    \n",
    "i=2\n",
    "while i<=n:\n",
    "    spaces=1\n",
    "    while spaces<=n-i:\n",
    "        print(' ',end='')\n",
    "        spaces+=1\n",
    "        \n",
    "    j=n-i+1\n",
    "    while j<=n:\n",
    "        print(j, end='')\n",
    "        j+=1\n",
    "        \n",
    "    print()\n",
    "    i+=1"
   ]
  }
 ],
 "metadata": {
  "kernelspec": {
   "display_name": "Python 3",
   "language": "python",
   "name": "python3"
  },
  "language_info": {
   "codemirror_mode": {
    "name": "ipython",
    "version": 3
   },
   "file_extension": ".py",
   "mimetype": "text/x-python",
   "name": "python",
   "nbconvert_exporter": "python",
   "pygments_lexer": "ipython3",
   "version": "3.8.8"
  }
 },
 "nbformat": 4,
 "nbformat_minor": 5
}
