{
 "cells": [
  {
   "cell_type": "markdown",
   "id": "c9c6f4df",
   "metadata": {},
   "source": [
    "# Print the pattern\n",
    "Send Feedback\n",
    "Print the following pattern for the given number of rows.\n",
    "Pattern for N = 5\n",
    " 1    2   3    4   5\n",
    " 11   12  13   14  15\n",
    " 21   22  23   24  25\n",
    " 16   17  18   19  20\n",
    " 6    7    8   9   10\n",
    "Input format : N (Total no. of rows)\n",
    "\n",
    "Output format : Pattern in N lines\n",
    "\n",
    "Sample Input :\n",
    "4\n",
    "Sample Output :\n",
    " 1  2  3  4\n",
    " 9 10 11 12\n",
    "13 14 15 16\n",
    " 5  6  7  8"
   ]
  },
  {
   "cell_type": "code",
   "execution_count": 1,
   "id": "d5636374",
   "metadata": {},
   "outputs": [
    {
     "name": "stdout",
     "output_type": "stream",
     "text": [
      "9\n",
      "1 2 3 4 5 6 7 8 9 \n",
      "19 20 21 22 23 24 25 26 27 \n",
      "37 38 39 40 41 42 43 44 45 \n",
      "55 56 57 58 59 60 61 62 63 \n",
      "73 74 75 76 77 78 79 80 81 \n",
      "64 65 66 67 68 69 70 71 72 \n",
      "46 47 48 49 50 51 52 53 54 \n",
      "28 29 30 31 32 33 34 35 36 \n",
      "10 11 12 13 14 15 16 17 18 \n"
     ]
    }
   ],
   "source": [
    "n = int(input())\n",
    "\n",
    "u = n//2 + n%2\n",
    "\n",
    "for i in range(u):\n",
    "    j = 2*n*i+1\n",
    "    \n",
    "    for k in range(j,j+n):\n",
    "        print(k,end=\" \")\n",
    "    print()\n",
    "    \n",
    "l = n - u\n",
    "\n",
    "temp = 1\n",
    "\n",
    "if n%2 == 0:\n",
    "    temp = temp + n*(n-1)\n",
    "else:\n",
    "    temp = temp + n*(n-2)\n",
    "for i in range(l):\n",
    "    j = temp - 2*n*i\n",
    "    \n",
    "    for k in range(j,j+n):\n",
    "        print(k,end=\" \")\n",
    "    print()"
   ]
  }
 ],
 "metadata": {
  "kernelspec": {
   "display_name": "Python 3",
   "language": "python",
   "name": "python3"
  },
  "language_info": {
   "codemirror_mode": {
    "name": "ipython",
    "version": 3
   },
   "file_extension": ".py",
   "mimetype": "text/x-python",
   "name": "python",
   "nbconvert_exporter": "python",
   "pygments_lexer": "ipython3",
   "version": "3.8.8"
  }
 },
 "nbformat": 4,
 "nbformat_minor": 5
}
