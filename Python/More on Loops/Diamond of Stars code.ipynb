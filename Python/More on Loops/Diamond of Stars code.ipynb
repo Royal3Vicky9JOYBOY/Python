{
 "cells": [
  {
   "cell_type": "markdown",
   "id": "01910dc7",
   "metadata": {},
   "source": [
    "# Diamond of Stars\n",
    "Send Feedback\n",
    "Print the following pattern for the given number of rows.\n",
    "Note: N is always odd.\n",
    "\n",
    "\n",
    "Pattern for N = 5\n",
    "\n",
    "\n",
    "\n",
    "The dots represent spaces.\n",
    "\n",
    "\n",
    "\n",
    "Input format :\n",
    "N (Total no. of rows and can only be odd)\n",
    "Output format :\n",
    "Pattern in N lines\n",
    "Constraints :\n",
    "1 <= N <= 49\n",
    "Sample Input 1:\n",
    "5\n",
    "Sample Output 1:\n",
    "  *\n",
    " ***\n",
    "*****\n",
    " ***\n",
    "  *\n",
    "Sample Input 2:\n",
    "3\n",
    "Sample Output 2:\n",
    "  *\n",
    " ***\n",
    "  *\n"
   ]
  },
  {
   "cell_type": "code",
   "execution_count": 1,
   "id": "44e779fe",
   "metadata": {},
   "outputs": [
    {
     "name": "stdout",
     "output_type": "stream",
     "text": [
      "9\n",
      "    *\n",
      "   ***\n",
      "  *****\n",
      " *******\n",
      "*********\n",
      " *******\n",
      "  *****\n",
      "   ***\n",
      "    *\n"
     ]
    }
   ],
   "source": [
    "n=int(input())\n",
    "\n",
    "i=1\n",
    "while i<=(n+1)//2:\n",
    "    s=1\n",
    "    while s<n/2-i+1:\n",
    "        print(\"\",end=' ')\n",
    "        s=s+1\n",
    "    j=1\n",
    "    while j<=i:\n",
    "        print(\"*\",end='')\n",
    "        j=j+1\n",
    "    j=i-1\n",
    "    while j>=1:\n",
    "        print(\"*\",end='')\n",
    "        j=j-1\n",
    "    print()\n",
    "    i=i+1\n",
    "\n",
    "i=(n//2)\n",
    "while i>=1:\n",
    "    s=1\n",
    "    while s<=n//2-i+1:\n",
    "        print(\" \",end='')\n",
    "        s=s+1\n",
    "    j=1\n",
    "    while j<=i:\n",
    "        print(\"*\",end='')\n",
    "        j=j+1\n",
    "    j=i-1\n",
    "    while j>=1:\n",
    "        print(\"*\",end='')\n",
    "        j=j-1\n",
    "    print()\n",
    "    i=i-1"
   ]
  }
 ],
 "metadata": {
  "kernelspec": {
   "display_name": "Python 3",
   "language": "python",
   "name": "python3"
  },
  "language_info": {
   "codemirror_mode": {
    "name": "ipython",
    "version": 3
   },
   "file_extension": ".py",
   "mimetype": "text/x-python",
   "name": "python",
   "nbconvert_exporter": "python",
   "pygments_lexer": "ipython3",
   "version": "3.8.8"
  }
 },
 "nbformat": 4,
 "nbformat_minor": 5
}
