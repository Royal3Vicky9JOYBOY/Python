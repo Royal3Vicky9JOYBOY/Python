{
 "cells": [
  {
   "cell_type": "markdown",
   "id": "a950a573",
   "metadata": {},
   "source": [
    "# Rectangular numbers\n",
    "Send Feedback\n",
    "Print the following pattern for the given number of rows.\n",
    "Pattern for N = 4\n",
    "4444444\n",
    "4333334\n",
    "4322234\n",
    "4321234\n",
    "4322234\n",
    "4333334  \n",
    "4444444\n",
    "Input format : N (Total no. of rows)\n",
    "\n",
    "Output format : Pattern in N lines\n",
    "\n",
    "Sample Input :\n",
    "3\n",
    "Sample Output :\n",
    "33333\n",
    "32223\n",
    "32123\n",
    "32223\n",
    "33333"
   ]
  },
  {
   "cell_type": "code",
   "execution_count": 1,
   "id": "d7a88cf3",
   "metadata": {},
   "outputs": [
    {
     "name": "stdout",
     "output_type": "stream",
     "text": [
      "6\n",
      "66666666666\n",
      "65555555556\n",
      "65444444456\n",
      "65433333456\n",
      "65432223456\n",
      "65432123456\n",
      "65432223456\n",
      "65433333456\n",
      "65444444456\n",
      "65555555556\n",
      "66666666666\n"
     ]
    }
   ],
   "source": [
    "n=int(input())\n",
    "\n",
    "for i in range (n,0,-1):\n",
    "  for j in range (n,i,-1):\n",
    "    print(j,end=\"\")\n",
    "  for k in range (1,i*2,1):\n",
    "    print(i,end=\"\")\n",
    "  for l in range (i+1,n+1,1):\n",
    "    print(l,end=\"\")\n",
    "  print()\n",
    "\n",
    "  \n",
    "for m in range (1,n,1):\n",
    "  for o in range (n,m,-1):\n",
    "    print(o,end=\"\")\n",
    "  for p in range (1,m*2,1):\n",
    "    print(m+1,end=\"\")\n",
    "  for q in range (m+1,n+1,1):\n",
    "    print(q,end=\"\")\n",
    "  print()"
   ]
  }
 ],
 "metadata": {
  "kernelspec": {
   "display_name": "Python 3",
   "language": "python",
   "name": "python3"
  },
  "language_info": {
   "codemirror_mode": {
    "name": "ipython",
    "version": 3
   },
   "file_extension": ".py",
   "mimetype": "text/x-python",
   "name": "python",
   "nbconvert_exporter": "python",
   "pygments_lexer": "ipython3",
   "version": "3.8.8"
  }
 },
 "nbformat": 4,
 "nbformat_minor": 5
}
