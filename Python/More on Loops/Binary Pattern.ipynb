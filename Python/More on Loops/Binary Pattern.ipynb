{
 "cells": [
  {
   "cell_type": "markdown",
   "id": "9ce2007f",
   "metadata": {},
   "source": [
    "# Binary Pattern\n",
    "Send Feedback\n",
    "Print the following pattern for the given number of rows.\n",
    "Pattern for N = 4\n",
    "1111\n",
    "000\n",
    "11\n",
    "0\n",
    "Input format : N (Total no. of rows)\n",
    "\n",
    "Output format : Pattern in N lines\n",
    "\n",
    "Sample Input :\n",
    "5\n",
    "Sample Output :\n",
    "11111\n",
    "0000\n",
    "111\n",
    "00\n",
    "1"
   ]
  },
  {
   "cell_type": "code",
   "execution_count": 1,
   "id": "5bf4e9b7",
   "metadata": {},
   "outputs": [
    {
     "name": "stdout",
     "output_type": "stream",
     "text": [
      "3\n",
      "111\n",
      "00\n",
      "1\n"
     ]
    }
   ],
   "source": [
    "n = int(input())\n",
    "\n",
    "for i in range(1, n + 1 ,1):\n",
    "    if i % 2 == 0:\n",
    "            for x in range(n-i+1):\n",
    "                print(0,end=\"\")\n",
    "    else:\n",
    "        for y in range(n-i+1):\n",
    "                print(1,end=\"\")\n",
    "    print() "
   ]
  }
 ],
 "metadata": {
  "kernelspec": {
   "display_name": "Python 3",
   "language": "python",
   "name": "python3"
  },
  "language_info": {
   "codemirror_mode": {
    "name": "ipython",
    "version": 3
   },
   "file_extension": ".py",
   "mimetype": "text/x-python",
   "name": "python",
   "nbconvert_exporter": "python",
   "pygments_lexer": "ipython3",
   "version": "3.8.8"
  }
 },
 "nbformat": 4,
 "nbformat_minor": 5
}
