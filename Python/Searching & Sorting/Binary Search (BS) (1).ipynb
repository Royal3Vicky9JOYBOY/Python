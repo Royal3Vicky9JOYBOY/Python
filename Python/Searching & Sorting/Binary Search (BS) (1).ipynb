{
 "cells": [
  {
   "cell_type": "markdown",
   "id": "3e416438",
   "metadata": {},
   "source": [
    "# Binary Search(Theory)"
   ]
  },
  {
   "cell_type": "markdown",
   "id": "92af4ed5",
   "metadata": {},
   "source": [
    "# More on Binary Search"
   ]
  },
  {
   "cell_type": "markdown",
   "id": "bae080b6",
   "metadata": {},
   "source": [
    "# Binary Search(code)"
   ]
  },
  {
   "cell_type": "code",
   "execution_count": 1,
   "id": "2ca0d67d",
   "metadata": {},
   "outputs": [],
   "source": [
    "def binary_search(array,element,debug=False):\n",
    "    lower_bound=0\n",
    "    upper_bound=len(array)-1\n",
    "    \n",
    "    while lower_bound<=upper_bound:\n",
    "        middle=(lower_bound+upper_bound)//2 #integer\n",
    "        if debug:\n",
    "            print(\"Lower Bound\",lower_bound)\n",
    "            print(\"Upper Bound\",upper_bound)\n",
    "            print(\"Middle\",middle)\n",
    "        if element == array[middle]:\n",
    "            return \"your value is found at middle at index\",middle\n",
    "        elif element < array[middle]: # lesser condition\n",
    "            # no change in lower bound\n",
    "            upper_bound = middle-1\n",
    "        else: # Greater condition\n",
    "            # upper bound remain same\n",
    "            lower_bound=middle+1\n",
    "    return \"your element isn't available in the given array\"\n",
    "            "
   ]
  },
  {
   "cell_type": "code",
   "execution_count": 2,
   "id": "29d678f6",
   "metadata": {},
   "outputs": [
    {
     "data": {
      "text/plain": [
       "('your value is found at middle at index', 3)"
      ]
     },
     "execution_count": 2,
     "metadata": {},
     "output_type": "execute_result"
    }
   ],
   "source": [
    "array=[12,34,45,56,67,89]\n",
    "x1=56\n",
    "x2=57\n",
    "binary_search(array,x1,debug=False)"
   ]
  },
  {
   "cell_type": "code",
   "execution_count": 3,
   "id": "bc68e92c",
   "metadata": {},
   "outputs": [
    {
     "data": {
      "text/plain": [
       "\"your element isn't available in the given array\""
      ]
     },
     "execution_count": 3,
     "metadata": {},
     "output_type": "execute_result"
    }
   ],
   "source": [
    "array=[12,34,45,56,67,89]\n",
    "x1=56\n",
    "x2=57\n",
    "binary_search(array,x2,debug=False)"
   ]
  },
  {
   "cell_type": "code",
   "execution_count": 6,
   "id": "3f0f2681",
   "metadata": {},
   "outputs": [
    {
     "name": "stdout",
     "output_type": "stream",
     "text": [
      "Lower Bound 0\n",
      "Upper Bound 5\n",
      "Middle 2\n",
      "Lower Bound 3\n",
      "Upper Bound 5\n",
      "Middle 4\n",
      "Lower Bound 3\n",
      "Upper Bound 3\n",
      "Middle 3\n"
     ]
    },
    {
     "data": {
      "text/plain": [
       "('your value is found at middle at index', 3)"
      ]
     },
     "execution_count": 6,
     "metadata": {},
     "output_type": "execute_result"
    }
   ],
   "source": [
    "array=[12,34,45,56,67,89]\n",
    "x1=56\n",
    "x2=57\n",
    "binary_search(array,x1,debug=True)"
   ]
  },
  {
   "cell_type": "code",
   "execution_count": 7,
   "id": "c19d195d",
   "metadata": {},
   "outputs": [
    {
     "name": "stdout",
     "output_type": "stream",
     "text": [
      "Lower Bound 0\n",
      "Upper Bound 5\n",
      "Middle 2\n",
      "Lower Bound 3\n",
      "Upper Bound 5\n",
      "Middle 4\n",
      "Lower Bound 3\n",
      "Upper Bound 3\n",
      "Middle 3\n"
     ]
    },
    {
     "data": {
      "text/plain": [
       "\"your element isn't available in the given array\""
      ]
     },
     "execution_count": 7,
     "metadata": {},
     "output_type": "execute_result"
    }
   ],
   "source": [
    "array=[12,34,45,56,67,89]\n",
    "x1=56\n",
    "x2=57\n",
    "binary_search(array,x2,debug=True)"
   ]
  },
  {
   "cell_type": "code",
   "execution_count": 8,
   "id": "aa6a830c",
   "metadata": {},
   "outputs": [
    {
     "name": "stdout",
     "output_type": "stream",
     "text": [
      "Lower Bound 0\n",
      "Upper Bound 7\n",
      "Middle 3\n"
     ]
    },
    {
     "data": {
      "text/plain": [
       "('your value is found at middle at index', 3)"
      ]
     },
     "execution_count": 8,
     "metadata": {},
     "output_type": "execute_result"
    }
   ],
   "source": [
    "array=[12,34,45,56,56,56,67,89]\n",
    "x1=56\n",
    "x2=57\n",
    "binary_search(array,x1,debug=True)"
   ]
  }
 ],
 "metadata": {
  "kernelspec": {
   "display_name": "Python 3",
   "language": "python",
   "name": "python3"
  },
  "language_info": {
   "codemirror_mode": {
    "name": "ipython",
    "version": 3
   },
   "file_extension": ".py",
   "mimetype": "text/x-python",
   "name": "python",
   "nbconvert_exporter": "python",
   "pygments_lexer": "ipython3",
   "version": "3.8.8"
  }
 },
 "nbformat": 4,
 "nbformat_minor": 5
}
