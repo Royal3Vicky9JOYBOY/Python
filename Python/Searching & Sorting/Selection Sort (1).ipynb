{
 "cells": [
  {
   "cell_type": "markdown",
   "id": "d1126ce6",
   "metadata": {},
   "source": [
    "# Selection Sort(Theory)"
   ]
  },
  {
   "cell_type": "code",
   "execution_count": 12,
   "id": "64b65ce6",
   "metadata": {},
   "outputs": [],
   "source": [
    "def selection_sort(A):\n",
    "    for i in range(len(A)):\n",
    "        min_index=i\n",
    "        for j in range(i+1,len(A)):\n",
    "            if A[j]<A[min_index]:\n",
    "                min_index=j\n",
    "        A[i],A[min_index]=A[min_index],A[i]\n",
    "        \n",
    "    return A"
   ]
  },
  {
   "cell_type": "code",
   "execution_count": 13,
   "id": "decafec1",
   "metadata": {},
   "outputs": [
    {
     "data": {
      "text/plain": [
       "[3, 4, 5, 9, 13]"
      ]
     },
     "execution_count": 13,
     "metadata": {},
     "output_type": "execute_result"
    }
   ],
   "source": [
    "selection_sort([13,4,9,5,3])"
   ]
  }
 ],
 "metadata": {
  "kernelspec": {
   "display_name": "Python 3",
   "language": "python",
   "name": "python3"
  },
  "language_info": {
   "codemirror_mode": {
    "name": "ipython",
    "version": 3
   },
   "file_extension": ".py",
   "mimetype": "text/x-python",
   "name": "python",
   "nbconvert_exporter": "python",
   "pygments_lexer": "ipython3",
   "version": "3.8.8"
  }
 },
 "nbformat": 4,
 "nbformat_minor": 5
}
