{
 "cells": [
  {
   "cell_type": "markdown",
   "id": "01c8a637",
   "metadata": {},
   "source": [
    "# Merge Two Sorted Arrays(Theory)"
   ]
  },
  {
   "cell_type": "code",
   "execution_count": 2,
   "id": "44e622fa",
   "metadata": {},
   "outputs": [],
   "source": [
    "def mergetwoarray(a1,a2,debug=False):\n",
    "    i,j=0,0\n",
    "    len1,len2=len(a1),len(a2)\n",
    "    new_array=[]\n",
    "    \n",
    "    while(i<len1 and j<len2):\n",
    "        if a1[i]<a2[j]:\n",
    "            new_array.append(a1[i])\n",
    "            i=i+1\n",
    "        else:\n",
    "            new_array.append(a2[j])\n",
    "            j=j+1\n",
    "    while (i<len1):\n",
    "        new_array.append(a1[i])\n",
    "        i=i+1\n",
    "    while (j<len2):\n",
    "        new_array.append(a2[j])\n",
    "        j=j+1\n",
    "    return new_array"
   ]
  },
  {
   "cell_type": "code",
   "execution_count": 3,
   "id": "bae3e061",
   "metadata": {},
   "outputs": [
    {
     "data": {
      "text/plain": [
       "[1, 2, 4, 4, 7, 9, 11, 11, 13]"
      ]
     },
     "execution_count": 3,
     "metadata": {},
     "output_type": "execute_result"
    }
   ],
   "source": [
    "a1=[1,2,4,7,11]\n",
    "a2=[4,9,11,13]\n",
    "mergetwoarray(a1,a2)"
   ]
  }
 ],
 "metadata": {
  "kernelspec": {
   "display_name": "Python 3",
   "language": "python",
   "name": "python3"
  },
  "language_info": {
   "codemirror_mode": {
    "name": "ipython",
    "version": 3
   },
   "file_extension": ".py",
   "mimetype": "text/x-python",
   "name": "python",
   "nbconvert_exporter": "python",
   "pygments_lexer": "ipython3",
   "version": "3.8.8"
  }
 },
 "nbformat": 4,
 "nbformat_minor": 5
}
