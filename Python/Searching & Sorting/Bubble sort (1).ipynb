{
 "cells": [
  {
   "cell_type": "markdown",
   "id": "cc85e5f1",
   "metadata": {},
   "source": [
    "# Bubble sort(Theory)"
   ]
  },
  {
   "cell_type": "markdown",
   "id": "e7ecc7db",
   "metadata": {},
   "source": [
    "# Bubble sort(code)"
   ]
  },
  {
   "cell_type": "code",
   "execution_count": 2,
   "id": "8502b665",
   "metadata": {},
   "outputs": [],
   "source": [
    "def bubble_sort(a):  # i is different passes and the j is basically for the comparassion(compare)\n",
    "    for i in range(len(a)):\n",
    "        for j in range(len(a)-1):\n",
    "            if a[j]>a[j+1]:\n",
    "                a[j],a[j+1]=a[j+1],a[j]\n",
    "    return a"
   ]
  },
  {
   "cell_type": "code",
   "execution_count": 4,
   "id": "3c7dddcc",
   "metadata": {},
   "outputs": [
    {
     "data": {
      "text/plain": [
       "[1, 3, 5, 8]"
      ]
     },
     "execution_count": 4,
     "metadata": {},
     "output_type": "execute_result"
    }
   ],
   "source": [
    "bubble_sort([8,5,3,1])"
   ]
  },
  {
   "cell_type": "code",
   "execution_count": 7,
   "id": "b0d88688",
   "metadata": {},
   "outputs": [],
   "source": [
    "def bubble_sort(a):  \n",
    "    for i in range(len(a)):\n",
    "        print(\"This is pass-\",i)\n",
    "        for j in range(len(a)-1):\n",
    "            if a[j]>a[j+1]:\n",
    "                print(\"The pair is\",a[j],\"and\",a[j+1])\n",
    "                a[j],a[j+1]=a[j+1],a[j]\n",
    "    return a"
   ]
  },
  {
   "cell_type": "code",
   "execution_count": 8,
   "id": "2b3417e3",
   "metadata": {
    "scrolled": true
   },
   "outputs": [
    {
     "name": "stdout",
     "output_type": "stream",
     "text": [
      "This is pass- 0\n",
      "The pair is 8 and 5\n",
      "The pair is 8 and 3\n",
      "The pair is 8 and 1\n",
      "This is pass- 1\n",
      "The pair is 5 and 3\n",
      "The pair is 5 and 1\n",
      "This is pass- 2\n",
      "The pair is 3 and 1\n",
      "This is pass- 3\n"
     ]
    },
    {
     "data": {
      "text/plain": [
       "[1, 3, 5, 8]"
      ]
     },
     "execution_count": 8,
     "metadata": {},
     "output_type": "execute_result"
    }
   ],
   "source": [
    "bubble_sort([8,5,3,1])"
   ]
  },
  {
   "cell_type": "markdown",
   "id": "66d6d1c1",
   "metadata": {},
   "source": [
    "# Optimising Bubble sort"
   ]
  },
  {
   "cell_type": "code",
   "execution_count": 1,
   "id": "426e2f07",
   "metadata": {},
   "outputs": [],
   "source": [
    "def bubble_sort(array):\n",
    "    for i in range(len(array)-1):\n",
    "        for j in range(len(array)-1):\n",
    "            if array[j]>array[j+1]:\n",
    "                array[j],array[j+1]=array[j+1],array[j]\n",
    "    return array"
   ]
  },
  {
   "cell_type": "code",
   "execution_count": 2,
   "id": "80633077",
   "metadata": {},
   "outputs": [
    {
     "data": {
      "text/plain": [
       "[1, 3, 4, 5, 7, 9]"
      ]
     },
     "execution_count": 2,
     "metadata": {},
     "output_type": "execute_result"
    }
   ],
   "source": [
    "bubble_sort([9,5,7,3,1,4])"
   ]
  }
 ],
 "metadata": {
  "kernelspec": {
   "display_name": "Python 3",
   "language": "python",
   "name": "python3"
  },
  "language_info": {
   "codemirror_mode": {
    "name": "ipython",
    "version": 3
   },
   "file_extension": ".py",
   "mimetype": "text/x-python",
   "name": "python",
   "nbconvert_exporter": "python",
   "pygments_lexer": "ipython3",
   "version": "3.8.8"
  }
 },
 "nbformat": 4,
 "nbformat_minor": 5
}
