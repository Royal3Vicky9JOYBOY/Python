{
 "cells": [
  {
   "cell_type": "markdown",
   "id": "98fb6785",
   "metadata": {},
   "source": [
    "# Input of Two Dimensional Lists"
   ]
  },
  {
   "cell_type": "code",
   "execution_count": 1,
   "id": "52c2cece",
   "metadata": {},
   "outputs": [
    {
     "name": "stdout",
     "output_type": "stream",
     "text": [
      "3 4\n",
      "1 2 3 4\n",
      "5 6 7 8\n",
      "9 10 11 12 \n"
     ]
    }
   ],
   "source": [
    "str=input().split()\n",
    "n,m=int(str[0]),int(str[1])\n",
    "li=[[int(j) for j in input().split()] for i in range(n)]\n"
   ]
  },
  {
   "cell_type": "code",
   "execution_count": 2,
   "id": "e377b8b3",
   "metadata": {},
   "outputs": [
    {
     "data": {
      "text/plain": [
       "[[1, 2, 3, 4], [5, 6, 7, 8], [9, 10, 11, 12]]"
      ]
     },
     "execution_count": 2,
     "metadata": {},
     "output_type": "execute_result"
    }
   ],
   "source": [
    "li"
   ]
  },
  {
   "cell_type": "code",
   "execution_count": 6,
   "id": "4349bf2d",
   "metadata": {},
   "outputs": [
    {
     "name": "stdout",
     "output_type": "stream",
     "text": [
      "3\n",
      "1 2 3 4\n",
      "5 6\n",
      "7 8 9\n"
     ]
    }
   ],
   "source": [
    "# str=input().split()     # jagged list\n",
    "n =int(input())\n",
    "li=[[int(j) for j in input().split()] for i in range(n)]"
   ]
  },
  {
   "cell_type": "code",
   "execution_count": 7,
   "id": "6f36dff1",
   "metadata": {},
   "outputs": [
    {
     "data": {
      "text/plain": [
       "[[1, 2, 3, 4], [5, 6], [7, 8, 9]]"
      ]
     },
     "execution_count": 7,
     "metadata": {},
     "output_type": "execute_result"
    }
   ],
   "source": [
    "li"
   ]
  },
  {
   "cell_type": "markdown",
   "id": "e0c32f53",
   "metadata": {},
   "source": [
    "# Input of Two Dimensional List -2"
   ]
  },
  {
   "cell_type": "code",
   "execution_count": 8,
   "id": "36484599",
   "metadata": {},
   "outputs": [
    {
     "name": "stdout",
     "output_type": "stream",
     "text": [
      "3 4\n",
      "1 2 3 4 5 6 7 8 9 10 11 12\n"
     ]
    }
   ],
   "source": [
    "str=input().split()\n",
    "n,m=int(str[0]),int(str[1])\n",
    "b = input().split()\n",
    "arr=[[int(b[m*i+j]) for j in range(m)]for i in range(n)]"
   ]
  },
  {
   "cell_type": "code",
   "execution_count": 9,
   "id": "a5414f80",
   "metadata": {},
   "outputs": [
    {
     "data": {
      "text/plain": [
       "[[1, 2, 3, 4], [5, 6, 7, 8], [9, 10, 11, 12]]"
      ]
     },
     "execution_count": 9,
     "metadata": {},
     "output_type": "execute_result"
    }
   ],
   "source": [
    "arr"
   ]
  },
  {
   "cell_type": "code",
   "execution_count": 10,
   "id": "5421bf59",
   "metadata": {},
   "outputs": [
    {
     "name": "stdout",
     "output_type": "stream",
     "text": [
      "3 4 1 2 3 4 5 6 7 8 9 10 11 12\n"
     ]
    }
   ],
   "source": [
    "str=input().split()\n",
    "n,m=int(str[0]),int(str[1])\n",
    "b = str[2:]\n",
    "arr=[[int(b[m*i+j]) for j in range(m)]for i in range(n)]"
   ]
  },
  {
   "cell_type": "code",
   "execution_count": 11,
   "id": "24a6324b",
   "metadata": {},
   "outputs": [
    {
     "data": {
      "text/plain": [
       "[[1, 2, 3, 4], [5, 6, 7, 8], [9, 10, 11, 12]]"
      ]
     },
     "execution_count": 11,
     "metadata": {},
     "output_type": "execute_result"
    }
   ],
   "source": [
    "arr"
   ]
  },
  {
   "cell_type": "code",
   "execution_count": 12,
   "id": "a8d2add7",
   "metadata": {},
   "outputs": [
    {
     "data": {
      "text/plain": [
       "3"
      ]
     },
     "execution_count": 12,
     "metadata": {},
     "output_type": "execute_result"
    }
   ],
   "source": [
    "n"
   ]
  },
  {
   "cell_type": "code",
   "execution_count": 13,
   "id": "994ca6fe",
   "metadata": {},
   "outputs": [
    {
     "data": {
      "text/plain": [
       "4"
      ]
     },
     "execution_count": 13,
     "metadata": {},
     "output_type": "execute_result"
    }
   ],
   "source": [
    "m"
   ]
  },
  {
   "cell_type": "markdown",
   "id": "5f0c8001",
   "metadata": {},
   "source": [
    "# Printing Two Dimensional Lists"
   ]
  },
  {
   "cell_type": "markdown",
   "id": "6096efdf",
   "metadata": {},
   "source": [
    "Iterating on Two Dimensional Lists"
   ]
  },
  {
   "cell_type": "code",
   "execution_count": 14,
   "id": "2e30c923",
   "metadata": {},
   "outputs": [],
   "source": [
    "li=[[1,2,3,4],[5,6,7,8],[9,10,11,12]]"
   ]
  },
  {
   "cell_type": "code",
   "execution_count": 15,
   "id": "1f7b1985",
   "metadata": {},
   "outputs": [],
   "source": [
    "n=3\n",
    "m=4"
   ]
  },
  {
   "cell_type": "code",
   "execution_count": 16,
   "id": "ac64db90",
   "metadata": {},
   "outputs": [
    {
     "name": "stdout",
     "output_type": "stream",
     "text": [
      "1\n",
      "2\n",
      "3\n",
      "4\n",
      "5\n",
      "6\n",
      "7\n",
      "8\n",
      "9\n",
      "10\n",
      "11\n",
      "12\n"
     ]
    }
   ],
   "source": [
    "for i in range(n):\n",
    "    for j in range(m):\n",
    "        print(li[i][j])"
   ]
  },
  {
   "cell_type": "code",
   "execution_count": 17,
   "id": "f415a4a6",
   "metadata": {},
   "outputs": [
    {
     "name": "stdout",
     "output_type": "stream",
     "text": [
      "1 2 3 4 \n",
      "5 6 7 8 \n",
      "9 10 11 12 \n"
     ]
    }
   ],
   "source": [
    "for i in range(n):\n",
    "    for j in range(m):\n",
    "        print(li[i][j],end=' ')\n",
    "    print()"
   ]
  },
  {
   "cell_type": "code",
   "execution_count": 18,
   "id": "ff6a5f76",
   "metadata": {},
   "outputs": [
    {
     "name": "stdout",
     "output_type": "stream",
     "text": [
      "1 2 3 4 \n",
      "5 6 \n",
      "9 10 11 \n"
     ]
    }
   ],
   "source": [
    "li=[[1,2,3,4],[5,6],[9,10,11]]\n",
    "n=3\n",
    "for row in li:\n",
    "    for ele in row:\n",
    "        print(ele,end=' ')\n",
    "    print()"
   ]
  },
  {
   "cell_type": "code",
   "execution_count": 19,
   "id": "25eca378",
   "metadata": {},
   "outputs": [
    {
     "data": {
      "text/plain": [
       "'aabcbabccabcd'"
      ]
     },
     "execution_count": 19,
     "metadata": {},
     "output_type": "execute_result"
    }
   ],
   "source": [
    "'abc'.join('abcd')"
   ]
  },
  {
   "cell_type": "code",
   "execution_count": 20,
   "id": "6917a1b5",
   "metadata": {},
   "outputs": [
    {
     "data": {
      "text/plain": [
       "'1ab2ab3'"
      ]
     },
     "execution_count": 20,
     "metadata": {},
     "output_type": "execute_result"
    }
   ],
   "source": [
    "'ab'.join(['1','2','3'])"
   ]
  },
  {
   "cell_type": "code",
   "execution_count": 1,
   "id": "bb0f0260",
   "metadata": {
    "scrolled": true
   },
   "outputs": [
    {
     "name": "stdout",
     "output_type": "stream",
     "text": [
      "1 2 3 4\n",
      "5 6\n",
      "9 10 11\n"
     ]
    }
   ],
   "source": [
    "li=[[1,2,3,4],[5,6],[9,10,11]]\n",
    "n=3\n",
    "for row in li:\n",
    "    output = ' '.join([str(ele) for ele in row])\n",
    "    print(output)"
   ]
  },
  {
   "cell_type": "markdown",
   "id": "ebc9275a",
   "metadata": {},
   "source": [
    "# Largest Column Sum in Two Dimnensional list"
   ]
  },
  {
   "cell_type": "code",
   "execution_count": 3,
   "id": "d554cafe",
   "metadata": {},
   "outputs": [
    {
     "name": "stdout",
     "output_type": "stream",
     "text": [
      "21 3\n"
     ]
    }
   ],
   "source": [
    "def lar_col_Sum(li):\n",
    "    n=len(li)\n",
    "    m=len(li[0])\n",
    "    \n",
    "    max_Sum=-1\n",
    "    max_col_index=-1\n",
    "    \n",
    "    for j in range(m):\n",
    "        sum=0\n",
    "        for i in range(n):\n",
    "            sum+=li[i][j]\n",
    "        if sum>max_Sum:\n",
    "            max_col_index=j\n",
    "            max_Sum=sum\n",
    "    return max_Sum,max_col_index\n",
    "            \n",
    "li=[[1,2,3,4],[8,7,6,5],[9,10,11,12]]\n",
    "lar_sum,lar_col_index=lar_col_Sum(li)\n",
    "print(lar_sum,lar_col_index)"
   ]
  },
  {
   "cell_type": "code",
   "execution_count": 4,
   "id": "0a988596",
   "metadata": {},
   "outputs": [
    {
     "name": "stdout",
     "output_type": "stream",
     "text": [
      "20 2\n"
     ]
    }
   ],
   "source": [
    "def lar_col_Sum(li):\n",
    "    n=len(li)\n",
    "    m=len(li[0])\n",
    "    \n",
    "    max_Sum=-1\n",
    "    max_col_index=-1\n",
    "    \n",
    "    for j in range(m):\n",
    "        sum=0\n",
    "        for i in range(n):\n",
    "            sum+=li[i][j]\n",
    "        if sum>max_Sum:                     # verticall iteration\n",
    "            max_col_index=j\n",
    "            max_Sum=sum\n",
    "    return max_Sum,max_col_index\n",
    "            \n",
    "li=[[1,2,3,4],[8,7,6,5],[9,10,11,7]]\n",
    "lar_sum,lar_col_index=lar_col_Sum(li)\n",
    "print(lar_sum,lar_col_index)"
   ]
  },
  {
   "cell_type": "code",
   "execution_count": 6,
   "id": "f37e5a94",
   "metadata": {},
   "outputs": [
    {
     "name": "stdout",
     "output_type": "stream",
     "text": [
      "20 2\n"
     ]
    }
   ],
   "source": [
    "def lar_col_Sum(li):\n",
    "    n=len(li)\n",
    "    m=len(li[0])\n",
    "    \n",
    "    max_Sum=-1\n",
    "    max_col_index=-1\n",
    "    \n",
    "    for j in range(m):\n",
    "        sum=0\n",
    "        for ele in li:\n",
    "            sum+=ele[j]\n",
    "        if sum>max_Sum:\n",
    "            max_col_index=j\n",
    "            max_Sum=sum\n",
    "    return max_Sum,max_col_index\n",
    "            \n",
    "li=[[1,2,3,4],[8,7,6,5],[9,10,11,7]]\n",
    "lar_sum,lar_col_index=lar_col_Sum(li)\n",
    "print(lar_sum,lar_col_index)"
   ]
  },
  {
   "cell_type": "code",
   "execution_count": 7,
   "id": "bdfe6c0e",
   "metadata": {},
   "outputs": [
    {
     "name": "stdout",
     "output_type": "stream",
     "text": [
      "1 5 9 2 6 10 3 7 11 4 8 12 "
     ]
    }
   ],
   "source": [
    "li=[[1,2,3,4],[5,6,7,8],[9,10,11,12]]\n",
    "for j in range(4):\n",
    "    for ele in li:\n",
    "        print(ele[j],end = \" \")"
   ]
  }
 ],
 "metadata": {
  "kernelspec": {
   "display_name": "Python 3",
   "language": "python",
   "name": "python3"
  },
  "language_info": {
   "codemirror_mode": {
    "name": "ipython",
    "version": 3
   },
   "file_extension": ".py",
   "mimetype": "text/x-python",
   "name": "python",
   "nbconvert_exporter": "python",
   "pygments_lexer": "ipython3",
   "version": "3.8.8"
  }
 },
 "nbformat": 4,
 "nbformat_minor": 5
}
