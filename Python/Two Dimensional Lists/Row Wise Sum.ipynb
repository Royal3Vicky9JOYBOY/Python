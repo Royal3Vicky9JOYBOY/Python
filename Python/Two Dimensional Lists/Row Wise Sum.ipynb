{
 "cells": [
  {
   "cell_type": "markdown",
   "id": "6d623895",
   "metadata": {},
   "source": [
    "# Row Wise Sum\n",
    "Send Feedback\n",
    "For a given two-dimensional integer array/list of size (N x M), find and print the sum of each of the row elements in a single line, separated by a single space.\n",
    "Input Format :\n",
    "The first line contains an Integer 't' which denotes the number of test cases or queries to be run. Then the test cases follow.\n",
    "\n",
    "First line of each test case or query contains two integer values, 'N' and 'M', separated by a single space. They represent the 'rows' and 'columns' respectively, for the two-dimensional array/list.\n",
    "\n",
    "Second line onwards, the next 'N' lines or rows represent the ith row values.\n",
    "\n",
    "Each of the ith row constitutes 'M' column values separated by a single space.\n",
    "Output Format :\n",
    "For each test case, print the sum of every ith row elements in a single line separated by a single space.\n",
    "\n",
    "Output for every test case will be printed in a seperate line.\n",
    "Constraints :\n",
    "1 <= t <= 10^2\n",
    "0 <= N <= 10^3\n",
    "0 <= M <= 10^3\n",
    "Time Limit: 1sec\n",
    "Sample Input 1:\n",
    "1\n",
    "4 2 \n",
    "1 2 \n",
    "3 4 \n",
    "5 6 \n",
    "7 8\n",
    "Sample Output 1:\n",
    "3 7 11 15 \n",
    "Sample Input 2:\n",
    "2\n",
    "2 5 \n",
    "4 5 3 2 6 \n",
    "7 5 3 8 9\n",
    "4 4\n",
    "1 2 3 4\n",
    "9 8 7 6\n",
    "3 4 5 6\n",
    "-1 1 -10 5\n",
    "Sample Output 2:\n",
    "20 32 \n",
    "10 30 18 -5 \n"
   ]
  },
  {
   "cell_type": "code",
   "execution_count": 1,
   "id": "e795281d",
   "metadata": {},
   "outputs": [
    {
     "ename": "ValueError",
     "evalue": "invalid literal for int() with base 10: ''",
     "output_type": "error",
     "traceback": [
      "\u001b[1;31m---------------------------------------------------------------------------\u001b[0m",
      "\u001b[1;31mValueError\u001b[0m                                Traceback (most recent call last)",
      "\u001b[1;32m<ipython-input-1-35a94d390faf>\u001b[0m in \u001b[0;36m<module>\u001b[1;34m\u001b[0m\n\u001b[0;32m     27\u001b[0m \u001b[1;33m\u001b[0m\u001b[0m\n\u001b[0;32m     28\u001b[0m \u001b[1;31m#main\u001b[0m\u001b[1;33m\u001b[0m\u001b[1;33m\u001b[0m\u001b[1;33m\u001b[0m\u001b[0m\n\u001b[1;32m---> 29\u001b[1;33m \u001b[0mt\u001b[0m \u001b[1;33m=\u001b[0m \u001b[0mint\u001b[0m\u001b[1;33m(\u001b[0m\u001b[0mstdin\u001b[0m\u001b[1;33m.\u001b[0m\u001b[0mreadline\u001b[0m\u001b[1;33m(\u001b[0m\u001b[1;33m)\u001b[0m\u001b[1;33m.\u001b[0m\u001b[0mrstrip\u001b[0m\u001b[1;33m(\u001b[0m\u001b[1;33m)\u001b[0m\u001b[1;33m)\u001b[0m\u001b[1;33m\u001b[0m\u001b[1;33m\u001b[0m\u001b[0m\n\u001b[0m\u001b[0;32m     30\u001b[0m \u001b[1;33m\u001b[0m\u001b[0m\n\u001b[0;32m     31\u001b[0m \u001b[1;32mwhile\u001b[0m \u001b[0mt\u001b[0m \u001b[1;33m>\u001b[0m \u001b[1;36m0\u001b[0m \u001b[1;33m:\u001b[0m\u001b[1;33m\u001b[0m\u001b[1;33m\u001b[0m\u001b[0m\n",
      "\u001b[1;31mValueError\u001b[0m: invalid literal for int() with base 10: ''"
     ]
    }
   ],
   "source": [
    "from sys import stdin\n",
    "\n",
    "def rowWiseSum(mat, nRows, mCols):\n",
    "    for i in range(nRows):\n",
    "        rowSum = 0\n",
    "\n",
    "        for j in range(mCols):\n",
    "            rowSum += mat[i][j]\n",
    "\n",
    "        print(rowSum, end = \" \")\n",
    "        \n",
    "\n",
    "\n",
    "\n",
    "\n",
    "def take2DInput() :\n",
    "    li = stdin.readline().rstrip().split(\" \")\n",
    "    nRows = int(li[0])\n",
    "    mCols = int(li[1])\n",
    "    \n",
    "    if nRows == 0 :\n",
    "        return list(), 0, 0\n",
    "    \n",
    "    mat = [list(map(int, input().strip().split(\" \"))) for row in range(nRows)]\n",
    "    return mat, nRows, mCols\n",
    "\n",
    "\n",
    "#main\n",
    "t = int(stdin.readline().rstrip())\n",
    "\n",
    "while t > 0 :\n",
    "\n",
    "    mat, nRows, mCols = take2DInput()\n",
    "    rowWiseSum(mat, nRows, mCols)\n",
    "    print()\n",
    "\n",
    "    t -= 1"
   ]
  },
  {
   "cell_type": "code",
   "execution_count": null,
   "id": "1f70f1fc",
   "metadata": {},
   "outputs": [],
   "source": []
  }
 ],
 "metadata": {
  "kernelspec": {
   "display_name": "Python 3",
   "language": "python",
   "name": "python3"
  },
  "language_info": {
   "codemirror_mode": {
    "name": "ipython",
    "version": 3
   },
   "file_extension": ".py",
   "mimetype": "text/x-python",
   "name": "python",
   "nbconvert_exporter": "python",
   "pygments_lexer": "ipython3",
   "version": "3.8.8"
  }
 },
 "nbformat": 4,
 "nbformat_minor": 5
}
