{
 "cells": [
  {
   "cell_type": "markdown",
   "id": "82d1ffd8",
   "metadata": {},
   "source": [
    "# Leaders in array\n",
    "Send Feedback\n",
    "Given an integer array A of size n. Find and print all the leaders present in the input array. An array element A[i] is called Leader, if all the elements following it (i.e. present at its right) are less than or equal to A[i].\n",
    "Print all the leader elements separated by space and in the same order they are present in the input array.\n",
    "Input Format :\n",
    "Line 1 : Integer n, size of array\n",
    "Line 2 : Array A elements (separated by space)\n",
    "Output Format :\n",
    " leaders of array (separated by space)\n",
    "Constraints :\n",
    "1 <= n <= 10^6\n",
    "Sample Input 1 :\n",
    "6\n",
    "3 12 34 2 0 -1\n",
    "Sample Output 1 :\n",
    "34 2 0 -1\n",
    "Sample Input 2 :\n",
    "5\n",
    "13 17 5 4 6\n",
    "Sample Output 2 :\n",
    "17 6"
   ]
  },
  {
   "cell_type": "code",
   "execution_count": 4,
   "id": "40239473",
   "metadata": {},
   "outputs": [
    {
     "name": "stdout",
     "output_type": "stream",
     "text": [
      "3\n",
      "3 6 9 33 99\n",
      "9 "
     ]
    }
   ],
   "source": [
    "n = int(input())\n",
    "arr = [int(ele) for ele in input().split()] \n",
    "curr_max = arr[n-1] \n",
    "ans = [arr[n-1]] \n",
    "for i in range(n-2,-1,-1): \n",
    "    if arr[i] >= curr_max:\n",
    "        ans.append(arr[i]) \n",
    "        curr_max = arr[i] \n",
    "for i in range(len(ans)-1,-1,-1):\n",
    "    print(ans[i],end= ' ')\n",
    "    \n"
   ]
  }
 ],
 "metadata": {
  "kernelspec": {
   "display_name": "Python 3",
   "language": "python",
   "name": "python3"
  },
  "language_info": {
   "codemirror_mode": {
    "name": "ipython",
    "version": 3
   },
   "file_extension": ".py",
   "mimetype": "text/x-python",
   "name": "python",
   "nbconvert_exporter": "python",
   "pygments_lexer": "ipython3",
   "version": "3.8.8"
  }
 },
 "nbformat": 4,
 "nbformat_minor": 5
}
