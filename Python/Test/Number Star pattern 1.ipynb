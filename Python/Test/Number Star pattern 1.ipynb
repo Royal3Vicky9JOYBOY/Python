{
 "cells": [
  {
   "cell_type": "markdown",
   "id": "47cd77e6",
   "metadata": {},
   "source": [
    "# Number Star pattern 1\n",
    "Send Feedback\n",
    "Print the following pattern for given number of rows.\n",
    "Input format :\n",
    "Integer N (Total number of rows)\n",
    "Output Format :\n",
    "Pattern in N lines\n",
    "Sample Input :\n",
    "   5\n",
    "Sample Output :\n",
    " 5432*\n",
    " 543*1\n",
    " 54*21\n",
    " 5*321\n",
    " *4321"
   ]
  },
  {
   "cell_type": "code",
   "execution_count": 1,
   "id": "5e3f61a5",
   "metadata": {},
   "outputs": [
    {
     "name": "stdout",
     "output_type": "stream",
     "text": [
      "3\n",
      "32*\n",
      "3*1\n",
      "*21\n"
     ]
    }
   ],
   "source": [
    "n = int(input())\n",
    "for i in range(n):\n",
    "    k = n\n",
    "    for j in range(n):\n",
    "        if i == n-j-1:\n",
    "            print(\"*\",end=\"\")\n",
    "        else:\n",
    "            print(k,end=\"\")\n",
    "        k-=1\n",
    "    print()"
   ]
  }
 ],
 "metadata": {
  "kernelspec": {
   "display_name": "Python 3",
   "language": "python",
   "name": "python3"
  },
  "language_info": {
   "codemirror_mode": {
    "name": "ipython",
    "version": 3
   },
   "file_extension": ".py",
   "mimetype": "text/x-python",
   "name": "python",
   "nbconvert_exporter": "python",
   "pygments_lexer": "ipython3",
   "version": "3.8.8"
  }
 },
 "nbformat": 4,
 "nbformat_minor": 5
}
