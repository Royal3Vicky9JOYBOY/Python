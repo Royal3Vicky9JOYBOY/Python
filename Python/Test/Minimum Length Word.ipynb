{
 "cells": [
  {
   "cell_type": "markdown",
   "id": "37f1e016",
   "metadata": {},
   "source": [
    "# Minimum Length Word\n",
    "Send Feedback\n",
    "Given a string S (that can contain multiple words), you need to find the word which has minimum length.\n",
    "Note : If multiple words are of same length, then answer will be first minimum length word in the string.\n",
    "Words are seperated by single space only.\n",
    "Input Format :\n",
    "String S\n",
    "Output Format :\n",
    "Minimum length word\n",
    "Constraints :\n",
    "1 <= Length of String S <= 10^5\n",
    "Sample Input 1 :\n",
    "this is test string\n",
    "Sample Output 1 :\n",
    "is\n",
    "Sample Input 2 :\n",
    "abc de ghihjk a uvw h j\n",
    "Sample Output 2 :\n",
    "a"
   ]
  },
  {
   "cell_type": "code",
   "execution_count": 6,
   "id": "89f0d29b",
   "metadata": {},
   "outputs": [
    {
     "name": "stdout",
     "output_type": "stream",
     "text": [
      "OnePiece and Naruto this 2 are best anime\n",
      "2\n"
     ]
    }
   ],
   "source": [
    "str = input()\n",
    "min_len = len(str) \n",
    "min_str = str\n",
    "curr_str = \"\" \n",
    "for char in str:\n",
    "    if char == ' ':\n",
    "        if(len(curr_str) < min_len):\n",
    "            min_len = len(curr_str) \n",
    "            min_str = curr_str \n",
    "        curr_str = \"\" \n",
    "    else: \n",
    "        curr_str = curr_str + char \n",
    "if(len(curr_str) < min_len):\n",
    "    min_len = len(curr_str)\n",
    "    min_str = curr_str \n",
    "print(min_str)"
   ]
  }
 ],
 "metadata": {
  "kernelspec": {
   "display_name": "Python 3",
   "language": "python",
   "name": "python3"
  },
  "language_info": {
   "codemirror_mode": {
    "name": "ipython",
    "version": 3
   },
   "file_extension": ".py",
   "mimetype": "text/x-python",
   "name": "python",
   "nbconvert_exporter": "python",
   "pygments_lexer": "ipython3",
   "version": "3.8.8"
  }
 },
 "nbformat": 4,
 "nbformat_minor": 5
}
