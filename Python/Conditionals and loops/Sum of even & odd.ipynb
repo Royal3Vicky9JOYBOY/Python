{
 "cells": [
  {
   "cell_type": "code",
   "execution_count": 1,
   "id": "7755bcf0",
   "metadata": {},
   "outputs": [
    {
     "name": "stdout",
     "output_type": "stream",
     "text": [
      "1234\n",
      "6   4\n"
     ]
    }
   ],
   "source": [
    "#Sum of even & odd\n",
    "\n",
    "#Write a program to input an integer N and print the sum of all its even digits and sum of all its odd digits separately.\n",
    "#Digits mean numbers, not the places! That is, if the given integer is \"13245\", even digits are 2 & 4 and odd digits are 1, 3 & 5.\n",
    "#Input format :\n",
    "# Integer N\n",
    "#Output format :\n",
    "#Sum_of_Even_Digits Sum_of_Odd_Digits\n",
    "#(Print first even sum and then odd sum separated by space)\n",
    "#Constraints\n",
    "#0 <= N <= 10^8\n",
    "#Sample Input 1:\n",
    "#1234\n",
    "#Sample Output 1:\n",
    "#6 4\n",
    "#Sample Input 2:\n",
    "#552245\n",
    "#Sample Output 2:\n",
    "#8 15\n",
    "#Explanation for Input 2:\n",
    "#For the given input, the even digits are 2, 2 and 4 and if we take the sum of these digits it will come out to be 8(2 + 2 + 4) and similarly, if we look at the odd digits, they are, 5, 5 and 5 which makes a sum of 15(5 + 5 + 5). Hence the answer would be, 8(evenSum) <single space> 15(oddSum)\n",
    "num = int(input())\n",
    "\n",
    "evensum = 0\n",
    "oddsum = 0\n",
    "while num > 0:\n",
    "    last = num%10\n",
    "    \n",
    "    if last%2 == 0:\n",
    "        evensum += last\n",
    "    else:\n",
    "        oddsum += last\n",
    "        \n",
    "    num = num//10\n",
    "print(evensum,\" \", oddsum)"
   ]
  }
 ],
 "metadata": {
  "kernelspec": {
   "display_name": "Python 3",
   "language": "python",
   "name": "python3"
  },
  "language_info": {
   "codemirror_mode": {
    "name": "ipython",
    "version": 3
   },
   "file_extension": ".py",
   "mimetype": "text/x-python",
   "name": "python",
   "nbconvert_exporter": "python",
   "pygments_lexer": "ipython3",
   "version": "3.8.8"
  }
 },
 "nbformat": 4,
 "nbformat_minor": 5
}
