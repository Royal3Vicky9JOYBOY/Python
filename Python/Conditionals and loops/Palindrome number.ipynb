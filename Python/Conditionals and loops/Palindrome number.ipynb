{
 "cells": [
  {
   "cell_type": "code",
   "execution_count": 1,
   "id": "4538119c",
   "metadata": {},
   "outputs": [
    {
     "name": "stdout",
     "output_type": "stream",
     "text": [
      "121\n",
      "true\n"
     ]
    }
   ],
   "source": [
    "#Palindrome number\n",
    "\n",
    "#Write a program to determine if given number is palindrome or not. Print true if it is palindrome, false otherwise.\n",
    "#Palindrome are the numbers for which reverse is exactly same as the original one. For eg. 121\n",
    "#Sample Input 1 :\n",
    "#121\n",
    "#Sample Output 1 :\n",
    "#true\n",
    "#Sample Input 2 :\n",
    "#1032\n",
    "#Sample Output 2 :\n",
    "#false\n",
    "num = int(input())\n",
    "temp = num\n",
    "rev = 0\n",
    "\n",
    "while temp != 0:\n",
    "    rev = (rev*10) + (temp%10)\n",
    "    temp = temp//10\n",
    "    \n",
    "if (num == rev):\n",
    "    print('true')\n",
    "else:\n",
    "    print('false')"
   ]
  }
 ],
 "metadata": {
  "kernelspec": {
   "display_name": "Python 3",
   "language": "python",
   "name": "python3"
  },
  "language_info": {
   "codemirror_mode": {
    "name": "ipython",
    "version": 3
   },
   "file_extension": ".py",
   "mimetype": "text/x-python",
   "name": "python",
   "nbconvert_exporter": "python",
   "pygments_lexer": "ipython3",
   "version": "3.8.8"
  }
 },
 "nbformat": 4,
 "nbformat_minor": 5
}
