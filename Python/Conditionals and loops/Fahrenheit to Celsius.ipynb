{
 "cells": [
  {
   "cell_type": "code",
   "execution_count": 1,
   "id": "efce9614",
   "metadata": {},
   "outputs": [
    {
     "name": "stdout",
     "output_type": "stream",
     "text": [
      "10\n",
      "20\n",
      "30\n",
      "10 -12\n"
     ]
    }
   ],
   "source": [
    "#Fahrenheit to Celsius\n",
    "\n",
    "#Given three values - Start Fahrenheit Value (S), End Fahrenheit value (E) and Step Size (W), you need to convert all Fahrenheit values from Start to End at the gap of W, into their corresponding Celsius values and print the table.\n",
    "#Input Format :\n",
    "#3 integers - S, E and W respectively \n",
    "#Output Format :\n",
    "#Fahrenheit to Celsius conversion table. One line for every Fahrenheit and corresponding Celsius value. The Fahrenheit value and its corresponding Celsius value should be separate by single space.\n",
    "#Constraints :\n",
    "#0 <= S <= 80\n",
    "#S <= E <=  900\n",
    "#0 <= W <= 40 \n",
    "#Sample Input 1:\n",
    "#0 \n",
    "#100 \n",
    "#20\n",
    "#Sample Output 1:\n",
    "#0   -17\n",
    "#20  -6\n",
    "#40  4\n",
    "#60  15\n",
    "#80  26\n",
    "#100 37\n",
    "#Sample Input 2:\n",
    "#20\n",
    "#119\n",
    "#13\n",
    "#Sample Output 2:\n",
    "#20  -6\n",
    "#33  0 \n",
    "#46  7\n",
    "#59  15\n",
    "#72  22\n",
    "#85  29\n",
    "#98  36\n",
    "#111 43\n",
    "#Explanation For Input 2:\n",
    "#Start calculating the Celsius values for each Fahrenheit Value which starts from 20. So starting from 20, we need to compute its corresponding Celsius value which computes to -6. We print this information as <Fahrenheit Value> <a single space> <Celsius Value> on each line. Now add 13 to Fahrenheit Value at each step until you reach 119 in this case. You may or may not exactly land on the end value depending on the steps you are taking.\n",
    "S = int(input())\n",
    "E = int(input())\n",
    "W = int(input())\n",
    "while S<=E:\n",
    "    c = int((S-32)*5/9)\n",
    "    print(S,c)\n",
    "    S=S+W"
   ]
  }
 ],
 "metadata": {
  "kernelspec": {
   "display_name": "Python 3",
   "language": "python",
   "name": "python3"
  },
  "language_info": {
   "codemirror_mode": {
    "name": "ipython",
    "version": 3
   },
   "file_extension": ".py",
   "mimetype": "text/x-python",
   "name": "python",
   "nbconvert_exporter": "python",
   "pygments_lexer": "ipython3",
   "version": "3.8.8"
  }
 },
 "nbformat": 4,
 "nbformat_minor": 5
}
