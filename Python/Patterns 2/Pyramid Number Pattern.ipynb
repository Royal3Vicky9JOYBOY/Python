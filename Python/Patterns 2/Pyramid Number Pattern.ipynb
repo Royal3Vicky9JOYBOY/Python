{
 "cells": [
  {
   "cell_type": "markdown",
   "id": "6b6a1f74",
   "metadata": {},
   "source": [
    "# Pyramid Number Pattern\n",
    "Send Feedback\n",
    "Print the following pattern for the given number of rows.\n",
    "Pattern for N = 4\n",
    "   1\n",
    "  212\n",
    " 32123\n",
    "4321234\n",
    "Input format : N (Total no. of rows)\n",
    "\n",
    "Output format : Pattern in N lines\n",
    "\n",
    "Sample Input :\n",
    "5\n",
    "Sample Output :\n",
    "        1\n",
    "      212\n",
    "    32123\n",
    "  4321234\n",
    "543212345"
   ]
  },
  {
   "cell_type": "code",
   "execution_count": 1,
   "id": "bdc5f973",
   "metadata": {},
   "outputs": [
    {
     "name": "stdout",
     "output_type": "stream",
     "text": [
      "3\n",
      "  1\n",
      " 212\n",
      "32123\n"
     ]
    }
   ],
   "source": [
    "n=int(input())\n",
    "i=1\n",
    "while i<=n:\n",
    "    spaces=1\n",
    "    while spaces<=n-i:\n",
    "        print(\" \",end='')\n",
    "        spaces=spaces+1\n",
    "    j=i\n",
    "    while j>=1:\n",
    "        print(j,end='')\n",
    "        j=j-1\n",
    "    p=1\n",
    "    k=2\n",
    "    p=i-1\n",
    "    while p>=1:\n",
    "        print(k,end='')\n",
    "        p=p-1\n",
    "        k=k+1\n",
    "    print()\n",
    "    i=i+1"
   ]
  }
 ],
 "metadata": {
  "kernelspec": {
   "display_name": "Python 3",
   "language": "python",
   "name": "python3"
  },
  "language_info": {
   "codemirror_mode": {
    "name": "ipython",
    "version": 3
   },
   "file_extension": ".py",
   "mimetype": "text/x-python",
   "name": "python",
   "nbconvert_exporter": "python",
   "pygments_lexer": "ipython3",
   "version": "3.8.8"
  }
 },
 "nbformat": 4,
 "nbformat_minor": 5
}
