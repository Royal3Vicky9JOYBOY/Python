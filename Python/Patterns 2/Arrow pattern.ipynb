{
 "cells": [
  {
   "cell_type": "markdown",
   "id": "211de053",
   "metadata": {},
   "source": [
    "# Arrow pattern\n",
    "Send Feedback\n",
    "Print the following pattern for the given number of rows.\n",
    "Assume N is always odd.\n",
    "Note : There is space after every star.\n",
    "Pattern for N = 7\n",
    "*\n",
    " * *\n",
    "   * * *\n",
    "     * * * *\n",
    "   * * *\n",
    " * *\n",
    "*\n",
    "Input format :\n",
    "Integer N (Total no. of rows)\n",
    "Output format :\n",
    "Pattern in N lines\n",
    "Sample Input :\n",
    "11\n",
    "Sample Output :\n",
    "*\n",
    " * *\n",
    "   * * *\n",
    "     * * * *\n",
    "       * * * * *\n",
    "         * * * * * *\n",
    "       * * * * *\n",
    "     * * * *\n",
    "   * * *\n",
    " * *\n",
    "*"
   ]
  },
  {
   "cell_type": "code",
   "execution_count": 1,
   "id": "b24d35d4",
   "metadata": {},
   "outputs": [
    {
     "name": "stdout",
     "output_type": "stream",
     "text": [
      "3\n",
      "* \n",
      " * * \n",
      "* \n"
     ]
    }
   ],
   "source": [
    "n=int(input())\n",
    "n1=(n+1)//2\n",
    "n2=n-n1\n",
    "i=1\n",
    "while i<=n1:\n",
    "    spaces=1\n",
    "    while spaces<=i-1:\n",
    "        print(\" \",end=\"\")\n",
    "        spaces=spaces+1\n",
    "    star=1\n",
    "    while star<=i:\n",
    "        print(\"* \",end=\"\")\n",
    "        star=star+1\n",
    "    print()\n",
    "    i=i+1\n",
    "i=1\n",
    "while i<=n2:\n",
    "    space=1\n",
    "    while space<=n2-i:\n",
    "        print(\" \",end=\"\")\n",
    "        space=space+1\n",
    "    stars=1\n",
    "    while stars<=n2-i+1:\n",
    "        print(\"* \",end=\"\")\n",
    "        stars=stars+1\n",
    "    print()\n",
    "    i = i + 1"
   ]
  }
 ],
 "metadata": {
  "kernelspec": {
   "display_name": "Python 3",
   "language": "python",
   "name": "python3"
  },
  "language_info": {
   "codemirror_mode": {
    "name": "ipython",
    "version": 3
   },
   "file_extension": ".py",
   "mimetype": "text/x-python",
   "name": "python",
   "nbconvert_exporter": "python",
   "pygments_lexer": "ipython3",
   "version": "3.8.8"
  }
 },
 "nbformat": 4,
 "nbformat_minor": 5
}
