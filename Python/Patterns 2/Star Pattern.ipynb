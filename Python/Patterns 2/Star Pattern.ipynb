{
 "cells": [
  {
   "cell_type": "markdown",
   "id": "135fe88b",
   "metadata": {},
   "source": [
    "# Code : Star Pattern\n",
    "Send Feedback\n",
    "Print the following pattern\n",
    "Pattern for N = 4\n",
    "\n",
    "\n",
    "\n",
    "The dots represent spaces.\n",
    "\n",
    "\n",
    "\n",
    "Input Format :\n",
    "N (Total no. of rows)\n",
    "Output Format :\n",
    "Pattern in N lines\n",
    "Constraints :\n",
    "0 <= N <= 50\n",
    "Sample Input 1 :\n",
    "3\n",
    "Sample Output 1 :\n",
    "   *\n",
    "  *** \n",
    " *****\n",
    "Sample Input 2 :\n",
    "4\n",
    "Sample Output 2 :\n",
    "    *\n",
    "   *** \n",
    "  *****\n",
    " *******"
   ]
  },
  {
   "cell_type": "code",
   "execution_count": 1,
   "id": "6890977b",
   "metadata": {},
   "outputs": [
    {
     "name": "stdout",
     "output_type": "stream",
     "text": [
      "3\n",
      "  *\n",
      " ***\n",
      "*****\n"
     ]
    }
   ],
   "source": [
    "n=int(input())\n",
    "i=1 \n",
    "while i<=n:\n",
    "    space=1 \n",
    "    while space<=n-i:\n",
    "        print(\" \",end=\"\")\n",
    "        space=space+1 \n",
    "    stars=1\n",
    "    while stars<=i:\n",
    "        print('*',end=\"\")\n",
    "        stars=stars+1 \n",
    "    stars=i-1\n",
    "    while stars>=1:\n",
    "        print('*',end='')\n",
    "        stars=stars-1\n",
    "    print()\n",
    "    i=i+1"
   ]
  }
 ],
 "metadata": {
  "kernelspec": {
   "display_name": "Python 3",
   "language": "python",
   "name": "python3"
  },
  "language_info": {
   "codemirror_mode": {
    "name": "ipython",
    "version": 3
   },
   "file_extension": ".py",
   "mimetype": "text/x-python",
   "name": "python",
   "nbconvert_exporter": "python",
   "pygments_lexer": "ipython3",
   "version": "3.8.8"
  }
 },
 "nbformat": 4,
 "nbformat_minor": 5
}
