{
 "cells": [
  {
   "cell_type": "markdown",
   "id": "d26426b4",
   "metadata": {},
   "source": [
    "# Code : Diamond of stars\n",
    "Send Feedback\n",
    "Print the following pattern for the given number of rows.\n",
    "Note: N is always odd.\n",
    "\n",
    "\n",
    "Pattern for N = 5\n",
    "\n",
    "\n",
    "\n",
    "The dots represent spaces.\n",
    "\n",
    "\n",
    "\n",
    "Input format :\n",
    "N (Total no. of rows and can only be odd)\n",
    "Output format :\n",
    "Pattern in N lines\n",
    "Constraints :\n",
    "1 <= N <= 49\n",
    "Sample Input 1:\n",
    "5\n",
    "Sample Output 1:\n",
    "  *\n",
    " ***\n",
    "*****\n",
    " ***\n",
    "  *\n",
    "Sample Input 2:\n",
    "3\n",
    "Sample Output 2:\n",
    "  *\n",
    " ***\n",
    "  *\n"
   ]
  },
  {
   "cell_type": "code",
   "execution_count": 1,
   "id": "7d102de2",
   "metadata": {},
   "outputs": [
    {
     "name": "stdout",
     "output_type": "stream",
     "text": [
      "3\n",
      " *\n",
      "***\n",
      " *\n"
     ]
    }
   ],
   "source": [
    "n=int(input())\n",
    "i=1\n",
    "while i<=(n+1)/2:\n",
    "    j=1\n",
    "    while j<=((n+1)/2)-i:\n",
    "        print(\" \",end=\"\")\n",
    "        j=j+1\n",
    "    k=1\n",
    "    while k<=2*i-1:\n",
    "        print(\"*\",end=\"\")\n",
    "        k=k+1\n",
    "    print()\n",
    "    i=i+1\n",
    "i=1\n",
    "while i<=((n-1)/2):\n",
    "    j=1\n",
    "    while j<=i:\n",
    "        print(\" \",end=\"\")\n",
    "        j=j+1\n",
    "    k=1\n",
    "    while k<=n-2*i:\n",
    "        print(\"*\",end=\"\")\n",
    "        k=k+1\n",
    "    print()\n",
    "    i=i+1"
   ]
  }
 ],
 "metadata": {
  "kernelspec": {
   "display_name": "Python 3",
   "language": "python",
   "name": "python3"
  },
  "language_info": {
   "codemirror_mode": {
    "name": "ipython",
    "version": 3
   },
   "file_extension": ".py",
   "mimetype": "text/x-python",
   "name": "python",
   "nbconvert_exporter": "python",
   "pygments_lexer": "ipython3",
   "version": "3.8.8"
  }
 },
 "nbformat": 4,
 "nbformat_minor": 5
}
