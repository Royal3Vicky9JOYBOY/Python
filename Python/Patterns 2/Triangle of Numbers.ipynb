{
 "cells": [
  {
   "cell_type": "markdown",
   "id": "84c95156",
   "metadata": {},
   "source": [
    "# Code : Triangle of Numbers\n",
    "Send Feedback\n",
    "Print the following pattern for the given number of rows.\n",
    "Pattern for N = 4\n",
    "\n",
    "\n",
    "\n",
    "The dots represent spaces.\n",
    "\n",
    "\n",
    "\n",
    "Input format :\n",
    "Integer N (Total no. of rows)\n",
    "Output format :\n",
    "Pattern in N lines\n",
    "Constraints :\n",
    "0 <= N <= 50\n",
    "Sample Input 1:\n",
    "5\n",
    "Sample Output 1:\n",
    "           1\n",
    "         232\n",
    "       34543\n",
    "     4567654\n",
    "   567898765\n",
    "Sample Input 2:\n",
    "4\n",
    "Sample Output 2:\n",
    "           1\n",
    "         232\n",
    "       34543\n",
    "     4567654"
   ]
  },
  {
   "cell_type": "code",
   "execution_count": 1,
   "id": "f8d3d82d",
   "metadata": {},
   "outputs": [
    {
     "name": "stdout",
     "output_type": "stream",
     "text": [
      "3\n",
      "  1\n",
      " 232\n",
      "34543\n"
     ]
    }
   ],
   "source": [
    "n = int(input())\n",
    "i = 1\n",
    "while i<=n:\n",
    "    #spaces\n",
    "    j = 1\n",
    "    while j <= n-i:\n",
    "        print(' ',end='')\n",
    "        j+=1\n",
    "    #increasing\n",
    "    k = 1\n",
    "    p = i\n",
    "    while k <= i:\n",
    "        print(p,end='')\n",
    "        p += 1\n",
    "        k +=1\n",
    "    \n",
    "    k = 1\n",
    "    p = 2*i - 2\n",
    "    while k<=i-1:\n",
    "        print(p,end='')\n",
    "        p -= 1\n",
    "        k +=1\n",
    "        \n",
    "  \n",
    "    print()\n",
    "    i += 1"
   ]
  }
 ],
 "metadata": {
  "kernelspec": {
   "display_name": "Python 3",
   "language": "python",
   "name": "python3"
  },
  "language_info": {
   "codemirror_mode": {
    "name": "ipython",
    "version": 3
   },
   "file_extension": ".py",
   "mimetype": "text/x-python",
   "name": "python",
   "nbconvert_exporter": "python",
   "pygments_lexer": "ipython3",
   "version": "3.8.8"
  }
 },
 "nbformat": 4,
 "nbformat_minor": 5
}
