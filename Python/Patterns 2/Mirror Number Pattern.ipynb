{
 "cells": [
  {
   "cell_type": "markdown",
   "id": "aa915dc1",
   "metadata": {},
   "source": [
    "# Code : Mirror Number Pattern\n",
    "Send Feedback\n",
    "Print the following pattern for the given N number of rows.\n",
    "Pattern for N = 4\n",
    "\n",
    "\n",
    "\n",
    "\n",
    "The dots represent spaces.\n",
    "\n",
    "\n",
    "Input format :\n",
    "Integer N (Total no. of rows)\n",
    "Output format :\n",
    "Pattern in N lines\n",
    "Constraints\n",
    "0 <= N <= 50\n",
    "Sample Input 1:\n",
    "3\n",
    "Sample Output 1:\n",
    "      1 \n",
    "    12\n",
    "  123\n",
    "Sample Input 2:\n",
    "4\n",
    "Sample Output 2:\n",
    "      1 \n",
    "    12\n",
    "  123\n",
    "1234"
   ]
  },
  {
   "cell_type": "code",
   "execution_count": 1,
   "id": "7e7432f4",
   "metadata": {},
   "outputs": [
    {
     "name": "stdout",
     "output_type": "stream",
     "text": [
      "3\n",
      "  1\n",
      " 12\n",
      "123\n"
     ]
    }
   ],
   "source": [
    "n=int(input())\n",
    "i=1 \n",
    "while i<=n:\n",
    "    space=1 \n",
    "    while space<=n-i:\n",
    "        print(\" \",end=\"\")\n",
    "        space=space+1 \n",
    "    j=1\n",
    "    while j<=i:\n",
    "        print(j,end=\"\")\n",
    "        j=j+1 \n",
    "    \n",
    "    print()\n",
    "    i=i+1"
   ]
  }
 ],
 "metadata": {
  "kernelspec": {
   "display_name": "Python 3",
   "language": "python",
   "name": "python3"
  },
  "language_info": {
   "codemirror_mode": {
    "name": "ipython",
    "version": 3
   },
   "file_extension": ".py",
   "mimetype": "text/x-python",
   "name": "python",
   "nbconvert_exporter": "python",
   "pygments_lexer": "ipython3",
   "version": "3.8.8"
  }
 },
 "nbformat": 4,
 "nbformat_minor": 5
}
