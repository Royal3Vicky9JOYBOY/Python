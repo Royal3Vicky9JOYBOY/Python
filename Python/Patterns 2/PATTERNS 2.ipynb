{
 "cells": [
  {
   "cell_type": "markdown",
   "id": "3bd6b71e",
   "metadata": {},
   "source": [
    "# INVERTED TRIANGLE"
   ]
  },
  {
   "cell_type": "code",
   "execution_count": 2,
   "id": "3601f621",
   "metadata": {},
   "outputs": [
    {
     "name": "stdout",
     "output_type": "stream",
     "text": [
      "3\n",
      "***\n",
      "**\n",
      "*\n"
     ]
    }
   ],
   "source": [
    "n=int(input())\n",
    "i=1\n",
    "while i<=n:\n",
    "    j=1\n",
    "    while j<=n-i+1:\n",
    "        print('*',end=\"\")\n",
    "        j=j+1\n",
    "    print()\n",
    "    i=i+1\n",
    "        "
   ]
  },
  {
   "cell_type": "markdown",
   "id": "509974df",
   "metadata": {},
   "source": [
    "# REVERSED PATTERN"
   ]
  },
  {
   "cell_type": "code",
   "execution_count": 5,
   "id": "4f3ffe37",
   "metadata": {},
   "outputs": [
    {
     "name": "stdout",
     "output_type": "stream",
     "text": [
      "3\n",
      "  * \n",
      " * * \n",
      "* * * \n"
     ]
    }
   ],
   "source": [
    "n = int(input())\n",
    "i = 1\n",
    "while i <= n:\n",
    "    spaces = 1\n",
    "    while spaces <= n - i:\n",
    "        print('',end= \" \")\n",
    "        spaces = spaces + 1\n",
    "    stars = 1\n",
    "    while stars <= i:\n",
    "        print('*', end= \" \")\n",
    "        stars = stars + 1\n",
    "    print()\n",
    "    i = i + 1\n"
   ]
  },
  {
   "cell_type": "markdown",
   "id": "ceab8365",
   "metadata": {},
   "source": [
    "# isosceles pattern"
   ]
  },
  {
   "cell_type": "code",
   "execution_count": null,
   "id": "b1b95975",
   "metadata": {},
   "outputs": [],
   "source": [
    "    1\n",
    "   121\n",
    "  12321\n",
    " 1234321"
   ]
  },
  {
   "cell_type": "code",
   "execution_count": 6,
   "id": "21b4965f",
   "metadata": {},
   "outputs": [
    {
     "name": "stdout",
     "output_type": "stream",
     "text": [
      "4\n",
      "   1\n",
      "  12\n",
      " 123\n",
      "1234\n"
     ]
    }
   ],
   "source": [
    "n=int(input())\n",
    "i=1\n",
    "while i<=n:\n",
    "    spaces=1\n",
    "    while spaces<=n-i:\n",
    "        print(' ', end='')\n",
    "        spaces=spaces+1\n",
    "    p=1\n",
    "    j=1\n",
    "    while j<=i:\n",
    "        print(p,end='')\n",
    "        j=j+1\n",
    "        p=p+1\n",
    "    print()\n",
    "    i=i+1\n",
    "    "
   ]
  },
  {
   "cell_type": "code",
   "execution_count": 7,
   "id": "ab4fed5f",
   "metadata": {},
   "outputs": [
    {
     "name": "stdout",
     "output_type": "stream",
     "text": [
      "4\n",
      "   1\n",
      "  121\n",
      " 12321\n",
      "1234321\n"
     ]
    }
   ],
   "source": [
    "n=int(input())\n",
    "i=1\n",
    "while i<=n:\n",
    "    spaces=1\n",
    "    # spaces\n",
    "    while spaces<=n-i:\n",
    "        print(' ', end='')\n",
    "        spaces=spaces+1\n",
    "    p=1\n",
    "    j=1\n",
    "    # increasing seq\n",
    "    while j<=i:\n",
    "        print(p,end='')\n",
    "        j=j+1\n",
    "        p=p+1\n",
    "    # decreasing seq\n",
    "    p=i-1\n",
    "    while p>=1:\n",
    "        print(p,end='')\n",
    "        p=p-1\n",
    "    print()\n",
    "    i=i+1"
   ]
  }
 ],
 "metadata": {
  "kernelspec": {
   "display_name": "Python 3",
   "language": "python",
   "name": "python3"
  },
  "language_info": {
   "codemirror_mode": {
    "name": "ipython",
    "version": 3
   },
   "file_extension": ".py",
   "mimetype": "text/x-python",
   "name": "python",
   "nbconvert_exporter": "python",
   "pygments_lexer": "ipython3",
   "version": "3.8.8"
  }
 },
 "nbformat": 4,
 "nbformat_minor": 5
}
