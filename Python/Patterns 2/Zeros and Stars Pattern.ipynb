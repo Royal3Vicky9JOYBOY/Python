{
 "cells": [
  {
   "cell_type": "markdown",
   "id": "89733414",
   "metadata": {},
   "source": [
    "# Zeros and Stars Pattern\n",
    "Send Feedback\n",
    "Print the following pattern\n",
    "Pattern for N = 4\n",
    "*000*000*\n",
    "0*00*00*0\n",
    "00*0*0*00\n",
    "000***000\n",
    "Input Format :\n",
    "N (Total no. of rows)\n",
    "Output Format :\n",
    "Pattern in N lines\n",
    "Sample Input 1 :\n",
    "3\n",
    "Sample Output 1 :\n",
    "*00*00*\n",
    "0*0*0*0\n",
    "00***00\n",
    "Sample Input 2 :\n",
    "5\n",
    "Sample Output 2 :\n",
    "*0000*0000*\n",
    "0*000*000*0\n",
    "00*00*00*00\n",
    "000*0*0*000\n",
    "0000***0000"
   ]
  },
  {
   "cell_type": "code",
   "execution_count": 1,
   "id": "e2f9d1f0",
   "metadata": {},
   "outputs": [
    {
     "name": "stdout",
     "output_type": "stream",
     "text": [
      "3\n",
      "*00*00*\n",
      "0*0*0*0\n",
      "00***00\n"
     ]
    }
   ],
   "source": [
    "n = int(input())\n",
    "for i in range(1,n+1,1):\n",
    "    for j in range(1,2*n+2,1):\n",
    "        if i==j or i+j==2*n+2 or j == n+1:\n",
    "            print(\"*\",end=\"\")\n",
    "        else:\n",
    "            print(\"0\",end=\"\")\n",
    "    print()"
   ]
  }
 ],
 "metadata": {
  "kernelspec": {
   "display_name": "Python 3",
   "language": "python",
   "name": "python3"
  },
  "language_info": {
   "codemirror_mode": {
    "name": "ipython",
    "version": 3
   },
   "file_extension": ".py",
   "mimetype": "text/x-python",
   "name": "python",
   "nbconvert_exporter": "python",
   "pygments_lexer": "ipython3",
   "version": "3.8.8"
  }
 },
 "nbformat": 4,
 "nbformat_minor": 5
}
