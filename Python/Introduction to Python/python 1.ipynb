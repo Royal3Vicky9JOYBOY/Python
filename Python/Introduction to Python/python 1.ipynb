{
 "cells": [
  {
   "cell_type": "code",
   "execution_count": 7,
   "id": "7c80d660",
   "metadata": {},
   "outputs": [
    {
     "name": "stdout",
     "output_type": "stream",
     "text": [
      "multiple\n"
     ]
    }
   ],
   "source": [
    "a = 10\n",
    "b = 20 \n",
    "multiple = a*b\n",
    "print(\"multiple\")"
   ]
  },
  {
   "cell_type": "code",
   "execution_count": null,
   "id": "7ec1b424",
   "metadata": {},
   "outputs": [],
   "source": []
  },
  {
   "cell_type": "code",
   "execution_count": 10,
   "id": "dc1d2f4e",
   "metadata": {},
   "outputs": [
    {
     "name": "stdout",
     "output_type": "stream",
     "text": [
      "200\n"
     ]
    }
   ],
   "source": [
    "a = 10\n",
    "b = 20 \n",
    "multiple = a*b\n",
    "print(multiple)"
   ]
  },
  {
   "cell_type": "code",
   "execution_count": 13,
   "id": "4e3c4142",
   "metadata": {},
   "outputs": [
    {
     "name": "stdout",
     "output_type": "stream",
     "text": [
      "abcd\n"
     ]
    }
   ],
   "source": [
    "x = 10\n",
    "x = \"abcd\"\n",
    "print(x)"
   ]
  },
  {
   "cell_type": "code",
   "execution_count": 15,
   "id": "9425ebb0",
   "metadata": {},
   "outputs": [
    {
     "name": "stdout",
     "output_type": "stream",
     "text": [
      "<class 'int'>\n"
     ]
    }
   ],
   "source": [
    "x = \"abcd\"\n",
    "x = 10\n",
    "print(type(x))"
   ]
  },
  {
   "cell_type": "markdown",
   "id": "be621da4",
   "metadata": {},
   "source": [
    "# python numbers"
   ]
  },
  {
   "cell_type": "code",
   "execution_count": 18,
   "id": "e610a60d",
   "metadata": {},
   "outputs": [
    {
     "name": "stdout",
     "output_type": "stream",
     "text": [
      "<class 'int'>\n",
      "<class 'float'>\n",
      "<class 'complex'>\n"
     ]
    }
   ],
   "source": [
    "a1=23\n",
    "a2=3.4\n",
    "a3=4+5j\n",
    "print(type(a1))\n",
    "print(type(a2))\n",
    "print(type(a3))"
   ]
  },
  {
   "cell_type": "code",
   "execution_count": 29,
   "id": "4155e6fa",
   "metadata": {},
   "outputs": [
    {
     "name": "stdout",
     "output_type": "stream",
     "text": [
      "140710282733648\n",
      "140710282733680\n"
     ]
    },
    {
     "data": {
      "text/plain": [
       "11"
      ]
     },
     "execution_count": 29,
     "metadata": {},
     "output_type": "execute_result"
    }
   ],
   "source": [
    "a=10\n",
    "print(id(a))\n",
    "a=a+1\n",
    "print(id(a))\n",
    "a\n"
   ]
  },
  {
   "cell_type": "code",
   "execution_count": 23,
   "id": "fe01056f",
   "metadata": {},
   "outputs": [
    {
     "name": "stdout",
     "output_type": "stream",
     "text": [
      "140710282733680\n"
     ]
    }
   ],
   "source": [
    "print(id(a))"
   ]
  },
  {
   "cell_type": "code",
   "execution_count": 25,
   "id": "d941ddcf",
   "metadata": {},
   "outputs": [
    {
     "name": "stdout",
     "output_type": "stream",
     "text": [
      "140710282733392\n",
      "140710282733424\n"
     ]
    }
   ],
   "source": [
    "a=2\n",
    "print(id(a))\n",
    "a=3\n",
    "print(id(a))"
   ]
  },
  {
   "cell_type": "code",
   "execution_count": 28,
   "id": "736731a2",
   "metadata": {},
   "outputs": [
    {
     "name": "stdout",
     "output_type": "stream",
     "text": [
      "140710282733424\n",
      "140710282733424\n"
     ]
    }
   ],
   "source": [
    "a=3\n",
    "b=3\n",
    "print(id(a))\n",
    "print(id(b))\n"
   ]
  },
  {
   "cell_type": "code",
   "execution_count": 30,
   "id": "aee288c1",
   "metadata": {},
   "outputs": [
    {
     "name": "stdout",
     "output_type": "stream",
     "text": [
      "2508499725680\n",
      "2508499723824\n"
     ]
    }
   ],
   "source": [
    "a = 1000\n",
    "b = 1000\n",
    "print(id(a))\n",
    "print(id(b))"
   ]
  },
  {
   "cell_type": "code",
   "execution_count": 41,
   "id": "f2587b9c",
   "metadata": {},
   "outputs": [],
   "source": [
    "a = 10\n",
    "id1 = id(a)\n",
    "b = a + 2-2\n",
    "id2 = id(b)"
   ]
  },
  {
   "cell_type": "markdown",
   "id": "db284f38",
   "metadata": {},
   "source": [
    "id1 and id2 have same value?\n",
    "yes"
   ]
  },
  {
   "cell_type": "markdown",
   "id": "992acb34",
   "metadata": {},
   "source": [
    "# arithmetic operators\n"
   ]
  },
  {
   "cell_type": "code",
   "execution_count": 54,
   "id": "1f418cc2",
   "metadata": {},
   "outputs": [
    {
     "name": "stdout",
     "output_type": "stream",
     "text": [
      "6\n",
      "14\n",
      "40\n",
      "10000\n",
      "2\n",
      "2.5\n",
      "2\n"
     ]
    }
   ],
   "source": [
    "a=10\n",
    "b=4\n",
    "print(a-b)\n",
    "print(a+b)\n",
    "print(a*b)\n",
    "print(a**b) #exponentiation like 10 to the power 4\n",
    "print(a//b) #integer division\n",
    "print(a/b)  #floating point division\n",
    "print(a%b)\n"
   ]
  },
  {
   "cell_type": "code",
   "execution_count": 59,
   "id": "d3fee255",
   "metadata": {},
   "outputs": [
    {
     "data": {
      "text/plain": [
       "14"
      ]
     },
     "execution_count": 59,
     "metadata": {},
     "output_type": "execute_result"
    }
   ],
   "source": [
    "2+(3*4)"
   ]
  },
  {
   "cell_type": "code",
   "execution_count": 65,
   "id": "c2f1d32a",
   "metadata": {},
   "outputs": [
    {
     "data": {
      "text/plain": [
       "2.75"
      ]
     },
     "execution_count": 65,
     "metadata": {},
     "output_type": "execute_result"
    }
   ],
   "source": [
    "2 + 3 / 4"
   ]
  },
  {
   "cell_type": "code",
   "execution_count": 68,
   "id": "8b1fae8c",
   "metadata": {},
   "outputs": [
    {
     "name": "stdout",
     "output_type": "stream",
     "text": [
      "1.5\n"
     ]
    },
    {
     "data": {
      "text/plain": [
       "1"
      ]
     },
     "execution_count": 68,
     "metadata": {},
     "output_type": "execute_result"
    }
   ],
   "source": [
    "print(2*3/4) \n",
    "2*3//4"
   ]
  },
  {
   "cell_type": "code",
   "execution_count": 70,
   "id": "eed0b142",
   "metadata": {},
   "outputs": [
    {
     "data": {
      "text/plain": [
       "0"
      ]
     },
     "execution_count": 70,
     "metadata": {},
     "output_type": "execute_result"
    }
   ],
   "source": [
    "#simple interest\n",
    "p=100\n",
    "r=12\n",
    "t=2\n",
    "si=t//100*r*p\n",
    "si "
   ]
  },
  {
   "cell_type": "code",
   "execution_count": 76,
   "id": "d4a73a9a",
   "metadata": {},
   "outputs": [
    {
     "data": {
      "text/plain": [
       "24"
      ]
     },
     "execution_count": 76,
     "metadata": {},
     "output_type": "execute_result"
    }
   ],
   "source": [
    "p=100\n",
    "r=12\n",
    "t=2\n",
    "#si=t//100*r*p\n",
    "#si=p*r*t//100\n",
    "si=(p*r*t)//100\n",
    "si"
   ]
  },
  {
   "cell_type": "code",
   "execution_count": 77,
   "id": "3b6eb04c",
   "metadata": {},
   "outputs": [
    {
     "name": "stdout",
     "output_type": "stream",
     "text": [
      "37.77777777777778\n",
      "37\n"
     ]
    }
   ],
   "source": [
    "#fah t0  celcium convertion\n",
    "f=100\n",
    "c=(f-32)*5/9\n",
    "print(c)\n",
    "ci=(f-32)*5//9\n",
    "print(ci)"
   ]
  }
 ],
 "metadata": {
  "kernelspec": {
   "display_name": "Python 3",
   "language": "python",
   "name": "python3"
  },
  "language_info": {
   "codemirror_mode": {
    "name": "ipython",
    "version": 3
   },
   "file_extension": ".py",
   "mimetype": "text/x-python",
   "name": "python",
   "nbconvert_exporter": "python",
   "pygments_lexer": "ipython3",
   "version": "3.8.8"
  }
 },
 "nbformat": 4,
 "nbformat_minor": 5
}
