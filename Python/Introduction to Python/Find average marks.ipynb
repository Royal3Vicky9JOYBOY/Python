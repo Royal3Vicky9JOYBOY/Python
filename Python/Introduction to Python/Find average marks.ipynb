{
 "cells": [
  {
   "cell_type": "code",
   "execution_count": 1,
   "id": "5e7c21dc",
   "metadata": {},
   "outputs": [
    {
     "name": "stdout",
     "output_type": "stream",
     "text": [
      "3\n",
      "6\n",
      "9\n",
      "6.0\n"
     ]
    }
   ],
   "source": [
    "#Find average Marks\n",
    "\n",
    "# Write a program to input marks of three tests of a student (all integers). Then calculate and print the average of all test marks\n",
    "\n",
    "a=int(input())\n",
    "b=int(input())\n",
    "c=int(input())\n",
    "total_marks=a+b+c\n",
    "average_marks=(total_marks)/3\n",
    "print(average_marks)\n",
    "\n"
   ]
  },
  {
   "cell_type": "markdown",
   "id": "0bbd26a5",
   "metadata": {},
   "source": []
  }
 ],
 "metadata": {
  "kernelspec": {
   "display_name": "Python 3",
   "language": "python",
   "name": "python3"
  },
  "language_info": {
   "codemirror_mode": {
    "name": "ipython",
    "version": 3
   },
   "file_extension": ".py",
   "mimetype": "text/x-python",
   "name": "python",
   "nbconvert_exporter": "python",
   "pygments_lexer": "ipython3",
   "version": "3.8.8"
  }
 },
 "nbformat": 4,
 "nbformat_minor": 5
}
