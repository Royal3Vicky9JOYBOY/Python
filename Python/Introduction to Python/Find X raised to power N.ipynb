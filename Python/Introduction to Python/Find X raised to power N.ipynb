{
 "cells": [
  {
   "cell_type": "code",
   "execution_count": 1,
   "id": "46cf52f5",
   "metadata": {},
   "outputs": [
    {
     "name": "stdout",
     "output_type": "stream",
     "text": [
      "3\n",
      "6\n",
      "729\n"
     ]
    }
   ],
   "source": [
    "#Find X raised to power N\n",
    "\n",
    "# You are given two integers: X and N. You have to calculate X raised to power N and print it.\n",
    "# The first line of input contains an integer X (1 <= X <= 100)\n",
    "# The second line of input contains an integer N (1 <= N <= 10) \n",
    "x=int(input())\n",
    "N=int(input())\n",
    "power=x**N\n",
    "print(power)"
   ]
  }
 ],
 "metadata": {
  "kernelspec": {
   "display_name": "Python 3",
   "language": "python",
   "name": "python3"
  },
  "language_info": {
   "codemirror_mode": {
    "name": "ipython",
    "version": 3
   },
   "file_extension": ".py",
   "mimetype": "text/x-python",
   "name": "python",
   "nbconvert_exporter": "python",
   "pygments_lexer": "ipython3",
   "version": "3.8.8"
  }
 },
 "nbformat": 4,
 "nbformat_minor": 5
}
