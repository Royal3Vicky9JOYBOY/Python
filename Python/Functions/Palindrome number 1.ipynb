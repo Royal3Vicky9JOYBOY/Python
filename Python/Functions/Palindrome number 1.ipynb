{
 "cells": [
  {
   "cell_type": "markdown",
   "id": "52f6f4b3",
   "metadata": {},
   "source": [
    "# Palindrome number\n",
    "Send Feedback\n",
    "Write a program to determine if given number is palindrome or not. Print true if it is palindrome, false otherwise.\n",
    "Palindrome are the numbers for which reverse is exactly same as the original one. For eg. 121\n",
    "Sample Input 1 :\n",
    "121\n",
    "Sample Output 1 :\n",
    "true\n",
    "Sample Input 2 :\n",
    "1032\n",
    "Sample Output 2 :\n",
    "false"
   ]
  },
  {
   "cell_type": "code",
   "execution_count": 1,
   "id": "70719cc8",
   "metadata": {},
   "outputs": [
    {
     "name": "stdout",
     "output_type": "stream",
     "text": [
      "9\n",
      "true\n"
     ]
    }
   ],
   "source": [
    "n = int(input())\n",
    "nclone = n\n",
    "rev = 0\n",
    "while n > 0:\n",
    "    l = n % 10\n",
    "    n = n//10\n",
    "    rev = rev * 10 + l\n",
    "if nclone == rev:\n",
    "    print(\"true\")\n",
    "else :\n",
    "    print(\"false\")"
   ]
  }
 ],
 "metadata": {
  "kernelspec": {
   "display_name": "Python 3",
   "language": "python",
   "name": "python3"
  },
  "language_info": {
   "codemirror_mode": {
    "name": "ipython",
    "version": 3
   },
   "file_extension": ".py",
   "mimetype": "text/x-python",
   "name": "python",
   "nbconvert_exporter": "python",
   "pygments_lexer": "ipython3",
   "version": "3.8.8"
  }
 },
 "nbformat": 4,
 "nbformat_minor": 5
}
