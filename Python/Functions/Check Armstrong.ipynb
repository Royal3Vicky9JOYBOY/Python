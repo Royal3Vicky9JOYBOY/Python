{
 "cells": [
  {
   "cell_type": "markdown",
   "id": "576be2f4",
   "metadata": {},
   "source": [
    "# Check Armstrong\n",
    "Send Feedback\n",
    "Write a Program to determine if the given number is Armstrong number or not. Print true if number is armstrong, otherwise print false.\n",
    "An Armstrong number is a number (with digits n) such that the sum of its digits raised to nth power is equal to the number itself.\n",
    "For example,\n",
    "371, as 3^3 + 7^3 + 1^3 = 371\n",
    "1634, as 1^4 + 6^4 + 3^4 + 4^4 = 1634\n",
    "Input Format :\n",
    "Integer n\n",
    "Output Format :\n",
    "true or false\n",
    "Sample Input 1 :\n",
    "1\n",
    "Sample Output 1 :\n",
    "true\n",
    "Sample Input 2 :\n",
    "103\n",
    "Sample Output 2 :\n",
    "false"
   ]
  },
  {
   "cell_type": "code",
   "execution_count": 1,
   "id": "9d5f624a",
   "metadata": {},
   "outputs": [
    {
     "name": "stdout",
     "output_type": "stream",
     "text": [
      "6\n",
      "true\n"
     ]
    }
   ],
   "source": [
    "def checkArmstrong(n):\n",
    "    digit=0\n",
    "    num=n\n",
    "    while num!=0:\n",
    "        digit=digit+1\n",
    "        num=num//10\n",
    "        \n",
    "    temp=n\n",
    "    newnum=0\n",
    "    while temp!=0:\n",
    "        x=temp%10\n",
    "        newnum=newnum+(x**digit)\n",
    "        temp=temp//10\n",
    "    if (newnum==n):\n",
    "      return True\n",
    "    \n",
    "\n",
    "n=int(input())\n",
    "checkArmstrong(n)\n",
    "if checkArmstrong(n):\n",
    "    print('true')\n",
    "else:\n",
    "    print('false')"
   ]
  }
 ],
 "metadata": {
  "kernelspec": {
   "display_name": "Python 3",
   "language": "python",
   "name": "python3"
  },
  "language_info": {
   "codemirror_mode": {
    "name": "ipython",
    "version": 3
   },
   "file_extension": ".py",
   "mimetype": "text/x-python",
   "name": "python",
   "nbconvert_exporter": "python",
   "pygments_lexer": "ipython3",
   "version": "3.8.8"
  }
 },
 "nbformat": 4,
 "nbformat_minor": 5
}
