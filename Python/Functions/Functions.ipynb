{
 "cells": [
  {
   "cell_type": "markdown",
   "id": "bf0f8a40",
   "metadata": {},
   "source": [
    "# Functions and how to use them\n"
   ]
  },
  {
   "cell_type": "markdown",
   "id": "02031c99",
   "metadata": {},
   "source": [
    "n               n!\n",
    " C     ->   ___________\n",
    "  r           r!(n-r)!"
   ]
  },
  {
   "cell_type": "code",
   "execution_count": 3,
   "id": "916d89a5",
   "metadata": {},
   "outputs": [
    {
     "name": "stdout",
     "output_type": "stream",
     "text": [
      "5\n",
      "2\n",
      "10\n"
     ]
    }
   ],
   "source": [
    "n=int(input())\n",
    "r=int(input())\n",
    "n_fact=1\n",
    "for i in range(1,n+1):\n",
    "    n_fact=n_fact*i\n",
    "r_fact=1\n",
    "for i in range(1,r+1):\n",
    "    r_fact=r_fact*i\n",
    "n_r_fact=1\n",
    "for i in range(1,n-r+1):\n",
    "    n_r_fact=n_r_fact*i\n",
    "ans=n_fact//(r_fact*n_r_fact)\n",
    "print(ans)"
   ]
  },
  {
   "cell_type": "code",
   "execution_count": 4,
   "id": "95072478",
   "metadata": {},
   "outputs": [],
   "source": [
    "def fact(v):\n",
    "    v_fact=1\n",
    "    for i in range(1,v+1):\n",
    "        v_fact=v_fact*i\n",
    "    return v_fact\n",
    "    \n",
    "    "
   ]
  },
  {
   "cell_type": "code",
   "execution_count": 5,
   "id": "76fd2320",
   "metadata": {},
   "outputs": [
    {
     "data": {
      "text/plain": [
       "6"
      ]
     },
     "execution_count": 5,
     "metadata": {},
     "output_type": "execute_result"
    }
   ],
   "source": [
    "fact(3)"
   ]
  },
  {
   "cell_type": "code",
   "execution_count": 6,
   "id": "5b35679d",
   "metadata": {},
   "outputs": [
    {
     "data": {
      "text/plain": [
       "6"
      ]
     },
     "execution_count": 6,
     "metadata": {},
     "output_type": "execute_result"
    }
   ],
   "source": [
    "a=fact(3)\n",
    "a"
   ]
  },
  {
   "cell_type": "code",
   "execution_count": 8,
   "id": "8b7c1f2d",
   "metadata": {},
   "outputs": [
    {
     "name": "stdout",
     "output_type": "stream",
     "text": [
      "9\n",
      "3\n",
      "84\n"
     ]
    }
   ],
   "source": [
    "n=int(input())\n",
    "r=int(input())\n",
    "n_fact=fact(n)\n",
    "r_fact=fact(r)\n",
    "n_r_fact=fact(n-r)\n",
    "ans=n_fact//(r_fact*n_r_fact)\n",
    "print(ans)"
   ]
  },
  {
   "cell_type": "markdown",
   "id": "9d790961",
   "metadata": {},
   "source": [
    "# Why do we need functions\n"
   ]
  },
  {
   "cell_type": "markdown",
   "id": "743449ed",
   "metadata": {},
   "source": [
    "readability ,avoid repetation,testing."
   ]
  },
  {
   "cell_type": "markdown",
   "id": "dd9ef276",
   "metadata": {},
   "source": [
    "# Functions"
   ]
  },
  {
   "cell_type": "code",
   "execution_count": 10,
   "id": "e444fac0",
   "metadata": {},
   "outputs": [],
   "source": [
    "def isPrime(n):\n",
    "    for d in range(2,n):\n",
    "        if(n%d==0):\n",
    "            break\n",
    "    else:\n",
    "        return True\n",
    "    return False"
   ]
  },
  {
   "cell_type": "code",
   "execution_count": 11,
   "id": "96f5de5f",
   "metadata": {},
   "outputs": [
    {
     "data": {
      "text/plain": [
       "False"
      ]
     },
     "execution_count": 11,
     "metadata": {},
     "output_type": "execute_result"
    }
   ],
   "source": [
    "isPrime(39)"
   ]
  },
  {
   "cell_type": "code",
   "execution_count": 12,
   "id": "5d32d817",
   "metadata": {},
   "outputs": [],
   "source": [
    "# print all prime numbers from 2 to N\n",
    "def primeFrom2ToN(n):\n",
    "    for k in range(2,n+1):\n",
    "        #check if k is prime and in case it is prime we print k\n",
    "        is_k_prime=isPrime(k)\n",
    "        if(is_k_prime):\n",
    "            print(k)"
   ]
  },
  {
   "cell_type": "code",
   "execution_count": 13,
   "id": "3a09bd29",
   "metadata": {},
   "outputs": [
    {
     "name": "stdout",
     "output_type": "stream",
     "text": [
      "2\n",
      "3\n",
      "5\n",
      "7\n",
      "11\n",
      "13\n",
      "17\n",
      "19\n",
      "23\n",
      "29\n",
      "31\n"
     ]
    }
   ],
   "source": [
    "primeFrom2ToN(33)"
   ]
  },
  {
   "cell_type": "code",
   "execution_count": 14,
   "id": "d53ed1e6",
   "metadata": {},
   "outputs": [],
   "source": [
    "def ncr(n,r):\n",
    "    n_fact=fact(n)\n",
    "    r_fact=fact(r)\n",
    "    n_r_fact=fact(n-r)\n",
    "    ans=n_fact//(r_fact*n_r_fact)\n",
    "    print(ans)"
   ]
  },
  {
   "cell_type": "code",
   "execution_count": 15,
   "id": "92f6a39a",
   "metadata": {},
   "outputs": [
    {
     "name": "stdout",
     "output_type": "stream",
     "text": [
      "10\n"
     ]
    }
   ],
   "source": [
    "ncr(5,2)"
   ]
  },
  {
   "cell_type": "markdown",
   "id": "e0355a65",
   "metadata": {},
   "source": [
    "def fact(v):\n",
    "    v_fact=1\n",
    "    for i in range(1,v+1):\n",
    "        v_fact=v_fact*i\n",
    "    return v_fact\n",
    "       \n",
    "       \n",
    "n_fact=fact(n)\n",
    "r_fact=fact(r)\n",
    "n_r_fact=fact(n-r)\n",
    "ans=n_fact//(r_fact*n_r_fact)\n",
    "print(ans)\n",
    "\n",
    "\n",
    "def ncr(n,r):\n",
    "    n_fact=fact(n)\n",
    "    r_fact=fact(r)\n",
    "    n_r_fact=fact(n-r)\n",
    "    ans=n_fact//(r_fact*n_r_fact)\n",
    "    print(ans)"
   ]
  },
  {
   "cell_type": "code",
   "execution_count": 19,
   "id": "92cc18dc",
   "metadata": {},
   "outputs": [
    {
     "name": "stdout",
     "output_type": "stream",
     "text": [
      "5\n"
     ]
    }
   ],
   "source": [
    "def func(a):\n",
    "    a = a + 10\n",
    "    return a\n",
    "a = 5\n",
    "func(a)\n",
    "print(a)"
   ]
  },
  {
   "cell_type": "code",
   "execution_count": 20,
   "id": "f250632e",
   "metadata": {},
   "outputs": [
    {
     "name": "stdout",
     "output_type": "stream",
     "text": [
      "16\n"
     ]
    }
   ],
   "source": [
    "def square(a):\n",
    "    ans  = a*a\n",
    "    return  ans\n",
    "\n",
    "a = 4\n",
    "a = square(a)\n",
    "print(a)"
   ]
  },
  {
   "cell_type": "markdown",
   "id": "da03a353",
   "metadata": {},
   "source": [
    "# How does functions calling work"
   ]
  },
  {
   "cell_type": "markdown",
   "id": "e61e7ce6",
   "metadata": {},
   "source": [
    "A():              B():          c():\n",
    "   B()            c()\n",
    "           ncr\n",
    "A() ->  A():               B():            C():\n",
    "        print('as')       print('BS')      print('cs')\n",
    "         B()         <->   C()         <->  print('ce')\n",
    "         print('ae\")      print('Bc')\n",
    "           \n",
    "           as     D( The last function will have to finish its work before coming back  to previous function)\n",
    "           Bs     C\n",
    "           cs     B\n",
    "           ce     A(A was the first function to be call. A will be the last fuction to finish)\n",
    "           Be\n",
    "           ae\n",
    "           \n",
    "                \n",
    "D\n",
    "C                        #call stack\n",
    "B\n",
    "A(First in last out)   "
   ]
  },
  {
   "cell_type": "markdown",
   "id": "34e475a0",
   "metadata": {},
   "source": [
    "# Scope of Variables"
   ]
  },
  {
   "cell_type": "markdown",
   "id": "f7536d30",
   "metadata": {},
   "source": [
    "  Local variable     |     Global variable\n",
    "* defined inside     |    *defined outside any function \n",
    "    a function       |"
   ]
  },
  {
   "cell_type": "code",
   "execution_count": 27,
   "id": "6ae78b4a",
   "metadata": {},
   "outputs": [
    {
     "name": "stdout",
     "output_type": "stream",
     "text": [
      "10\n"
     ]
    }
   ],
   "source": [
    "a1=10 #global variable\n",
    "\n",
    "def f1():\n",
    "    b1=12 #local variable\n",
    "        \n",
    "print(a1)\n",
    "        "
   ]
  },
  {
   "cell_type": "code",
   "execution_count": 28,
   "id": "c5e6f202",
   "metadata": {},
   "outputs": [
    {
     "name": "stdout",
     "output_type": "stream",
     "text": [
      "10\n"
     ]
    },
    {
     "ename": "NameError",
     "evalue": "name 'b1' is not defined",
     "output_type": "error",
     "traceback": [
      "\u001b[1;31m---------------------------------------------------------------------------\u001b[0m",
      "\u001b[1;31mNameError\u001b[0m                                 Traceback (most recent call last)",
      "\u001b[1;32m<ipython-input-28-50a5a6219e1a>\u001b[0m in \u001b[0;36m<module>\u001b[1;34m\u001b[0m\n\u001b[0;32m      4\u001b[0m     \u001b[0mb1\u001b[0m\u001b[1;33m=\u001b[0m\u001b[1;36m12\u001b[0m \u001b[1;31m#local variable\u001b[0m\u001b[1;33m\u001b[0m\u001b[1;33m\u001b[0m\u001b[0m\n\u001b[0;32m      5\u001b[0m \u001b[0mprint\u001b[0m\u001b[1;33m(\u001b[0m\u001b[0ma1\u001b[0m\u001b[1;33m)\u001b[0m\u001b[1;33m\u001b[0m\u001b[1;33m\u001b[0m\u001b[0m\n\u001b[1;32m----> 6\u001b[1;33m \u001b[0mprint\u001b[0m\u001b[1;33m(\u001b[0m\u001b[0mb1\u001b[0m\u001b[1;33m)\u001b[0m\u001b[1;33m\u001b[0m\u001b[1;33m\u001b[0m\u001b[0m\n\u001b[0m",
      "\u001b[1;31mNameError\u001b[0m: name 'b1' is not defined"
     ]
    }
   ],
   "source": [
    "a1=10 #global variable\n",
    "\n",
    "def f1():\n",
    "    b1=12 #local variable\n",
    "print(a1)\n",
    "print(b1)"
   ]
  },
  {
   "cell_type": "code",
   "execution_count": 29,
   "id": "44fc182b",
   "metadata": {},
   "outputs": [
    {
     "name": "stdout",
     "output_type": "stream",
     "text": [
      "10\n"
     ]
    },
    {
     "ename": "NameError",
     "evalue": "name 'b1' is not defined",
     "output_type": "error",
     "traceback": [
      "\u001b[1;31m---------------------------------------------------------------------------\u001b[0m",
      "\u001b[1;31mNameError\u001b[0m                                 Traceback (most recent call last)",
      "\u001b[1;32m<ipython-input-29-e14de9f33416>\u001b[0m in \u001b[0;36m<module>\u001b[1;34m\u001b[0m\n\u001b[0;32m      5\u001b[0m \u001b[0mprint\u001b[0m\u001b[1;33m(\u001b[0m\u001b[0ma1\u001b[0m\u001b[1;33m)\u001b[0m\u001b[1;33m\u001b[0m\u001b[1;33m\u001b[0m\u001b[0m\n\u001b[0;32m      6\u001b[0m \u001b[0mf1\u001b[0m\u001b[1;33m(\u001b[0m\u001b[1;33m)\u001b[0m\u001b[1;33m\u001b[0m\u001b[1;33m\u001b[0m\u001b[0m\n\u001b[1;32m----> 7\u001b[1;33m \u001b[0mprint\u001b[0m\u001b[1;33m(\u001b[0m\u001b[0mb1\u001b[0m\u001b[1;33m)\u001b[0m\u001b[1;33m\u001b[0m\u001b[1;33m\u001b[0m\u001b[0m\n\u001b[0m",
      "\u001b[1;31mNameError\u001b[0m: name 'b1' is not defined"
     ]
    }
   ],
   "source": [
    "a1=10 #global variable\n",
    "                            #that you can't print the local variable without calling the function\n",
    "def f1():\n",
    "    b1=12 #local variable     #cant print a local variable outside the functionn print(b1)\n",
    "print(a1)\n",
    "f1()\n",
    "print(b1)        # b1 not available outside the function"
   ]
  },
  {
   "cell_type": "code",
   "execution_count": 30,
   "id": "82173c1f",
   "metadata": {},
   "outputs": [
    {
     "name": "stdout",
     "output_type": "stream",
     "text": [
      "10\n",
      "12\n"
     ]
    },
    {
     "ename": "NameError",
     "evalue": "name 'b1' is not defined",
     "output_type": "error",
     "traceback": [
      "\u001b[1;31m---------------------------------------------------------------------------\u001b[0m",
      "\u001b[1;31mNameError\u001b[0m                                 Traceback (most recent call last)",
      "\u001b[1;32m<ipython-input-30-15c7240ed28a>\u001b[0m in \u001b[0;36m<module>\u001b[1;34m\u001b[0m\n\u001b[0;32m      7\u001b[0m \u001b[0mprint\u001b[0m\u001b[1;33m(\u001b[0m\u001b[0ma1\u001b[0m\u001b[1;33m)\u001b[0m\u001b[1;33m\u001b[0m\u001b[1;33m\u001b[0m\u001b[0m\n\u001b[0;32m      8\u001b[0m \u001b[0mf1\u001b[0m\u001b[1;33m(\u001b[0m\u001b[1;33m)\u001b[0m\u001b[1;33m\u001b[0m\u001b[1;33m\u001b[0m\u001b[0m\n\u001b[1;32m----> 9\u001b[1;33m \u001b[0mprint\u001b[0m\u001b[1;33m(\u001b[0m\u001b[0mb1\u001b[0m\u001b[1;33m)\u001b[0m\u001b[1;33m\u001b[0m\u001b[1;33m\u001b[0m\u001b[0m\n\u001b[0m",
      "\u001b[1;31mNameError\u001b[0m: name 'b1' is not defined"
     ]
    }
   ],
   "source": [
    "a1=10 #global variable\n",
    "\n",
    "def f1():\n",
    "    b1=12 #local variable\n",
    "    print(b1)\n",
    "    \n",
    "print(a1)\n",
    "f1()\n",
    "print(b1) # can't print a local variable outside the function(b1)"
   ]
  },
  {
   "cell_type": "code",
   "execution_count": 31,
   "id": "80ccf724",
   "metadata": {},
   "outputs": [
    {
     "name": "stdout",
     "output_type": "stream",
     "text": [
      "10\n",
      "12\n"
     ]
    }
   ],
   "source": [
    "a1=10 #global variable\n",
    "\n",
    "def f1():\n",
    "    b1=12 #local variable\n",
    "    print(b1)\n",
    "    \n",
    "print(a1)\n",
    "f1()"
   ]
  },
  {
   "cell_type": "code",
   "execution_count": 33,
   "id": "bb409f01",
   "metadata": {},
   "outputs": [
    {
     "name": "stdout",
     "output_type": "stream",
     "text": [
      "10\n",
      "12\n",
      "10\n"
     ]
    }
   ],
   "source": [
    "a2=10 #global variable\n",
    "\n",
    "def f2():                    \n",
    "    b2=12 # local variable \n",
    "    print(b2)  # 2\n",
    "    print(a2)  # 3\n",
    "    # u can print a global variable inside the function as well\n",
    "\n",
    "print(a2) #this statement print first\n",
    "f2()"
   ]
  },
  {
   "cell_type": "code",
   "execution_count": 34,
   "id": "7e697725",
   "metadata": {},
   "outputs": [
    {
     "name": "stdout",
     "output_type": "stream",
     "text": [
      "10\n",
      "12\n",
      "10\n"
     ]
    }
   ],
   "source": [
    "def f3():\n",
    "    b3=12 # local variable\n",
    "    print(b3)\n",
    "    print(a3)\n",
    "\n",
    "a3=10 # global variable\n",
    "print(a3)\n",
    "f3()\n"
   ]
  },
  {
   "cell_type": "code",
   "execution_count": 36,
   "id": "4f1e6abf",
   "metadata": {},
   "outputs": [
    {
     "name": "stdout",
     "output_type": "stream",
     "text": [
      "10\n",
      "12\n",
      "10\n"
     ]
    }
   ],
   "source": [
    "# you cal access any global variable defined before the function call\n",
    "def f3():\n",
    "    b3=12 # local variable\n",
    "    print(b3)\n",
    "    print(a3)\n",
    "   # print(c3)\n",
    "\n",
    "a3=10 # global variable\n",
    "print(a3)\n",
    "f3()\n",
    "c3=20"
   ]
  },
  {
   "cell_type": "code",
   "execution_count": 38,
   "id": "f5300c2c",
   "metadata": {},
   "outputs": [
    {
     "name": "stdout",
     "output_type": "stream",
     "text": [
      "13\n",
      "12\n",
      "140729044379792\n",
      "13\n",
      "140729044379824\n"
     ]
    }
   ],
   "source": [
    "a4=13\n",
    "def f4():\n",
    "    a4=12     #python assumes you want to create a local variable\n",
    "    print(a4)\n",
    "    print(id(a4))\n",
    "print(a4)\n",
    "f4()\n",
    "print(a4)\n",
    "print(id(a4))"
   ]
  },
  {
   "cell_type": "code",
   "execution_count": 39,
   "id": "682c9b4f",
   "metadata": {},
   "outputs": [
    {
     "name": "stdout",
     "output_type": "stream",
     "text": [
      "13\n",
      "12\n",
      "140729044379792\n",
      "12\n",
      "140729044379792\n"
     ]
    }
   ],
   "source": [
    "a4=13\n",
    "def f4():\n",
    "    global a4\n",
    "    a4=12     \n",
    "    print(a4)\n",
    "    print(id(a4))\n",
    "print(a4)\n",
    "f4()\n",
    "print(a4)\n",
    "print(id(a4))"
   ]
  },
  {
   "cell_type": "code",
   "execution_count": 41,
   "id": "54e7482c",
   "metadata": {},
   "outputs": [
    {
     "name": "stdout",
     "output_type": "stream",
     "text": [
      "10\n"
     ]
    }
   ],
   "source": [
    "def f():\n",
    "    b=10\n",
    "    return b\n",
    "x=f()\n",
    "print(x)"
   ]
  },
  {
   "cell_type": "code",
   "execution_count": 42,
   "id": "c0557bf4",
   "metadata": {},
   "outputs": [
    {
     "name": "stdout",
     "output_type": "stream",
     "text": [
      "14\n"
     ]
    }
   ],
   "source": [
    "a = 14\n",
    "def f():\n",
    "    a=12\n",
    "f()\n",
    "print(a)"
   ]
  },
  {
   "cell_type": "code",
   "execution_count": 44,
   "id": "674b8979",
   "metadata": {},
   "outputs": [
    {
     "name": "stdout",
     "output_type": "stream",
     "text": [
      "12\n"
     ]
    }
   ],
   "source": [
    "a=14\n",
    "def f():\n",
    "    global a\n",
    "    a=12\n",
    "f()\n",
    "print(a)"
   ]
  },
  {
   "cell_type": "code",
   "execution_count": 45,
   "id": "6e4ace4e",
   "metadata": {},
   "outputs": [
    {
     "name": "stdout",
     "output_type": "stream",
     "text": [
      "12\n"
     ]
    }
   ],
   "source": [
    "a = 14\n",
    "def f():\n",
    "    a = 12\n",
    "    return a\n",
    "a = f()\n",
    "print(a)"
   ]
  },
  {
   "cell_type": "markdown",
   "id": "8582abdd",
   "metadata": {},
   "source": [
    "# Default parameters in functions"
   ]
  },
  {
   "cell_type": "code",
   "execution_count": 56,
   "id": "b3b70a81",
   "metadata": {},
   "outputs": [
    {
     "name": "stdout",
     "output_type": "stream",
     "text": [
      "9\n",
      "7\n"
     ]
    }
   ],
   "source": [
    "def sum(a,b,c=0):\n",
    "    return a+b+c\n",
    "print(sum(2,3,4))\n",
    "print(sum(3,4))\n",
    "\n"
   ]
  },
  {
   "cell_type": "code",
   "execution_count": 57,
   "id": "61fe2561",
   "metadata": {},
   "outputs": [
    {
     "ename": "SyntaxError",
     "evalue": "non-default argument follows default argument (<ipython-input-57-42d1bc6e1c06>, line 1)",
     "output_type": "error",
     "traceback": [
      "\u001b[1;36m  File \u001b[1;32m\"<ipython-input-57-42d1bc6e1c06>\"\u001b[1;36m, line \u001b[1;32m1\u001b[0m\n\u001b[1;33m    def f(a=0,b,c):\u001b[0m\n\u001b[1;37m          ^\u001b[0m\n\u001b[1;31mSyntaxError\u001b[0m\u001b[1;31m:\u001b[0m non-default argument follows default argument\n"
     ]
    }
   ],
   "source": [
    "# all non default arguments should be before arguments with default values\n",
    "def f(a=0,b,c):\n",
    "    return a+b+c  \n",
    "f(1,2)"
   ]
  },
  {
   "cell_type": "code",
   "execution_count": 62,
   "id": "29e4d846",
   "metadata": {},
   "outputs": [
    {
     "name": "stdout",
     "output_type": "stream",
     "text": [
      "14\n",
      "7\n",
      "10\n"
     ]
    }
   ],
   "source": [
    "def f1(a,b,c=2,d=0):\n",
    "    return a+b+c+d\n",
    "print(f1(2,3,4,5))\n",
    "print(f1(2,3))\n",
    "print(f1(2,3,5))"
   ]
  },
  {
   "cell_type": "code",
   "execution_count": 64,
   "id": "fc3fcd74",
   "metadata": {},
   "outputs": [
    {
     "ename": "SyntaxError",
     "evalue": "non-default argument follows default argument (<ipython-input-64-719fabb4a886>, line 1)",
     "output_type": "error",
     "traceback": [
      "\u001b[1;36m  File \u001b[1;32m\"<ipython-input-64-719fabb4a886>\"\u001b[1;36m, line \u001b[1;32m1\u001b[0m\n\u001b[1;33m    def f(a=0,d=10,b,c):\u001b[0m\n\u001b[1;37m          ^\u001b[0m\n\u001b[1;31mSyntaxError\u001b[0m\u001b[1;31m:\u001b[0m non-default argument follows default argument\n"
     ]
    }
   ],
   "source": [
    "def f(a=0,d=10,b,c):\n",
    "    return a+b+c+d    # all non default arguments should be before arguments with default values\n",
    "f(1,2,4)"
   ]
  },
  {
   "cell_type": "code",
   "execution_count": 65,
   "id": "1ca9f76f",
   "metadata": {},
   "outputs": [
    {
     "name": "stdout",
     "output_type": "stream",
     "text": [
      "14\n",
      "7\n",
      "10\n"
     ]
    },
    {
     "data": {
      "text/plain": [
       "10"
      ]
     },
     "execution_count": 65,
     "metadata": {},
     "output_type": "execute_result"
    }
   ],
   "source": [
    "def f1(a,b,c=2,d=0):\n",
    "    return a+b+c+d\n",
    "print(f1(2,3,4,5))\n",
    "print(f1(2,3))\n",
    "print(f1(2,3,5))\n",
    "\n",
    "f1(2,3,d=3)"
   ]
  },
  {
   "cell_type": "code",
   "execution_count": 66,
   "id": "7c01d809",
   "metadata": {},
   "outputs": [
    {
     "name": "stdout",
     "output_type": "stream",
     "text": [
      "14\n",
      "7\n",
      "10\n"
     ]
    },
    {
     "ename": "TypeError",
     "evalue": "f1() missing 1 required positional argument: 'b'",
     "output_type": "error",
     "traceback": [
      "\u001b[1;31m---------------------------------------------------------------------------\u001b[0m",
      "\u001b[1;31mTypeError\u001b[0m                                 Traceback (most recent call last)",
      "\u001b[1;32m<ipython-input-66-dc0f874d1af3>\u001b[0m in \u001b[0;36m<module>\u001b[1;34m\u001b[0m\n\u001b[0;32m      5\u001b[0m \u001b[0mprint\u001b[0m\u001b[1;33m(\u001b[0m\u001b[0mf1\u001b[0m\u001b[1;33m(\u001b[0m\u001b[1;36m2\u001b[0m\u001b[1;33m,\u001b[0m\u001b[1;36m3\u001b[0m\u001b[1;33m,\u001b[0m\u001b[1;36m5\u001b[0m\u001b[1;33m)\u001b[0m\u001b[1;33m)\u001b[0m\u001b[1;33m\u001b[0m\u001b[1;33m\u001b[0m\u001b[0m\n\u001b[0;32m      6\u001b[0m \u001b[1;33m\u001b[0m\u001b[0m\n\u001b[1;32m----> 7\u001b[1;33m \u001b[0mf1\u001b[0m\u001b[1;33m(\u001b[0m\u001b[1;36m2\u001b[0m\u001b[1;33m,\u001b[0m\u001b[0mc\u001b[0m\u001b[1;33m=\u001b[0m\u001b[1;36m3\u001b[0m\u001b[1;33m,\u001b[0m\u001b[0md\u001b[0m\u001b[1;33m=\u001b[0m\u001b[1;36m3\u001b[0m\u001b[1;33m)\u001b[0m\u001b[1;33m\u001b[0m\u001b[1;33m\u001b[0m\u001b[0m\n\u001b[0m",
      "\u001b[1;31mTypeError\u001b[0m: f1() missing 1 required positional argument: 'b'"
     ]
    }
   ],
   "source": [
    "def f1(a,b,c=2,d=0):\n",
    "    return a+b+c+d\n",
    "print(f1(2,3,4,5))\n",
    "print(f1(2,3))\n",
    "print(f1(2,3,5))\n",
    "\n",
    "f1(2,c=3,d=3)"
   ]
  },
  {
   "cell_type": "code",
   "execution_count": 67,
   "id": "a6276910",
   "metadata": {},
   "outputs": [
    {
     "name": "stdout",
     "output_type": "stream",
     "text": [
      "14\n",
      "7\n",
      "10\n"
     ]
    },
    {
     "data": {
      "text/plain": [
       "18"
      ]
     },
     "execution_count": 67,
     "metadata": {},
     "output_type": "execute_result"
    }
   ],
   "source": [
    "def f1(a,b,c=2,d=0):\n",
    "    return a+b+c+d\n",
    "print(f1(2,3,4,5))\n",
    "print(f1(2,3))\n",
    "print(f1(2,3,5))\n",
    "\n",
    "f1(b=2,c=3,d=3,a=10)"
   ]
  },
  {
   "cell_type": "code",
   "execution_count": 68,
   "id": "da587aa0",
   "metadata": {},
   "outputs": [
    {
     "name": "stdout",
     "output_type": "stream",
     "text": [
      "21\n"
     ]
    }
   ],
   "source": [
    "def function(a,b,c=1):\n",
    "    return a+b-c\n",
    "value = function(10,12)\n",
    "print(value)"
   ]
  },
  {
   "cell_type": "code",
   "execution_count": 69,
   "id": "330d243a",
   "metadata": {},
   "outputs": [
    {
     "name": "stdout",
     "output_type": "stream",
     "text": [
      "17\n"
     ]
    }
   ],
   "source": [
    "def function(a,b,c=1):\n",
    "    return a+b-c\n",
    "value = function(10,12,5)\n",
    "print(value)"
   ]
  },
  {
   "cell_type": "code",
   "execution_count": 70,
   "id": "b1962414",
   "metadata": {},
   "outputs": [
    {
     "name": "stdout",
     "output_type": "stream",
     "text": [
      "11\n"
     ]
    }
   ],
   "source": [
    "def function(a,b,c=1,d=5):\n",
    "    return a+b+c+d\n",
    "value = function(1,2,d=7)\n",
    "print(value)"
   ]
  }
 ],
 "metadata": {
  "kernelspec": {
   "display_name": "Python 3",
   "language": "python",
   "name": "python3"
  },
  "language_info": {
   "codemirror_mode": {
    "name": "ipython",
    "version": 3
   },
   "file_extension": ".py",
   "mimetype": "text/x-python",
   "name": "python",
   "nbconvert_exporter": "python",
   "pygments_lexer": "ipython3",
   "version": "3.8.8"
  }
 },
 "nbformat": 4,
 "nbformat_minor": 5
}
