{
 "cells": [
  {
   "cell_type": "markdown",
   "id": "1c4e4e5f",
   "metadata": {},
   "source": [
    "# Fibonacci Member\n",
    "Send Feedback\n",
    "Given a number N, figure out if it is a member of fibonacci series or not. Return true if the number is member of fibonacci series else false.\n",
    "Fibonacci Series is defined by the recurrence\n",
    "    F(n) = F(n-1) + F(n-2)\n",
    "where F(0) = 0 and F(1) = 1\n",
    "\n",
    "\n",
    "Input Format :\n",
    "Integer N\n",
    "Output Format :\n",
    "true or false\n",
    "Constraints :\n",
    "0 <= n <= 10^4\n",
    "Sample Input 1 :\n",
    "5\n",
    "Sample Output 1 :\n",
    "true\n",
    "Sample Input 2 :\n",
    "14\n",
    "Sample Output 2 :\n",
    "false    "
   ]
  },
  {
   "cell_type": "code",
   "execution_count": 1,
   "id": "648ce440",
   "metadata": {},
   "outputs": [
    {
     "name": "stdout",
     "output_type": "stream",
     "text": [
      "3\n",
      "true\n"
     ]
    }
   ],
   "source": [
    "n=int(input())\n",
    "x = 0\n",
    "y = 1\n",
    "z = 0\n",
    "while(n>=z):  \n",
    "    x =y\n",
    "    y =z\n",
    "    z = x+y\n",
    "\n",
    "  \n",
    "\n",
    "\n",
    "if n == y:\n",
    "    print(\"true\")\n",
    "else:\n",
    "    print(\"false\")\n"
   ]
  }
 ],
 "metadata": {
  "kernelspec": {
   "display_name": "Python 3",
   "language": "python",
   "name": "python3"
  },
  "language_info": {
   "codemirror_mode": {
    "name": "ipython",
    "version": 3
   },
   "file_extension": ".py",
   "mimetype": "text/x-python",
   "name": "python",
   "nbconvert_exporter": "python",
   "pygments_lexer": "ipython3",
   "version": "3.8.8"
  }
 },
 "nbformat": 4,
 "nbformat_minor": 5
}
